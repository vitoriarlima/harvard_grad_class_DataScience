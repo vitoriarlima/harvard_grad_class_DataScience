{
 "cells": [
  {
   "cell_type": "markdown",
   "metadata": {
    "tags": []
   },
   "source": [
    "# <img style=\"float: left; padding-right: 10px; width: 45px\" src=\"https://raw.githubusercontent.com/Harvard-IACS/2018-CS109A/master/content/styles/iacs.png\"> CS109A Introduction to Data Science \n",
    "\n",
    "## Homework 0: Find the mystery number \n",
    "\n",
    "**Harvard University**<br/>\n",
    "**Fall 2021**<br/>\n",
    "**Instructors**: Natesh Pillai and Pavlos Protopapas\n",
    "\n",
    "\n",
    "<hr style='height:2px'>\n",
    "\n",
    "---"
   ]
  },
  {
   "cell_type": "code",
   "execution_count": 77,
   "metadata": {
    "deletable": false,
    "editable": false
   },
   "outputs": [
    {
     "data": {
      "text/html": [
       "<style>\n",
       "blockquote { background: #AEDE94; }\n",
       "h1 { \n",
       "    padding-top: 25px;\n",
       "    padding-bottom: 25px;\n",
       "    text-align: left; \n",
       "    padding-left: 10px;\n",
       "    background-color: #DDDDDD; \n",
       "    color: black;\n",
       "}\n",
       "h2 { \n",
       "    padding-top: 10px;\n",
       "    padding-bottom: 10px;\n",
       "    text-align: left; \n",
       "    padding-left: 5px;\n",
       "    background-color: #EEEEEE; \n",
       "    color: black;\n",
       "}\n",
       "\n",
       "div.exercise {\n",
       "\tbackground-color: #ffcccc;\n",
       "\tborder-color: #E9967A; \t\n",
       "\tborder-left: 5px solid #800080; \n",
       "\tpadding: 0.5em;\n",
       "}\n",
       "div.discussion {\n",
       "\tbackground-color: #ccffcc;\n",
       "\tborder-color: #88E97A;\n",
       "\tborder-left: 5px solid #0A8000; \n",
       "\tpadding: 0.5em;\n",
       "}\n",
       "div.theme {\n",
       "\tbackground-color: #DDDDDD;\n",
       "\tborder-color: #E9967A; \t\n",
       "\tborder-left: 5px solid #800080; \n",
       "\tpadding: 0.5em;\n",
       "\tfont-size: 18pt;\n",
       "}\n",
       "div.gc { \n",
       "\tbackground-color: #AEDE94;\n",
       "\tborder-color: #E9967A; \t \n",
       "\tborder-left: 5px solid #800080; \n",
       "\tpadding: 0.5em;\n",
       "\tfont-size: 12pt;\n",
       "}\n",
       "p.q1 { \n",
       "    padding-top: 5px;\n",
       "    padding-bottom: 5px;\n",
       "    text-align: left; \n",
       "    padding-left: 5px;\n",
       "    background-color: #EEEEEE; \n",
       "    color: black;\n",
       "}\n",
       "header {\n",
       "   padding-top: 35px;\n",
       "    padding-bottom: 35px;\n",
       "    text-align: left; \n",
       "    padding-left: 10px;\n",
       "    background-color: #DDDDDD; \n",
       "    color: black;\n",
       "}\n",
       "</style>\n",
       "\n"
      ],
      "text/plain": [
       "<IPython.core.display.HTML object>"
      ]
     },
     "execution_count": 77,
     "metadata": {},
     "output_type": "execute_result"
    }
   ],
   "source": [
    "## RUN THIS CELL TO PROPERLY HIGHLIGHT THE EXERCISES\n",
    "import requests\n",
    "from IPython.core.display import HTML\n",
    "styles = requests.get(\"https://raw.githubusercontent.com/Harvard-IACS/2019-CS109B/master/content/styles/cs109.css\").text\n",
    "HTML(styles)"
   ]
  },
  {
   "cell_type": "markdown",
   "metadata": {
    "tags": []
   },
   "source": [
    "## Welcome to CS109a!\n",
    "\n",
    "This homework is meant to assess your level of comfort with the prerequisites for this class. If you find that the following exercises, either the coding ones or the math ones, are hard for you might want to wait another year before taking CS109a.  Another goal of this homework is for you to set up the necessary programming environment.\n",
    "\n",
    "Also check [Preparing for this course](https://harvard-iacs.github.io/2021-CS109A/pages/preparation.html) for more details on how to better prepare yourself for CS1009A. \n",
    "\n",
    "In this homework, you are looking for a mystery number! It will be calculated by starting with a value of 0 and adding the results of calculations as you go along.\n",
    "\n"
   ]
  },
  {
   "cell_type": "code",
   "execution_count": 78,
   "metadata": {
    "deletable": false,
    "editable": false
   },
   "outputs": [],
   "source": [
    "# initialize mystery \n",
    "mystery = 0"
   ]
  },
  {
   "cell_type": "markdown",
   "metadata": {
    "tags": []
   },
   "source": [
    "<div class='exercise'> <b> Exercise 1: Python </b></div>\n",
    "\n",
    "Solid programming experience, not necessarily in Python, is a prerequisite for this class. There will not be enough time to learn programming as well as the content of this class once the semester starts. Students who have attempted such reported feeling overwhelmed, and it can drastically affect your pleasure in learning the core concepts of the course. If you have programming experience, but not with Python, you will need to pick up the basics of Python on your own before the start of the semester. \n",
    "\n",
    "#### One good starting point is the classic [Python Tutorial](https://docs.python.org/3/tutorial/).\n",
    "\n",
    "### 1.1 Accessing the class material\n",
    "\n",
    "All class material, except homework, will be in the class GitHub repository. Clone this repository and then copy the contents in a different directory so you can make changes.\n",
    "\n",
    "* Open the Terminal in your computer and go to the directory where you want to clone the repo. Then run \n",
    "```\n",
    "git clone https://github.com/Harvard-IACS/2021-CS109A.git`\n",
    "```\n",
    "* If you have already cloned the repo, go inside the '2021-CS109A/' directory and run \n",
    "```\n",
    "git pull\n",
    "```\n",
    "\n",
    "* If you change the notebooks and then run ```git pull``` you will get a \"merge conflict\" error and the pull will fail.\n",
    "\n",
    "One way to deal with this is to create a `playground/` folder and copy the folder with the notebook with which you want to work there.\n",
    "\n",
    "A quick tutorial in git can be found [here](https://github.com/NREL/SAM/wiki/Basic-git-tutorial)."
   ]
  },
  {
   "cell_type": "markdown",
   "metadata": {
    "deletable": false,
    "editable": false
   },
   "source": [
    "### 1.2 Virtual environments and `.yml` files.\n",
    "\n",
    "Before you do any installation, **create a virtual environment.** We cannot stress this enough!\n",
    " \n",
    "Isolating your projects inside specific environments helps you manage software dependencies, allowing you to have different versions of packages in each environment. This is way easier than having to make sure all installed packages are compatable across all your projects. This way you can recover from serious mess-ups by deleting an environment and not having to worry about how it affects your entire system.\n",
    " \n",
    "The two most popular tools for setting up environments are:\n",
    "\n",
    "- `conda` (a package and environment manager) \n",
    "- `pip` (a Python package manager) with `virtualenv` (a tool for creating environments)\n",
    "\n",
    "We recommend using `conda` package installation and environments. `conda` installs packages from the Anaconda Repository and Anaconda Cloud, whereas `pip` installs packages from PyPI. Even if you are using `conda` as your primary package installer and are inside a `conda` environment, you can still use `pip install` for those rare packages that are not included in the `conda` ecosystem. \n",
    "\n",
    "See here for more details on how to manage [Conda Environments](https://docs.conda.io/projects/conda/en/latest/user-guide/tasks/manage-environments.html).\n",
    "\n",
    "#### What is a `.yml` file? \n",
    "\n",
    "It's a file that lists all the necessary libraries we will need in this class bundled together. See exercise below on how to create an environment using a `.yml` file."
   ]
  },
  {
   "cell_type": "markdown",
   "metadata": {
    "jp-MarkdownHeadingCollapsed": true,
    "tags": []
   },
   "source": [
    "### 1.3  Getting started!\n",
    "\n",
    "In 1.1, you should have cloned the 2021-CS109A git repository in your local machine.\n",
    "\n",
    "Now, let's use the cs109a.yml file to create a virtual enviroment:</div>\n",
    "\n",
    "``` \n",
    "$ cd /2021-CS109A/content/HW0/\n",
    "$ conda env create -f cs109a.yml\n",
    "$ conda activate cs109a\n",
    "```   \n",
    "The `cs109a.yml` file includes all the packages that you will need for the course. It should be in the same directory as this notebook. "
   ]
  },
  {
   "cell_type": "markdown",
   "metadata": {
    "tags": []
   },
   "source": [
    "### 1.4  Importing and checking for all the necessary libraries: \n",
    "\n",
    "#### Besides being open source, Python is very flexible and many highly specialized libraries have been written for it (which you can import and use):\n",
    "\n",
    "- One such library is **numpy**: [https://numpy.org](https://numpy.org). We will cover it in class but you are encouraged to look at the documentation to learn the basics. \n",
    "\n",
    "- Another very important library is **matplotlib**: [https://matplotlib.org](https://matplotlib.org), and its sister `seaborn`: [https://seaborn.pydata.org](https://seaborn.pydata.org). \n",
    "\n",
    "- We will be using Jupyter notebooks: [https://jupyter.org](https://jupyter.org). Jupyter notebooks can be nicelly used within the JupyterLab environment (for more details see link provided).\n",
    "\n",
    "- Data wrangling: **pandas**: https://pandas.pydata.org\n",
    "\n",
    "- Machine learning algorithms: **sklearn** - [https://scikit-learn.org/stable/](https://scikit-learn.org/stable/)\n",
    "\n",
    "- Scientific formulas: **scipy** - [https://www.scipy.org](https://www.scipy.org)\n",
    "\n",
    "- Packages for statistical analysis: **statsmodels** - [https://www.statsmodels.org/](https://www.statsmodels.org/)<br>\n",
    " statsmodels examples: https://www.statsmodels.org/stable/examples/index.html#regression<BR>\n",
    "\n",
    "\n",
    "**Note**: The `.yml` file we provided you can install all these libraries for you."
   ]
  },
  {
   "cell_type": "markdown",
   "metadata": {
    "deletable": false,
    "editable": false
   },
   "source": [
    "<div class='exercise'> <b> Exercise 2:  Run the following five cells of code: </b></div> "
   ]
  },
  {
   "cell_type": "code",
   "execution_count": 79,
   "metadata": {
    "deletable": false,
    "editable": false
   },
   "outputs": [],
   "source": [
    "# See the \"import ... as ...\" contructs below: \n",
    "# they're aliases/shortcuts for the package names. As a result, \n",
    "# we can call methods such as plt.plot() instead of matplotlib.pyplot.plot()\n",
    "\n",
    "import random\n",
    "import numpy as np\n",
    "import scipy as sp\n",
    "import pandas as pd\n",
    "import scipy.stats\n",
    "import matplotlib.pyplot as plt\n",
    "\n",
    "# The line starting with % is a jupyter \"magic\" command, \n",
    "# and is not part of the Python language.\n",
    "# In this case we're just telling the plotting library to draw things on\n",
    "# the notebook, instead of on a separate window.\n",
    "\n",
    "%matplotlib inline"
   ]
  },
  {
   "cell_type": "code",
   "execution_count": 80,
   "metadata": {
    "deletable": false,
    "editable": false
   },
   "outputs": [],
   "source": [
    "from sklearn import datasets\n",
    "iris = datasets.load_iris()\n",
    "digits = datasets.load_digits()"
   ]
  },
  {
   "cell_type": "code",
   "execution_count": 81,
   "metadata": {
    "deletable": false,
    "editable": false
   },
   "outputs": [],
   "source": [
    "# update mystery\n",
    "mystery = mystery + digits.target[2]"
   ]
  },
  {
   "cell_type": "code",
   "execution_count": 82,
   "metadata": {
    "deletable": false,
    "editable": false
   },
   "outputs": [
    {
     "data": {
      "image/png": "[encoded data removed]",
      "text/plain": [
       "<Figure size 432x288 with 1 Axes>"
      ]
     },
     "metadata": {
      "needs_background": "light"
     },
     "output_type": "display_data"
    }
   ],
   "source": [
    "from scipy import misc\n",
    "\n",
    "face = misc.face()\n",
    "plt.imshow(face)\n",
    "plt.show() # you should see a racoon"
   ]
  },
  {
   "cell_type": "code",
   "execution_count": 83,
   "metadata": {
    "deletable": false,
    "editable": false
   },
   "outputs": [
    {
     "data": {
      "text/plain": [
       "25"
      ]
     },
     "execution_count": 83,
     "metadata": {},
     "output_type": "execute_result"
    }
   ],
   "source": [
    "# update mystery\n",
    "mystery = mystery + face[3][880][0]\n",
    "mystery"
   ]
  },
  {
   "cell_type": "code",
   "execution_count": 84,
   "metadata": {},
   "outputs": [
    {
     "data": {
      "text/plain": [
       "23"
      ]
     },
     "execution_count": 84,
     "metadata": {},
     "output_type": "execute_result"
    }
   ],
   "source": [
    "face[3][880][0]"
   ]
  },
  {
   "cell_type": "markdown",
   "metadata": {},
   "source": [
    "Now, in this last cell, we'll test the `statsmodels` library and look at some tabular data. "
   ]
  },
  {
   "cell_type": "code",
   "execution_count": 85,
   "metadata": {
    "deletable": false,
    "editable": false
   },
   "outputs": [
    {
     "name": "stdout",
     "output_type": "stream",
     "text": [
      "26\n"
     ]
    },
    {
     "data": {
      "text/html": [
       "<div>\n",
       "<style scoped>\n",
       "    .dataframe tbody tr th:only-of-type {\n",
       "        vertical-align: middle;\n",
       "    }\n",
       "\n",
       "    .dataframe tbody tr th {\n",
       "        vertical-align: top;\n",
       "    }\n",
       "\n",
       "    .dataframe thead th {\n",
       "        text-align: right;\n",
       "    }\n",
       "</style>\n",
       "<table border=\"1\" class=\"dataframe\">\n",
       "  <thead>\n",
       "    <tr style=\"text-align: right;\">\n",
       "      <th></th>\n",
       "      <th>dept</th>\n",
       "      <th>Region</th>\n",
       "      <th>Department</th>\n",
       "      <th>Crime_pers</th>\n",
       "      <th>Crime_prop</th>\n",
       "      <th>Literacy</th>\n",
       "      <th>Donations</th>\n",
       "      <th>Infants</th>\n",
       "      <th>Suicides</th>\n",
       "      <th>MainCity</th>\n",
       "      <th>...</th>\n",
       "      <th>Crime_parents</th>\n",
       "      <th>Infanticide</th>\n",
       "      <th>Donation_clergy</th>\n",
       "      <th>Lottery</th>\n",
       "      <th>Desertion</th>\n",
       "      <th>Instruction</th>\n",
       "      <th>Prostitutes</th>\n",
       "      <th>Distance</th>\n",
       "      <th>Area</th>\n",
       "      <th>Pop1831</th>\n",
       "    </tr>\n",
       "  </thead>\n",
       "  <tbody>\n",
       "    <tr>\n",
       "      <th>0</th>\n",
       "      <td>1</td>\n",
       "      <td>E</td>\n",
       "      <td>Ain</td>\n",
       "      <td>28870</td>\n",
       "      <td>15890</td>\n",
       "      <td>37</td>\n",
       "      <td>5098</td>\n",
       "      <td>33120</td>\n",
       "      <td>35039</td>\n",
       "      <td>2:Med</td>\n",
       "      <td>...</td>\n",
       "      <td>71</td>\n",
       "      <td>60</td>\n",
       "      <td>69</td>\n",
       "      <td>41</td>\n",
       "      <td>55</td>\n",
       "      <td>46</td>\n",
       "      <td>13</td>\n",
       "      <td>218.372</td>\n",
       "      <td>5762</td>\n",
       "      <td>346.03</td>\n",
       "    </tr>\n",
       "    <tr>\n",
       "      <th>1</th>\n",
       "      <td>2</td>\n",
       "      <td>N</td>\n",
       "      <td>Aisne</td>\n",
       "      <td>26226</td>\n",
       "      <td>5521</td>\n",
       "      <td>51</td>\n",
       "      <td>8901</td>\n",
       "      <td>14572</td>\n",
       "      <td>12831</td>\n",
       "      <td>2:Med</td>\n",
       "      <td>...</td>\n",
       "      <td>4</td>\n",
       "      <td>82</td>\n",
       "      <td>36</td>\n",
       "      <td>38</td>\n",
       "      <td>82</td>\n",
       "      <td>24</td>\n",
       "      <td>327</td>\n",
       "      <td>65.945</td>\n",
       "      <td>7369</td>\n",
       "      <td>513.00</td>\n",
       "    </tr>\n",
       "    <tr>\n",
       "      <th>2</th>\n",
       "      <td>3</td>\n",
       "      <td>C</td>\n",
       "      <td>Allier</td>\n",
       "      <td>26747</td>\n",
       "      <td>7925</td>\n",
       "      <td>13</td>\n",
       "      <td>10973</td>\n",
       "      <td>17044</td>\n",
       "      <td>114121</td>\n",
       "      <td>2:Med</td>\n",
       "      <td>...</td>\n",
       "      <td>46</td>\n",
       "      <td>42</td>\n",
       "      <td>76</td>\n",
       "      <td>66</td>\n",
       "      <td>16</td>\n",
       "      <td>85</td>\n",
       "      <td>34</td>\n",
       "      <td>161.927</td>\n",
       "      <td>7340</td>\n",
       "      <td>298.26</td>\n",
       "    </tr>\n",
       "    <tr>\n",
       "      <th>3</th>\n",
       "      <td>4</td>\n",
       "      <td>E</td>\n",
       "      <td>Basses-Alpes</td>\n",
       "      <td>12935</td>\n",
       "      <td>7289</td>\n",
       "      <td>46</td>\n",
       "      <td>2733</td>\n",
       "      <td>23018</td>\n",
       "      <td>14238</td>\n",
       "      <td>1:Sm</td>\n",
       "      <td>...</td>\n",
       "      <td>70</td>\n",
       "      <td>12</td>\n",
       "      <td>37</td>\n",
       "      <td>80</td>\n",
       "      <td>32</td>\n",
       "      <td>29</td>\n",
       "      <td>2</td>\n",
       "      <td>351.399</td>\n",
       "      <td>6925</td>\n",
       "      <td>155.90</td>\n",
       "    </tr>\n",
       "    <tr>\n",
       "      <th>4</th>\n",
       "      <td>5</td>\n",
       "      <td>E</td>\n",
       "      <td>Hautes-Alpes</td>\n",
       "      <td>17488</td>\n",
       "      <td>8174</td>\n",
       "      <td>69</td>\n",
       "      <td>6962</td>\n",
       "      <td>23076</td>\n",
       "      <td>16171</td>\n",
       "      <td>1:Sm</td>\n",
       "      <td>...</td>\n",
       "      <td>22</td>\n",
       "      <td>23</td>\n",
       "      <td>64</td>\n",
       "      <td>79</td>\n",
       "      <td>35</td>\n",
       "      <td>7</td>\n",
       "      <td>1</td>\n",
       "      <td>320.280</td>\n",
       "      <td>5549</td>\n",
       "      <td>129.10</td>\n",
       "    </tr>\n",
       "  </tbody>\n",
       "</table>\n",
       "<p>5 rows × 23 columns</p>\n",
       "</div>"
      ],
      "text/plain": [
       "   dept Region    Department  Crime_pers  Crime_prop  Literacy  Donations  \\\n",
       "0     1      E           Ain       28870       15890        37       5098   \n",
       "1     2      N         Aisne       26226        5521        51       8901   \n",
       "2     3      C        Allier       26747        7925        13      10973   \n",
       "3     4      E  Basses-Alpes       12935        7289        46       2733   \n",
       "4     5      E  Hautes-Alpes       17488        8174        69       6962   \n",
       "\n",
       "   Infants  Suicides MainCity  ...  Crime_parents  Infanticide  \\\n",
       "0    33120     35039    2:Med  ...             71           60   \n",
       "1    14572     12831    2:Med  ...              4           82   \n",
       "2    17044    114121    2:Med  ...             46           42   \n",
       "3    23018     14238     1:Sm  ...             70           12   \n",
       "4    23076     16171     1:Sm  ...             22           23   \n",
       "\n",
       "   Donation_clergy  Lottery  Desertion  Instruction  Prostitutes  Distance  \\\n",
       "0               69       41         55           46           13   218.372   \n",
       "1               36       38         82           24          327    65.945   \n",
       "2               76       66         16           85           34   161.927   \n",
       "3               37       80         32           29            2   351.399   \n",
       "4               64       79         35            7            1   320.280   \n",
       "\n",
       "   Area  Pop1831  \n",
       "0  5762   346.03  \n",
       "1  7369   513.00  \n",
       "2  7340   298.26  \n",
       "3  6925   155.90  \n",
       "4  5549   129.10  \n",
       "\n",
       "[5 rows x 23 columns]"
      ]
     },
     "execution_count": 85,
     "metadata": {},
     "output_type": "execute_result"
    }
   ],
   "source": [
    "import statsmodels.api as sm\n",
    "import statsmodels.formula.api as smf\n",
    "\n",
    "# Load data\n",
    "dat = sm.datasets.get_rdataset(\"Guerry\", \"HistData\").data\n",
    "\n",
    "# update mystery\n",
    "mystery = mystery + int(dat.Literacy.iloc[1]/50)\n",
    "print(mystery)\n",
    "\n",
    "dat.head()"
   ]
  },
  {
   "cell_type": "code",
   "execution_count": 86,
   "metadata": {},
   "outputs": [
    {
     "data": {
      "text/plain": [
       "1.02"
      ]
     },
     "execution_count": 86,
     "metadata": {},
     "output_type": "execute_result"
    }
   ],
   "source": [
    "int(dat.Literacy.iloc[1])/50\n",
    "#int(dat.Literacy.iloc[1]/5)\n",
    "\n"
   ]
  },
  {
   "cell_type": "markdown",
   "metadata": {
    "deletable": false,
    "editable": false
   },
   "source": [
    "<div class='exercise'> <b> Exercise 3:  Let's write some Python code! </b></div>\n",
    "\n",
    "**3.1**: Write a function to calculate the first `num` Fibonacci Numbers (`num` will be an integer), and put them in a list. Then **run** your function to create the list for `num=50`. Use `assert` to check if the `num` passed in the argument of the function is an integer and throw an error if it's not. \n",
    "\n",
    "**Note:** we encourage you to write this from scratch. Create a Python list with the first 2 Fibonacci Numbers by hardcoding them: [0, 1], and then append the rest of the elements of the list by using the previous too.\n",
    "    \n",
    "You **may not** use `numpy`; use Python lists.\n"
   ]
  },
  {
   "cell_type": "code",
   "execution_count": 88,
   "metadata": {
    "deletable": false
   },
   "outputs": [],
   "source": [
    "def fib(num:int, msg: str):\n",
    "    \"\"\"(This is called a docstring, contains info about the function)\n",
    "       This function calculates the first `num` numbers in the \n",
    "       Fibonacci sequence.\n",
    "       ----\n",
    "       Arguments: \n",
    "           num: the number of numbers to create\n",
    "           msg: a message to output before performing the calculation\n",
    "       ----\n",
    "       Returns: a list containing those numbers\n",
    "    \"\"\"\n",
    "    # your code here\n",
    "    \n",
    "    assert type(num) == int, \"Input number must be integer\"\n",
    "    exit;\n",
    "\n",
    "    \n",
    "    print(msg)\n",
    "    fib_list = [0, 1]\n",
    "    \n",
    "    for i in range(2, num):\n",
    "        fib_list.append(fib_list[i-1] + fib_list[i-2])\n",
    "        \n",
    "        \n",
    "    # end of your code here \n",
    "    \n",
    "    return fib_list"
   ]
  },
  {
   "cell_type": "markdown",
   "metadata": {
    "deletable": false,
    "editable": false
   },
   "source": [
    "**3.2**: Generate the first 50 Fibonacci numbers and name it `fibonaccis`."
   ]
  },
  {
   "cell_type": "code",
   "execution_count": 89,
   "metadata": {
    "deletable": false
   },
   "outputs": [
    {
     "name": "stdout",
     "output_type": "stream",
     "text": [
      "lalala\n",
      "[0, 1, 1, 2, 3, 5, 8, 13, 21, 34, 55, 89, 144, 233, 377, 610, 987, 1597, 2584, 4181, 6765, 10946, 17711, 28657, 46368, 75025, 121393, 196418, 317811, 514229, 832040, 1346269, 2178309, 3524578, 5702887, 9227465, 14930352, 24157817, 39088169, 63245986, 102334155, 165580141, 267914296, 433494437, 701408733, 1134903170, 1836311903, 2971215073, 4807526976, 7778742049]\n"
     ]
    }
   ],
   "source": [
    "# your code here\n",
    "\n",
    "fibonacci = []\n",
    "fibonacci = fib(50, \"lalala\")\n",
    "print(fibonacci)\n"
   ]
  },
  {
   "cell_type": "markdown",
   "metadata": {
    "deletable": false,
    "editable": false
   },
   "source": [
    "**3.3**: Using [list slicing](https://docs.python.org/3/tutorial/introduction.html#lists), reverse the list."
   ]
  },
  {
   "cell_type": "code",
   "execution_count": 90,
   "metadata": {
    "deletable": false
   },
   "outputs": [
    {
     "data": {
      "text/plain": [
       "[7778742049,\n",
       " 4807526976,\n",
       " 2971215073,\n",
       " 1836311903,\n",
       " 1134903170,\n",
       " 701408733,\n",
       " 433494437,\n",
       " 267914296,\n",
       " 165580141,\n",
       " 102334155,\n",
       " 63245986,\n",
       " 39088169,\n",
       " 24157817,\n",
       " 14930352,\n",
       " 9227465,\n",
       " 5702887,\n",
       " 3524578,\n",
       " 2178309,\n",
       " 1346269,\n",
       " 832040,\n",
       " 514229,\n",
       " 317811,\n",
       " 196418,\n",
       " 121393,\n",
       " 75025,\n",
       " 46368,\n",
       " 28657,\n",
       " 17711,\n",
       " 10946,\n",
       " 6765,\n",
       " 4181,\n",
       " 2584,\n",
       " 1597,\n",
       " 987,\n",
       " 610,\n",
       " 377,\n",
       " 233,\n",
       " 144,\n",
       " 89,\n",
       " 55,\n",
       " 34,\n",
       " 21,\n",
       " 13,\n",
       " 8,\n",
       " 5,\n",
       " 3,\n",
       " 2,\n",
       " 1,\n",
       " 1,\n",
       " 0]"
      ]
     },
     "execution_count": 90,
     "metadata": {},
     "output_type": "execute_result"
    }
   ],
   "source": [
    "# your code here\n",
    "#fibonacci.reverse()\n",
    "fibonacci[::-1]\n"
   ]
  },
  {
   "cell_type": "code",
   "execution_count": 91,
   "metadata": {},
   "outputs": [
    {
     "name": "stdout",
     "output_type": "stream",
     "text": [
      "[7778742049, 4807526976, 2971215073, 1836311903, 1134903170, 701408733, 433494437, 267914296, 165580141, 102334155, 63245986, 39088169, 24157817, 14930352, 9227465, 5702887, 3524578, 2178309, 1346269, 832040, 514229, 317811, 196418, 121393, 75025, 46368, 28657, 17711, 10946, 6765, 4181, 2584, 1597, 987, 610, 377, 233, 144, 89, 55, 34, 21, 13, 8, 5, 3, 2, 1, 1, 0]\n"
     ]
    }
   ],
   "source": [
    "\n",
    "fibonacci = fibonacci[::-1]\n",
    "\n",
    "print (fibonacci)"
   ]
  },
  {
   "cell_type": "markdown",
   "metadata": {
    "tags": []
   },
   "source": [
    "**3.4**: Python lists: write code to add the $45^{th}$ element to the mystery number.\n",
    "\n",
    "Hint: we're using the convention that element 0 is the considered the '1st' element"
   ]
  },
  {
   "cell_type": "code",
   "execution_count": 92,
   "metadata": {
    "deletable": false
   },
   "outputs": [
    {
     "name": "stdout",
     "output_type": "stream",
     "text": [
      "5\n",
      "31\n"
     ]
    }
   ],
   "source": [
    "# your code here\n",
    "print(fibonacci[44])\n",
    "\n",
    "#update mystery\n",
    "\n",
    "mystery = mystery + fibonacci[44]\n",
    "print(mystery)\n",
    "\n"
   ]
  },
  {
   "cell_type": "markdown",
   "metadata": {
    "deletable": false
   },
   "source": [
    "**3.5**: Check to see if the number 34 is within your `fibonacci` list. If 34 is within your `fibonacci` list, add 1 to the `mystery` number (1 represents True). If 34 isn't within the list, do not add anything to the mystery number."
   ]
  },
  {
   "cell_type": "code",
   "execution_count": 93,
   "metadata": {
    "deletable": false
   },
   "outputs": [
    {
     "name": "stdout",
     "output_type": "stream",
     "text": [
      "32\n"
     ]
    }
   ],
   "source": [
    "# your code here\n",
    "\n",
    "# Checking if 34 exists in list\n",
    "# using loop\n",
    "for i in fibonacci:\n",
    "    if(i == 34) :\n",
    "        #print (\"Element Exists\")\n",
    "         mystery = mystery + 1\n",
    "    else:\n",
    "         mystery = mystery + 0\n",
    "            \n",
    "            \n",
    "print(mystery)"
   ]
  },
  {
   "cell_type": "markdown",
   "metadata": {
    "deletable": false
   },
   "source": [
    "**3.6:** Fill in the `.sample()` input parameters below to generate 10,000 random numbers in [1, 1,000,000) and store them in the variable `random_numbers`."
   ]
  },
  {
   "cell_type": "code",
   "execution_count": 94,
   "metadata": {
    "deletable": false
   },
   "outputs": [
    {
     "name": "stdout",
     "output_type": "stream",
     "text": [
      "[271591, 304882, 718546, 953722, 717312, 840963, 890594, 933231, 194746, 683682, 241759, 698547, 154309, 911455, 236101, 672093, 769680, 196477, 136539, 74268, 557124, 886876, 224299, 780867, 308971, 31430, 452545, 132432, 878347, 717395, 637956, 15134, 289236, 874913, 153837, 89078, 913609, 832685, 849074, 931505, 845202, 275200, 866507, 472977, 780928, 457982, 995438, 146284, 832329, 919617, 269178, 373018, 891226, 245396, 510432, 941874, 791679, 576406, 591543, 450445, 703310, 381895, 931796, 450702, 669668, 329003, 687082, 123061, 362786, 859459, 623563, 837035, 664572, 275660, 724485, 470158, 581149, 640878, 784767, 141405, 461772, 709699, 764359, 464939, 562012, 185214, 307556, 212470, 188128, 548084, 373554, 265617, 389140, 481778, 274478, 634912, 293745, 414982, 932465, 137134, 605241, 514702, 576745, 246885, 592820, 247127, 929690, 203916, 735625, 384241, 137470, 76836, 451288, 682867, 659645, 999992, 486176, 408619, 2287, 753803, 444927, 978299, 909644, 45308, 235830, 148631, 522220, 845253, 732043, 878860, 466740, 670099, 266024, 167518, 768766, 433577, 772020, 910418, 263484, 929241, 796876, 842188, 367622, 212923, 739659, 895122, 661126, 392961, 545630, 751317, 688768, 143663, 945228, 738094, 632816, 249204, 757821, 520456, 222000, 903423, 647224, 44631, 609092, 735886, 619945, 40526, 376807, 611347, 763043, 597571, 357915, 191000, 309671, 202244, 172474, 825651, 717259, 582267, 117714, 944367, 236515, 175457, 72503, 449992, 674787, 624021, 583169, 846211, 569708, 728926, 40714, 460945, 865449, 359724, 676428, 97164, 552166, 3120, 132629, 325674, 127419, 427866, 316149, 950782, 282009, 592490, 626272, 732963, 81189, 983988, 492716, 547377, 384511, 893001, 875041, 37524, 5994, 335214, 351014, 162596, 520680, 586952, 558647, 541786, 864388, 497259, 233888, 702024, 217293, 310962, 837612, 33282, 394441, 525732, 748918, 954626, 164709, 774241, 153477, 270863, 446024, 717276, 864227, 890366, 225624, 271107, 445489, 616576, 247220, 372837, 810457, 256124, 620852, 301313, 448674, 213750, 671828, 367861, 446086, 39959, 332330, 416951, 483050, 90972, 71910, 794975, 47824, 628946, 966054, 4295, 685077, 811442, 321263, 199680, 471340, 504087, 581571, 408614, 349036, 64276, 303496, 553709, 456090, 997781, 143643, 155575, 905514, 55153, 117372, 386462, 863507, 163849, 228878, 322915, 318089, 632539, 407208, 305062, 34996, 364481, 134505, 104502, 378564, 514748, 463335, 613666, 919017, 611620, 455360, 45693, 368095, 561044, 309834, 135640, 842710, 51563, 338391, 174735, 936272, 930298, 571897, 775588, 131739, 946170, 5179, 937989, 260175, 956670, 910222, 714696, 157024, 94041, 502189, 977146, 389706, 73786, 361731, 276895, 840733, 861425, 224139, 49232, 753271, 249353, 698968, 868108, 980782, 250317, 545151, 824380, 965158, 800572, 461933, 204524, 601123, 412181, 650749, 56859, 880443, 573686, 941178, 54470, 120974, 643114, 143825, 988365, 559783, 796912, 851887, 388758, 559516, 415813, 314063, 156243, 571972, 312321, 273436, 91106, 390780, 54616, 976971, 31883, 175146, 762247, 16340, 112360, 549576, 750925, 284457, 908426, 95350, 349854, 848365, 657864, 444963, 168338, 652353, 873634, 707017, 750802, 734871, 304539, 962952, 799023, 42769, 114730, 99270, 323444, 425469, 406522, 494119, 409043, 280768, 158178, 822951, 156759, 472054, 315542, 3851, 551902, 30687, 558059, 271607, 289673, 348078, 237361, 982784, 259315, 891384, 998673, 894990, 393199, 436360, 164187, 876600, 798849, 839839, 507561, 429060, 274154, 162604, 483471, 606293, 945867, 562759, 485661, 203325, 803490, 393815, 748788, 499232, 871785, 199983, 30469, 600768, 949713, 35854, 505345, 861126, 525115, 187397, 131363, 107876, 5775, 617476, 139381, 322201, 84586, 928177, 947519, 521073, 598925, 546715, 759881, 875061, 58093, 224711, 739670, 781553, 955385, 680567, 724885, 449253, 28330, 557460, 23099, 814629, 904160, 714238, 150380, 312640, 880527, 649522, 161212, 681935, 56186, 767532, 525005, 448750, 970829, 787318, 269915, 236681, 510113, 22559, 637582, 98502, 255505, 331691, 556119, 528481, 10057, 599068, 471217, 935336, 796677, 951093, 356439, 684667, 231152, 637669, 53296, 550103, 734633, 447939, 246858, 958467, 534800, 776518, 13343, 105269, 386908, 958569, 155570, 977132, 489456, 856675, 369585, 871677, 139793, 714453, 361530, 755854, 237609, 699596, 297279, 619404, 97374, 269692, 747480, 140015, 131447, 761479, 187089, 625503, 109567, 59201, 573325, 672870, 148588, 639691, 771063, 536406, 27314, 812678, 484392, 918904, 373614, 399618, 606143, 854296, 598795, 523517, 843970, 599681, 538187, 433974, 70673, 978328, 900851, 466044, 552876, 998662, 294104, 354687, 398000, 704973, 130639, 956986, 215666, 716847, 343264, 393535, 608128, 81501, 802943, 501613, 976932, 434424, 314722, 853595, 973172, 822456, 27519, 747721, 469465, 408460, 430452, 504846, 591591, 937893, 786135, 63902, 83806, 262586, 225959, 3384, 152880, 558243, 340381, 314465, 880946, 556707, 217835, 452412, 978828, 588800, 308911, 11834, 213743, 659495, 918856, 93438, 786044, 118358, 687944, 134842, 70166, 581505, 405431, 658436, 222703, 328614, 166834, 16439, 167769, 732150, 194219, 51677, 58266, 242668, 458712, 592915, 926418, 186843, 691478, 807212, 743248, 429305, 734583, 84606, 835872, 510561, 894486, 538196, 162562, 116744, 56658, 365612, 651085, 54331, 544023, 860096, 546287, 816452, 819836, 786359, 182699, 95976, 740396, 813060, 447196, 319659, 442107, 311885, 256585, 274968, 295246, 845167, 607076, 750067, 580890, 437983, 950796, 296670, 293789, 779317, 750391, 222065, 101679, 880105, 683666, 88580, 168487, 49321, 899264, 125188, 789124, 266753, 156827, 847469, 230306, 654893, 320232, 105046, 108221, 516986, 462964, 627857, 109408, 48138, 738602, 938748, 603464, 571545, 440507, 143468, 744372, 500813, 244681, 501376, 347799, 882029, 381204, 130964, 2133, 747109, 929963, 513761, 92532, 730182, 106042, 806755, 836615, 897212, 858169, 281891, 469256, 16052, 441864, 965030, 145983, 740487, 1276, 662787, 545774, 147095, 255651, 364737, 158366, 449392, 949648, 457488, 20209, 374223, 379901, 344411, 788074, 365930, 783006, 202268, 112136, 155150, 778165, 167713, 590804, 177568, 660564, 448079, 989149, 59456, 837430, 628409, 453247, 807275, 129172, 515712, 430181, 578453, 218474, 857138, 161670, 649536, 995940, 394768, 838526, 21379, 417445, 828020, 412905, 356710, 956064, 449877, 419639, 301505, 84291, 582326, 254126, 420431, 176664, 874525, 622974, 787567, 585493, 51613, 821049, 483770, 461857, 107962, 562462, 893797, 786774, 537292, 757607, 474314, 779772, 149889, 934178, 817093, 585112, 45503, 582140, 757824, 197579, 28190, 252917, 455607, 46892, 523035, 286192, 942963, 445212, 44694, 812435, 366617, 199942, 776102, 952340, 481254, 419725, 889594, 645777, 167598, 461171, 808547, 216039, 452195, 790693, 595115, 412377, 59718, 409747, 422419, 232524, 841811, 694473, 770869, 200590, 591392, 921829, 443479, 214558, 40900, 38863, 733157, 17423, 468039, 550186, 759232, 718489, 641690, 412208, 421616, 960446, 917069, 529045, 138552, 907571, 475361, 90224, 516239, 513395, 615340, 659367, 469492, 85332, 981249, 560673, 537165, 722973, 533124, 13963, 62825, 745457, 836382, 512943, 670257, 185783, 251243, 758701, 119198, 28705, 440468, 735910, 980614, 587340, 912832, 213413, 488060, 503560, 434662, 869209, 43701, 211964, 290516, 766440, 840645, 523685, 551494, 155676, 154818, 162740, 832241, 864202, 755244, 18089, 186231, 592846, 69936, 309144, 177089, 729108, 499098, 203525, 698475, 518005, 2045, 633078, 751993, 260669, 71207, 490356, 818565, 122092, 67728, 755612, 624070, 68943, 406520, 552587, 731097, 188255, 201336, 590535, 959169, 59333, 767581, 28786, 400379, 655242, 215364, 754434, 931413, 472817, 710184, 843398, 344387, 149630, 469893, 659393, 629379, 667208, 804595, 183886, 925551, 146657, 879966, 252125, 607576, 548758, 983342, 825416, 736397, 745529, 830209, 599640, 731572, 81273, 528322, 756920, 450537, 537290, 851792, 177822, 419006, 648279, 433778, 257579, 815880, 323823, 300615, 473201, 808959, 787757, 6814, 112027, 801372, 463921, 479658, 246549, 747710, 703597, 845213, 855415, 194384, 276957, 21339, 754720, 807885, 486530, 228214, 587303, 289011, 635043, 564100, 955676, 845977, 739521, 631055, 941734, 560, 694338, 819406, 965265, 608357, 133968, 443078, 346144, 252823, 462226, 18847, 725697, 419155, 284288, 105244, 145120, 37268, 921437, 344198, 463565, 29692, 74040, 886500, 934043, 79259, 114760, 982690, 382578, 89030, 649178, 802143, 696547, 808107, 942653, 184508, 782569, 597094, 509588, 922091, 599405, 490167, 603267, 749320, 740, 489225, 536420, 751242, 18943, 648617, 356325, 579893, 772865, 361625, 83317, 930742, 426239, 801111, 429067, 899476, 938994, 916261, 86233, 624248, 219561, 996631, 357527, 163019, 124383, 601726, 161998, 77926, 407006, 611504, 306482, 720452, 520033, 299050, 780593, 851503, 700944, 437650, 855482, 207019, 521008, 202756, 108455, 606157, 562294, 402886, 316618, 49100, 81494, 320658, 473111, 207024, 495304, 8436, 716338, 49634, 447172, 545591, 74581, 496404, 641890, 320618, 220331, 672438, 128077, 631337, 647018, 723120, 708438, 338756, 11206, 315888, 992087, 493935, 21735, 680444, 174067, 552657, 344695, 39881, 836107, 306021, 778629, 821740, 779351, 846483, 450631, 928, 956264, 443737, 140049, 716718, 442572, 52646, 387816, 161053, 174590, 787409, 382387, 807161, 935499, 705790, 402227, 260620, 313817, 908883, 758197, 540109, 503317, 216310, 24109, 101147, 329654, 177091, 58525, 258293, 230412, 295043, 373644, 832093, 936696, 622693, 871076, 418678, 882561, 544505, 661575, 300605, 12123, 15041, 773904, 960619, 199727, 792496, 993324, 270963, 965793, 69152, 576898, 766772, 767299, 253415, 145037, 109520, 436964, 917353, 412920, 463926, 854784, 308896, 329831, 587339, 267990, 67597, 726356, 444360, 297239, 681032, 238491, 906388, 455538, 128502, 505422, 937159, 257520, 110493, 69917, 216478, 122794, 349916, 228905, 177119, 710662, 95485, 687255, 363069, 418143, 259905, 198926, 621084, 539708, 334579, 129933, 82828, 714396, 343491, 431929, 489796, 721215, 442161, 406301, 417999, 79120, 384400, 595077, 433602, 532520, 187061, 274303, 310595, 819716, 724118, 393445, 502890, 572665, 71293, 557233, 152312, 953816, 881809, 69221, 370269, 687961, 870360, 749423, 647085, 13618, 655870, 348665, 372942, 437929, 607851, 926158, 435047, 782063, 541638, 405939, 990690, 164850, 112665, 685699, 223994, 947183, 755432, 972164, 417434, 852268, 662400, 902273, 528294, 108828, 636315, 753360, 216340, 130390, 700608, 889123, 663271, 415229, 429831, 705428, 545270, 908724, 215783, 422707, 593892, 75745, 904165, 283556, 470640, 729315, 460205, 7548, 384421, 865696, 199828, 863910, 298407, 522002, 878547, 288220, 190312, 392839, 714992, 301259, 757803, 353536, 910615, 905679, 808057, 275154, 862374, 191408, 45964, 330632, 982502, 90704, 795875, 154111, 243311, 791571, 682949, 907440, 974168, 940511, 271389, 951871, 307346, 904209, 615438, 383283, 31214, 501080, 93382, 185737, 601456, 398338, 487285, 443827, 368427, 435472, 103066, 20600, 993795, 272412, 185844, 250332, 831441, 73265, 888141, 855404, 9500, 17053, 112161, 434583, 249645, 180272, 213316, 475864, 796420, 777735, 196270, 737287, 347215, 112095, 567951, 829823, 452689, 550730, 83935, 125750, 443462, 611126, 641086, 941477, 418157, 871672, 823025, 56783, 467975, 979367, 308165, 66494, 938836, 659308, 597933, 326417, 267624, 214456, 948227, 117971, 503062, 632289, 76594, 491116, 38597, 900587, 308932, 767211, 671616, 463862, 177635, 383059, 521202, 809731, 882277, 878048, 207467, 631576, 272347, 915234, 491175, 553405, 961022, 435173, 767196, 332166, 898002, 282254, 393233, 160537, 337963, 967956, 662661, 579379, 34459, 87527, 513969, 218867, 863387, 444711, 858085, 845236, 563883, 897617, 861737, 796386, 871453, 306958, 361850, 447838, 644431, 993445, 213418, 406444, 595313, 681093, 932031, 52739, 798618, 503179, 426752, 531020, 932123, 953621, 594526, 10454, 788935, 742124, 348063, 291943, 914672, 975573, 960046, 320003, 79939, 648089, 445353, 84544, 577921, 55686, 319868, 771668, 252402, 700651, 822992, 713982, 219641, 77616, 580386, 461086, 20914, 134321, 484223, 511320, 219736, 3931, 12526, 112840, 944452, 191583, 958868, 39390, 530498, 131652, 309347, 896907, 312623, 39391, 769242, 846885, 608615, 715768, 468139, 724708, 466120, 104037, 310775, 407879, 244185, 920986, 37857, 956523, 12929, 509382, 287797, 820270, 664379, 927532, 500308, 546865, 193102, 149806, 192956, 109274, 32075, 703768, 972545, 357948, 571944, 552043, 28513, 44260, 283188, 993619, 171707, 291278, 335797, 665046, 667183, 652692, 402280, 373225, 238022, 219415, 296834, 589194, 236111, 342569, 339976, 80572, 400616, 184608, 910396, 41066, 139092, 941669, 558721, 212547, 964122, 700713, 648822, 490593, 993608, 492405, 706425, 267516, 47274, 88454, 60011, 651515, 710825, 728959, 75684, 712237, 279937, 954048, 496541, 103243, 495081, 676696, 945703, 737747, 645665, 987113, 362374, 262754, 495972, 976364, 619081, 26894, 816820, 617627, 133336, 344015, 938248, 543995, 304417, 182672, 303800, 403336, 266102, 365803, 438956, 486021, 559061, 425211, 177370, 66381, 176875, 811480, 490281, 252196, 542591, 889576, 446839, 157089, 881843, 664929, 641755, 153453, 47780, 341210, 148483, 675156, 355416, 838998, 107395, 728705, 588725, 935001, 615615, 745092, 535487, 471553, 993450, 355045, 537605, 592521, 381842, 1234, 218607, 9607, 609568, 543468, 780261, 439428, 527887, 311502, 409600, 161530, 263454, 540030, 886280, 38145, 54628, 613606, 433742, 745341, 237461, 340448, 883686, 165418, 115998, 59500, 119896, 647067, 759547, 961743, 499233, 723970, 183780, 705651, 131945, 901077, 917308, 432197, 165426, 449525, 605907, 273068, 744406, 871522, 223291, 723758, 781987, 549379, 537513, 816920, 687825, 956843, 6018, 48106, 430789, 230355, 719842, 490350, 749007, 759954, 253531, 791147, 464299, 292704, 695757, 553272, 308370, 214313, 701987, 514564, 63305, 857614, 432487, 669734, 750745, 905529, 285726, 535954, 118371, 697162, 373399, 696025, 337195, 679167, 472503, 473323, 246937, 332288, 877599, 133966, 347313, 930127, 729670, 812937, 239209, 682885, 276256, 789650, 204222, 329714, 401645, 185288, 359063, 558151, 357813, 490252, 919967, 680257, 38998, 915662, 485699, 411404, 841158, 391821, 973290, 739002, 895963, 925715, 410402, 593649, 125909, 622932, 993583, 935058, 944985, 965180, 513130, 47091, 125234, 99624, 549248, 578357, 732998, 524230, 916943, 101814, 244913, 898178, 46411, 95154, 661171, 479098, 90803, 480534, 447561, 568768, 290658, 127279, 30769, 896966, 583480, 226563, 358242, 523698, 657938, 42720, 573118, 323267, 731268, 350632, 998795, 128002, 849586, 636917, 283690, 188025, 617783, 132465, 875988, 959615, 571261, 585799, 854198, 932971, 420846, 225184, 134926, 185252, 932251, 605912, 765825, 725179, 936952, 186936, 265520, 526513, 611853, 589226, 541751, 523761, 209628, 329504, 273801, 468416, 647999, 115605, 375872, 103141, 379832, 61854, 253720, 874168, 346861, 261563, 29983, 707282, 606434, 120564, 357294, 926837, 220752, 29878, 552476, 844696, 871947, 557293, 679248, 951999, 942674, 933114, 835271, 12926, 298639, 53207, 122787, 261302, 181737, 46230, 858309, 907052, 466398, 151056, 350901, 708932, 69365, 991311, 559620, 736171, 94950, 755521, 679580, 843208, 407496, 355122, 602410, 227317, 889003, 581173, 356864, 434998, 169654, 571582, 50693, 312381, 368872, 899043, 732640, 231158, 521189, 997064, 1155, 993439, 607657, 50863, 136948, 928044, 469182, 113498, 682497, 97852, 78856, 265298, 220124, 388865, 709935, 507795, 495824, 317048, 156550, 356402, 678029, 918249, 527900, 839754, 132152, 801694, 696555, 960119, 671775, 362655, 561566, 912620, 102039, 472748, 706156, 114343, 972999, 475727, 670190, 119452, 378649, 561172, 55039, 956508, 489084, 606674, 507939, 285988, 783815, 604557, 692962, 16855, 256812, 265081, 53765, 504885, 763539, 505470, 485453, 740340, 311377, 242887, 822580, 294352, 536100, 768277, 45700, 297243, 480518, 157613, 332678, 652477, 881169, 367036, 617713, 953482, 237648, 927110, 829637, 903869, 831516, 18644, 377312, 537855, 978278, 207511, 132074, 711189, 219221, 735976, 530179, 120485, 129388, 292988, 632643, 966416, 571930, 823794, 218866, 779517, 87585, 570241, 512159, 884377, 287851, 619437, 313653, 151633, 434759, 398955, 626434, 748020, 395404, 317888, 871336, 867885, 145813, 118663, 347670, 79420, 273786, 13576, 165007, 583129, 502813, 632232, 561532, 129530, 495101, 216753, 920141, 536113, 226827, 408742, 153787, 383738, 260236, 755336, 873583, 179936, 850783, 118445, 501142, 1027, 402524, 377360, 516777, 289129, 259532, 557761, 246020, 49352, 273460, 533925, 851674, 180670, 46798, 715673, 229843, 163130, 406966, 592101, 706616, 344989, 871256, 505401, 999284, 996269, 475214, 548769, 786364, 755516, 553888, 237674, 472411, 265185, 582478, 856958, 814451, 147483, 150782, 848566, 849098, 874952, 312334, 296394, 594702, 561487, 935412, 81938, 962849, 70914, 182901, 529082, 149581, 643112, 279645, 308604, 635027, 276898, 978610, 684986, 325116, 799936, 544911, 862039, 771097, 498145, 538810, 394196, 163467, 836792, 49820, 650932, 811178, 927032, 380341, 94849, 488190, 585068, 361160, 431404, 134890, 302221, 613023, 789018, 330688, 394058, 330540, 535003, 531053, 399164, 763920, 714204, 99678, 482424, 301769, 682691, 815548, 658315, 634536, 958131, 459849, 716342, 595970, 889791, 460516, 252578, 892541, 880744, 6322, 627793, 853602, 653072, 15240, 185354, 638639, 68653, 287447, 732504, 170547, 778975, 159886, 143809, 178670, 713412, 809593, 86296, 54329, 218193, 51074, 415027, 992516, 598379, 473447, 690770, 351078, 377291, 401239, 908448, 923105, 29744, 202034, 415335, 412288, 866454, 641712, 176687, 686129, 910629, 930000, 404182, 367073, 911681, 672351, 119518, 723883, 669204, 167818, 87987, 385733, 715402, 464451, 450176, 629116, 415306, 554652, 618102, 145244, 235852, 213343, 450840, 344146, 910422, 91209, 118072, 808576, 889201, 939365, 311987, 769413, 40059, 230560, 525337, 616379, 643970, 33724, 75423, 221445, 643065, 266842, 24462, 626994, 192965, 610669, 395254, 567755, 697734, 168549, 960704, 526693, 888672, 783829, 403935, 915418, 504300, 387064, 346458, 470789, 913109, 973259, 47439, 727137, 633090, 461292, 107197, 837523, 843619, 612949, 708466, 128565, 75133, 709514, 906223, 986389, 910397, 321704, 609573, 787826, 608556, 827401, 401036, 894450, 104267, 54464, 759206, 681868, 351037, 415782, 448060, 617986, 840095, 113058, 983838, 924186, 300125, 478771, 349652, 539813, 812948, 525249, 471876, 433970, 936303, 617493, 391249, 548489, 56758, 813553, 298983, 251529, 942143, 851284, 606819, 339627, 359919, 861646, 713680, 531462, 187924, 515639, 435732, 897392, 21351, 615570, 350706, 636135, 229055, 232918, 982974, 899887, 163416, 362179, 500996, 24148, 489946, 160915, 280224, 729948, 338834, 423138, 960464, 529773, 143417, 860233, 550789, 729545, 844293, 222529, 278878, 782745, 98972, 717216, 967371, 617160, 462456, 525652, 655189, 959638, 554140, 628890, 864360, 63575, 995259, 880193, 407617, 691733, 145180, 279681, 810494, 509392, 976728, 599198, 768953, 506150, 500046, 286230, 867658, 851934, 84911, 297537, 55033, 74622, 424189, 905517, 543596, 828699, 673952, 234560, 689849, 464938, 543248, 677173, 391060, 474541, 768982, 585295, 104381, 217909, 237047, 604960, 102036, 480620, 263296, 832403, 736481, 248025, 389137, 801287, 160132, 536866, 404, 702769, 384610, 307328, 680529, 580470, 846113, 808608, 126306, 363854, 445656, 732098, 451746, 424939, 749130, 221012, 199074, 531597, 716716, 195052, 117799, 231852, 586436, 84699, 759334, 676461, 374106, 785180, 15303, 580377, 221955, 282278, 633749, 379370, 31166, 936193, 166232, 480676, 712256, 589542, 166042, 135077, 507693, 325820, 853323, 691216, 628590, 167699, 869809, 143604, 653895, 575323, 140967, 237953, 832503, 289658, 422294, 231844, 31756, 620173, 368110, 438385, 895812, 383322, 292800, 21134, 818492, 431984, 509005, 203081, 218635, 389077, 694840, 887246, 95546, 615549, 152992, 166090, 989115, 690550, 699467, 477869, 375835, 384627, 139748, 156447, 761317, 252995, 289085, 343381, 287868, 293899, 726424, 660491, 729934, 255260, 669162, 57061, 889716, 569954, 555130, 779516, 132463, 348220, 66374, 973552, 955915, 935587, 534615, 178936, 576269, 159940, 944167, 670557, 24833, 314954, 111738, 109078, 217105, 152869, 733515, 4445, 118906, 176977, 589810, 302260, 831918, 302456, 421018, 766885, 698288, 291446, 44443, 943962, 505809, 972328, 392451, 31433, 707809, 672001, 411513, 494466, 693257, 380149, 942644, 621064, 977554, 825207, 852104, 751311, 740497, 274350, 860282, 450854, 195664, 21502, 63011, 843790, 589494, 377227, 456963, 351394, 330204, 994643, 305311, 419781, 704880, 139683, 436078, 949419, 84393, 3116, 313526, 54507, 470134, 733904, 975943, 180986, 120527, 756392, 357968, 3407, 332465, 305944, 334538, 414916, 502095, 657341, 860376, 780353, 501367, 710390, 578386, 203592, 236313, 895210, 16229, 56272, 460985, 611737, 52887, 5383, 806631, 437893, 494923, 954929, 460870, 103167, 981118, 529886, 254216, 815560, 685832, 133598, 731236, 74447, 186849, 807742, 159089, 357564, 186595, 766514, 563307, 789720, 376676, 351519, 237305, 413860, 883378, 430862, 158812, 105096, 476128, 594275, 305990, 760612, 430668, 174802, 465763, 144411, 574589, 952263, 670864, 37338, 799935, 879478, 696210, 738274, 370209, 882632, 839576, 540143, 463856, 865791, 574127, 351631, 176141, 538156, 717494, 537181, 82891, 373088, 249495, 978230, 302039, 920844, 296306, 860103, 313794, 313511, 115619, 608947, 957147, 898223, 936698, 410188, 561536, 613966, 248581, 201460, 719451, 986681, 435568, 600354, 841680, 471795, 83485, 900766, 881254, 284072, 596788, 557249, 429511, 402865, 940914, 133674, 524343, 383409, 991628, 516178, 861704, 213008, 117150, 219380, 615024, 953377, 514836, 677648, 159962, 80875, 918864, 200884, 856951, 835658, 817561, 512080, 706290, 151143, 108292, 686385, 734792, 878584, 653659, 284075, 341835, 796198, 215709, 505620, 777702, 405347, 577627, 629822, 732645, 302749, 3711, 812587, 957450, 869123, 803307, 222485, 454710, 781554, 323960, 104078, 267737, 804982, 1793, 721743, 881704, 419301, 213375, 610315, 698326, 754214, 717054, 867103, 311322, 162868, 652615, 819346, 316933, 64290, 437682, 692013, 361010, 952766, 464683, 907851, 878928, 56024, 398673, 449206, 988773, 824532, 321857, 117204, 372062, 860626, 308497, 918573, 826304, 815520, 114805, 525187, 165155, 198618, 849323, 977193, 780774, 9312, 161086, 771967, 443646, 234865, 62248, 708247, 886154, 215464, 919821, 244350, 41549, 132098, 822771, 230998, 259147, 873287, 828402, 160445, 691051, 991424, 420209, 309624, 939008, 581784, 471936, 575685, 580497, 834512, 985529, 369892, 874492, 819988, 819915, 838942, 559615, 690590, 188153, 54259, 50301, 472162, 672867, 230850, 303000, 344393, 440689, 172389, 925320, 571193, 438081, 467312, 271727, 72593, 199688, 669293, 751635, 915844, 105968, 194226, 497985, 384599, 555823, 645434, 776829, 874855, 71347, 72986, 186123, 375284, 126304, 449429, 535258, 813455, 371867, 109407, 932837, 727520, 261094, 305089, 68876, 635291, 250321, 380189, 818513, 179330, 509687, 894705, 136571, 880071, 70155, 376020, 104975, 389773, 29418, 221338, 710795, 366763, 66204, 434652, 861890, 127026, 221005, 963120, 482980, 466742, 374767, 269516, 341418, 273184, 999476, 168912, 800637, 496948, 450316, 433968, 374554, 831944, 723769, 340050, 823583, 225718, 727340, 177196, 742995, 792750, 167437, 981272, 159973, 488530, 88307, 623318, 569735, 434159, 347865, 777319, 781317, 693487, 380421, 335827, 885256, 39916, 255467, 707794, 398333, 206377, 809747, 789112, 911435, 839982, 846925, 649558, 713030, 943123, 514194, 621306, 446738, 4168, 972318, 350687, 459096, 432445, 143801, 719485, 100973, 571421, 285837, 951117, 544535, 347222, 890610, 866815, 371742, 782609, 603380, 143482, 333476, 958724, 873924, 733490, 295152, 975015, 192506, 550366, 52647, 922677, 540663, 561759, 995316, 942506, 924265, 840175, 576351, 206728, 656970, 927093, 401502, 170632, 533826, 129937, 360157, 664562, 461951, 179106, 298293, 666228, 319612, 767008, 775160, 161908, 418371, 761126, 541348, 64983, 156599, 669345, 167744, 791392, 724353, 5367, 427058, 848133, 594942, 418124, 953911, 93490, 337988, 271805, 310457, 885221, 857266, 720392, 184694, 842685, 351398, 159600, 734143, 450420, 83446, 893617, 98015, 316004, 746584, 912596, 92748, 359134, 358775, 699225, 353740, 978274, 838185, 171134, 412174, 641078, 625322, 329813, 998505, 549422, 163205, 922551, 209755, 458434, 208090, 126761, 107142, 536488, 327879, 614928, 714763, 289058, 230744, 843014, 300063, 311859, 500597, 509222, 584961, 270999, 28468, 560635, 942261, 254652, 655768, 798311, 294510, 958755, 982567, 804271, 928625, 624647, 158680, 522337, 987627, 723889, 229001, 234820, 142199, 478648, 563567, 24570, 954920, 57366, 596515, 628416, 501174, 554263, 629548, 886909, 33940, 668989, 364272, 776320, 453309, 703006, 888117, 414913, 661717, 764393, 558759, 184494, 572718, 613392, 645908, 441781, 459082, 907334, 709719, 512690, 463236, 694859, 315722, 951645, 662044, 580563, 656884, 617651, 598075, 931289, 774443, 410191, 570228, 723344, 972695, 857502, 795589, 9641, 89373, 947006, 952478, 470885, 592368, 220972, 482816, 698427, 856245, 163736, 608927, 697226, 871266, 492931, 593560, 807333, 183006, 158716, 982995, 327401, 230515, 104671, 540771, 1512, 237474, 947878, 73348, 220478, 519256, 660024, 426101, 418049, 111711, 953411, 874594, 135762, 589562, 645634, 630443, 561534, 162222, 437306, 364619, 776294, 410909, 641762, 484197, 412031, 954840, 352943, 108576, 948224, 667509, 503483, 834863, 220357, 212389, 705500, 8138, 670772, 752610, 743061, 571712, 282735, 50397, 480719, 581388, 363503, 919001, 44645, 14404, 501794, 420172, 673696, 778183, 523983, 486937, 948036, 942020, 316811, 140365, 724770, 777634, 859026, 523527, 762541, 506209, 165751, 746806, 543971, 192831, 820368, 35618, 446641, 621454, 684304, 308837, 308827, 352218, 155115, 159509, 809579, 844967, 578334, 37974, 351634, 336410, 646227, 516620, 132889, 594448, 734078, 738728, 663866, 310085, 375064, 184189, 654946, 20435, 171466, 930093, 870853, 282873, 886489, 707546, 726354, 15574, 39105, 698173, 342297, 520148, 167732, 258300, 459735, 15493, 359722, 804822, 813880, 991777, 794295, 973302, 934915, 237503, 238162, 919166, 584299, 127199, 571225, 454166, 666217, 782528, 588932, 463428, 943891, 239313, 17604, 640902, 751141, 409251, 939680, 885829, 649687, 861730, 87885, 87317, 633635, 862356, 98609, 222812, 531380, 223529, 850806, 675178, 990586, 182698, 601434, 852339, 930263, 496086, 623092, 333773, 265116, 367465, 537591, 411894, 692973, 652149, 115467, 487131, 344097, 524556, 799116, 392598, 679100, 224219, 75506, 701267, 141532, 134796, 177504, 133248, 838935, 923323, 882742, 775734, 979049, 306174, 348838, 284913, 547150, 403686, 580561, 134482, 198514, 454525, 291839, 521601, 139107, 879481, 576754, 835154, 719783, 220622, 103342, 782260, 632494, 850833, 51329, 86650, 272396, 372427, 365184, 407980, 550797, 584326, 746264, 586997, 221981, 480044, 35852, 939733, 140707, 908240, 495756, 458322, 931327, 247557, 954106, 152500, 48187, 947102, 758667, 123289, 615431, 28214, 723142, 895930, 311029, 522581, 682934, 317324, 479334, 202429, 236036, 97182, 456280, 298434, 697513, 292103, 332933, 914963, 885077, 729521, 534840, 492386, 561217, 729812, 758176, 248083, 867991, 385038, 206454, 860273, 513968, 340390, 851466, 58539, 993139, 54724, 249291, 33557, 737551, 755255, 600490, 57400, 407327, 859464, 401258, 465569, 577184, 538211, 146506, 392059, 427060, 785190, 907714, 765159, 654514, 685888, 12602, 575715, 960101, 281977, 773831, 582479, 66567, 465207, 840134, 533119, 52521, 982878, 578454, 756873, 855454, 82394, 499598, 294168, 449977, 449403, 913528, 962071, 256001, 173343, 806368, 304880, 759909, 888550, 250185, 961210, 184986, 956396, 914121, 727375, 948590, 716402, 476834, 547025, 196151, 329753, 219327, 422911, 591359, 357384, 243633, 586287, 58369, 680749, 930276, 102273, 79112, 617467, 978995, 431688, 38515, 417018, 214347, 817986, 140816, 551505, 488040, 118852, 315922, 831320, 508532, 139680, 228284, 34375, 537792, 248794, 745463, 476260, 383733, 794625, 220295, 739370, 742736, 880405, 743049, 923, 783893, 683070, 572688, 369656, 488666, 620628, 350212, 614059, 691372, 433641, 752796, 472398, 172973, 456819, 382812, 412565, 254450, 458930, 958603, 825888, 529272, 659750, 471398, 938896, 628981, 941991, 604148, 329175, 911646, 256300, 970970, 551229, 920977, 953086, 57142, 140764, 432343, 392087, 477786, 517705, 596082, 102057, 926298, 910425, 996686, 895138, 268322, 337430, 847286, 828625, 408723, 219019, 677502, 117142, 56630, 671647, 571969, 349695, 564645, 391115, 817762, 856616, 717588, 791663, 710649, 670448, 663603, 911921, 16665, 337188, 497080, 889732, 220508, 858407, 597143, 763255, 270803, 796795, 477807, 60075, 815397, 891033, 978605, 304378, 331295, 736904, 684090, 734618, 948968, 690289, 983723, 554588, 175871, 345119, 503258, 127606, 189977, 569947, 813976, 287073, 808490, 530282, 981035, 794015, 438046, 401677, 750766, 26045, 116612, 232595, 312911, 788113, 567250, 905232, 532428, 378881, 592826, 929768, 592209, 893326, 694956, 743296, 48876, 878317, 836535, 984766, 43040, 29730, 14230, 920009, 626665, 22558, 1922, 827885, 779994, 106112, 395023, 977362, 571763, 235036, 945452, 122851, 685307, 177575, 806069, 599818, 220334, 429614, 442024, 495587, 405516, 312986, 231299, 129006, 467879, 614582, 376850, 64016, 396289, 125599, 21020, 820223, 530041, 670885, 391056, 221823, 255213, 723470, 898109, 182542, 718600, 466724, 244824, 979742, 912401, 949908, 837774, 569899, 63484, 156842, 85055, 820687, 78666, 636833, 959419, 989903, 757807, 161429, 577546, 161152, 665637, 171947, 669076, 539478, 242477, 38285, 302370, 215523, 16795, 256646, 224689, 639788, 827956, 285839, 115251, 670487, 612974, 53505, 337696, 795890, 512046, 136372, 239324, 175414, 985591, 795561, 863132, 14769, 258706, 110418, 589926, 628608, 895034, 359784, 1763, 610777, 146136, 469616, 640096, 998418, 310857, 322985, 829614, 143902, 335350, 639574, 287795, 547059, 689912, 175859, 29266, 937411, 115141, 185556, 400083, 769879, 365439, 882579, 905882, 880944, 177829, 635409, 399998, 104255, 738111, 429896, 244130, 195438, 125133, 746384, 656651, 8768, 66107, 177925, 426053, 724247, 95627, 650916, 673956, 892615, 786814, 802107, 614821, 907097, 115135, 553555, 722741, 427380, 22781, 902162, 649737, 154239, 128542, 44966, 310905, 285719, 504874, 945393, 330395, 399887, 987148, 305430, 330771, 185911, 128662, 798052, 81538, 260466, 132313, 198793, 727360, 741831, 895339, 745501, 812814, 301652, 946505, 819480, 496727, 698669, 425204, 475273, 178692, 973268, 68980, 693403, 324668, 77705, 461345, 33134, 745471, 282499, 638946, 575052, 112946, 196795, 907897, 220562, 130250, 147270, 155955, 297453, 670833, 653753, 623271, 721524, 754942, 974473, 224093, 274778, 546371, 40083, 296280, 195724, 558244, 182846, 889966, 887918, 508107, 425310, 490519, 436544, 532778, 651253, 943808, 968662, 111183, 972432, 398071, 76965, 218989, 823881, 247665, 980632, 956126, 598011, 107925, 30851, 366084, 87433, 919827, 155029, 964240, 165590, 730306, 210315, 413238, 520114, 227869, 712522, 56077, 959747, 54838, 640422, 378017, 990371, 533602, 443874, 498054, 459967, 895371, 621291, 906718, 516812, 856959, 294975, 623750, 741478, 56205, 93133, 548112, 679403, 802128, 760667, 496122, 628681, 225747, 856819, 934445, 271585, 842258, 552414, 853559, 915693, 509796, 485056, 945461, 292008, 14902, 318194, 649835, 236446, 728579, 431335, 871670, 180545, 922261, 24545, 505115, 995629, 437720, 515474, 98786, 662826, 874113, 817097, 784678, 807434, 902317, 297351, 375719, 673078, 271891, 577233, 351216, 951595, 704425, 641764, 248001, 51214, 1070, 572756, 457251, 179560, 365252, 438782, 594588, 285267, 526818, 88951, 149626, 283893, 962193, 383783, 692903, 165222, 536108, 200712, 340303, 508957, 163631, 949589, 203032, 656843, 577221, 124878, 583213, 512306, 994499, 378579, 84950, 421538, 298231, 124640, 669464, 469542, 463791, 311430, 174684, 263621, 31581, 843657, 559551, 328438, 899497, 463571, 58677, 137103, 547678, 161075, 211796, 50409, 452819, 637230, 168657, 704036, 576826, 885150, 809981, 618784, 847466, 732730, 927441, 546578, 877743, 990212, 273659, 464233, 88996, 288983, 311800, 802067, 946227, 251417, 753721, 747193, 785088, 174279, 697010, 495134, 692986, 755822, 296711, 615008, 942487, 673526, 889880, 83581, 676819, 880157, 288920, 796485, 633723, 158101, 844270, 968298, 386235, 719086, 633808, 929257, 819805, 499622, 702675, 27376, 859772, 331809, 696687, 660828, 717607, 139534, 146346, 42442, 222921, 996824, 243378, 321197, 688886, 277290, 233766, 197477, 214812, 310246, 834977, 266946, 251669, 606110, 582934, 23905, 473386, 3149, 342284, 760661, 876251, 414071, 864786, 632264, 237203, 357083, 674086, 72273, 15812, 818962, 377430, 969979, 318855, 489112, 63079, 480464, 777500, 918323, 153003, 939707, 330514, 8679, 810620, 128906, 797098, 650403, 207402, 687327, 644264, 565056, 581429, 472537, 325733, 485615, 967788, 108717, 791394, 433331, 93577, 430479, 59127, 150701, 629441, 243896, 345380, 127207, 614219, 270730, 802700, 907929, 529132, 406023, 687927, 876319, 977601, 986178, 785844, 635393, 463113, 580719, 743360, 882839, 121636, 517064, 366477, 825947, 723564, 554141, 527376, 88480, 363805, 759645, 939522, 152919, 406439, 960269, 317585, 879970, 529235, 695465, 233373, 873800, 43350, 594473, 824267, 973155, 99445, 295721, 561555, 411122, 862222, 738570, 763090, 986705, 19568, 428556, 683054, 294846, 552072, 465120, 704484, 246805, 756631, 356373, 211471, 710309, 841549, 929999, 138636, 89942, 833289, 537728, 555474, 698363, 786134, 678416, 297748, 247400, 917840, 858293, 589902, 934252, 956007, 762693, 386493, 28583, 329320, 51544, 896771, 824929, 637089, 681899, 104133, 635936, 28997, 861967, 225293, 374267, 453711, 62757, 590363, 922524, 759737, 652765, 432498, 70259, 519608, 303267, 968678, 29354, 577648, 318305, 331762, 425983, 781866, 515012, 841720, 516729, 890762, 335223, 603531, 262071, 827534, 218639, 783608, 736866, 657100, 440214, 958177, 151462, 82268, 273034, 452511, 573380, 726636, 997452, 206718, 115245, 18337, 641862, 627138, 893699, 405381, 398342, 36598, 455610, 803539, 866177, 394440, 30881, 5410, 467521, 344379, 467224, 54284, 771345, 983666, 29373, 444567, 514227, 916669, 778007, 146899, 278926, 376247, 258321, 725715, 518934, 133673, 350784, 441796, 71165, 447420, 233924, 20259, 636963, 343174, 954354, 443947, 467762, 918613, 78217, 834666, 718862, 255779, 353380, 887808, 485103, 582871, 908704, 137818, 190373, 556754, 110332, 100416, 385208, 917992, 533539, 912008, 524016, 569606, 450206, 601184, 930712, 24239, 817263, 776791, 821831, 501211, 773611, 744113, 391669, 947521, 520700, 262611, 457317, 981993, 410862, 943908, 50760, 337448, 680275, 427482, 425129, 133243, 147282, 225411, 535019, 427542, 998891, 926039, 375552, 261207, 545281, 675628, 166271, 536383, 569754, 12576, 164565, 34781, 341638, 346737, 711440, 777063, 133376, 708189, 147091, 814926, 238822, 767484, 461887, 72002, 766591, 809256, 904288, 458156, 537043, 893284, 814985, 840572, 639433, 136294, 107066, 914780, 914359, 934144, 483891, 942432, 486824, 783501, 822772, 322009, 16357, 339475, 325474, 389577, 848956, 153065, 22395, 529250, 820970, 406940, 574074, 474262, 8468, 631222, 75958, 687179, 321763, 125468, 695982, 305611, 959776, 637593, 785206, 36918, 813350, 649539, 715446, 546751, 354856, 475316, 895709, 354242, 935122, 879682, 877231, 673555, 439668, 525311, 193383, 374742, 584720, 153576, 601358, 239458, 698895, 168227, 40041, 687163, 87270, 341571, 753817, 844405, 491151, 674347, 732890, 162143, 859309, 386015, 630036, 870823, 695569, 784050, 239072, 31017, 302725, 707272, 451692, 381956, 993116, 113102, 632657, 659522, 738465, 19291, 337528, 453754, 171872, 260524, 783194, 194093, 420646, 170354, 477577, 652465, 752920, 944359, 30644, 135180, 352931, 815133, 57207, 948873, 953687, 118183, 920438, 123034, 406018, 936301, 953002, 567082, 653146, 772794, 834452, 54341, 42710, 503700, 514178, 982343, 996021, 722057, 144162, 509616, 437264, 677601, 141445, 968221, 396012, 570160, 4002, 182171, 847253, 45883, 197806, 27688, 471921, 212934, 360281, 534014, 512654, 350195, 746731, 345541, 412261, 100613, 546419, 18586, 497073, 251412, 646574, 44198, 162706, 899168, 500811, 294199, 825504, 647554, 768241, 401784, 707477, 231327, 435944, 436815, 499631, 84681, 827591, 456301, 747573, 41744, 75887, 428772, 594133, 124163, 354181, 838096, 991474, 274657, 969327, 91501, 179472, 916777, 148321, 951262, 464060, 479958, 224667, 67306, 11218, 484385, 442702, 330570, 617929, 370554, 41180, 419161, 191995, 197599, 229876, 507821, 785525, 528645, 309733, 577474, 994005, 598562, 394628, 646178, 702150, 430672, 589210, 20330, 789579, 410261, 966100, 369075, 24217, 830519, 682196, 377298, 548, 79350, 156664, 374864, 589868, 928854, 999007, 368673, 702200, 702337, 15959, 834590, 457798, 385648, 958395, 346542, 199073, 735767, 275363, 732466, 913330, 749544, 829716, 621213, 293658, 885512, 715403, 530817, 916946, 13265, 35953, 413407, 57956, 378925, 884958, 5171, 897234, 994022, 470498, 40613, 689483, 374553, 22823, 512566, 380793, 97664, 209802, 502462, 200669, 944745, 532475, 864403, 901291, 187857, 68947, 262566, 747202, 143637, 159515, 603402, 663988, 925328, 602844, 223342, 448069, 94551, 41468, 320573, 420135, 482577, 904564, 494446, 188886, 402771, 754921, 642006, 897363, 148556, 367333, 428493, 82208, 625772, 314806, 896991, 718981, 658132, 578307, 491755, 628036, 13134, 156559, 894786, 371774, 967323, 739646, 255943, 688700, 381033, 693782, 312362, 900991, 38790, 191961, 194821, 763468, 527576, 528682, 322947, 452888, 207899, 535670, 928996, 503206, 441878, 624367, 229017, 473982, 342417, 210889, 954683, 806309, 355812, 540710, 3745, 534633, 416357, 538611, 658262, 862988, 463458, 76944, 216644, 28679, 523159, 209881, 342398, 854950, 307137, 228484, 113454, 495890, 205053, 154349, 509501, 752369, 224750, 348226, 413899, 707662, 125475, 31237, 925807, 869690, 154106, 342937, 415041, 551883, 55412, 791052, 761498, 739445, 144438, 894839, 352155, 475877, 395935, 725154, 354114, 205569, 886612, 791310, 797691, 924444, 612782, 491315, 517981, 207322, 479539, 402027, 346378, 700602, 41539, 323907, 142190, 805448, 465161, 171463, 736704, 313051, 369924, 534677, 40520, 664535, 58170, 412782, 73955, 792226, 253237, 587655, 602706, 854201, 49289, 58712, 696033, 492986, 481438, 408881, 89759, 407911, 508521, 883394, 606913, 698266, 705632, 267501, 65482, 596760, 499011, 215775, 111206, 691297, 168182, 922028, 141430, 255843, 72741, 179580, 323750, 247825, 435846, 34748, 585229, 546525, 80342, 216632, 93564, 938853, 265355, 545825, 489550, 141567, 475760, 414518, 11327, 951896, 345421, 267498, 572259, 164503, 913312, 789050, 709652, 11830, 931596, 366791, 439969, 555445, 645804, 150162, 600126, 321540, 542937, 285816, 63480, 772251, 105637, 758562, 310764, 797202, 83973, 361017, 568775, 348163, 579985, 316845, 661806, 135081, 77428, 320219, 867385, 460888, 980107, 206947, 165563, 911853, 369362, 895884, 455747, 11674, 777088, 111407, 886530, 642128, 364110, 274817, 504886, 944878, 387948, 863379, 205399, 61197, 844499, 977162, 275666, 573594, 823265, 674786, 386174, 330624, 20835, 471894, 748246, 505404, 786669, 264388, 505084, 392744, 197703, 736169, 958137, 705593, 895264, 69065, 201522, 152162, 572183, 720239, 305115, 115603, 488375, 948108, 950599, 633456, 874544, 711057, 881856, 493706, 545844, 498401, 667354, 836098, 588621, 654915, 168563, 858693, 155782, 234248, 494995, 125028, 818682, 929100, 747627, 45332, 152040, 188640, 374135, 484951, 840519, 521627, 53569, 98955, 287956, 126585, 629356, 968530, 978171, 169146, 376973, 694301, 179211, 415593, 486680, 431477, 235853, 718955, 374844, 763412, 987891, 780564, 297881, 547469, 46761, 243832, 23446, 170096, 474805, 133923, 108224, 155925, 816590, 907256, 742969, 54041, 569989, 456714, 873764, 52898, 557398, 977847, 273946, 479801, 677422, 483841, 711058, 687011, 814633, 552653, 963632, 186045, 160002, 791964, 145179, 80634, 314690, 593668, 40952, 485680, 824740, 753440, 29339, 816107, 44749, 41130, 480838, 957863, 149831, 380880, 941730, 867351, 303190, 322787, 729877, 285098, 649721, 402554, 699473, 8196, 352479, 117864, 840691, 541339, 770264, 740795, 653584, 258584, 156228, 477371, 293290, 819710, 242649, 983200, 752564, 178125, 268279, 803515, 928932, 797924, 46129, 25108, 4683, 471979, 134555, 532057, 403530, 828075, 738564, 798005, 610128, 574100, 471905, 326409, 840203, 433550, 674853, 953142, 61010, 532029, 706526, 667803, 47427, 313730, 679346, 227791, 467202, 447184, 552252, 455585, 576667, 729964, 565008, 528508, 190365, 694036, 380317, 168250, 306006, 477826, 25976, 674436, 673761, 912684, 901882, 517513, 833600, 642500, 230023, 301350, 642462, 232679, 796319, 214889, 590687, 937173, 196839, 314520, 638321, 636700, 50351, 523405, 607311, 824874, 640930, 198341, 656934, 757231, 945145, 952512, 197859, 702788, 383359, 53865, 627539, 299152, 813227, 527080, 399582, 198970, 496029, 695442, 917878, 696302, 225094, 632907, 765127, 278517, 710298, 326582, 639485, 531004, 999589, 504177, 764157, 796675, 351824, 379523, 906894, 64359, 421603, 43523, 337472, 596055, 820011, 505159, 970958, 87792, 994916, 545416, 888236, 572187, 339069, 360461, 197150, 137219, 135232, 592845, 762771, 831086, 554790, 501294, 470995, 838507, 566110, 675496, 335177, 807703, 693828, 341190, 596798, 487047, 955820, 561574, 723081, 260810, 639379, 524632, 551957, 810658, 261018, 93326, 372550, 524412, 296484, 259768, 59296, 50138, 313404, 621709, 934256, 47672, 320280, 186400, 329396, 984139, 147441, 524278, 194983, 239526, 642067, 205012, 106446, 120039, 82387, 990820, 788849, 593104, 580249, 745960, 565090, 392137, 335394, 597047, 291195, 329803, 188488, 396809, 101542, 105055, 669691, 422746, 354738, 292861, 351520, 272090, 879297, 252553, 24387, 146805, 314652, 822686, 295612, 882699, 106531, 177638, 492960, 103021, 410617, 141954, 815119, 26611, 882430, 264354, 754953, 558829, 237304, 850448, 950403, 937835, 535028, 31465, 767859, 326605, 83704, 374591, 180636, 614962, 28937, 885200, 227775, 604516, 565799, 353354, 17601, 807719, 380359, 73298, 687892, 670361, 783095, 665701, 631768, 68305, 378577, 52921, 939450, 194432, 801361, 885084, 36978, 599646, 453949, 115410, 169383, 956897, 205730, 262950, 842009, 48221, 758812, 891791, 356229, 983398, 248492, 914287, 819566, 364580, 868091, 458650, 521629, 979060, 58717, 215156, 324583, 654135, 245397, 295863, 150949, 713665, 151349, 629665, 155906, 244396, 842143, 210163, 551863, 111471, 117860, 839504, 480832, 804884, 701021, 215747, 412705, 253429, 279527, 363013, 615658, 197099, 482913, 684543, 149575, 476139, 828956, 618116, 333511, 995841, 562902, 256896, 933755, 196107, 433196, 471581, 387119, 700975, 944566, 375059, 561343, 624436, 896014, 390930, 846778, 509334, 121398, 52940, 556766, 574197, 562960, 812051, 31378, 578292, 708192, 142241, 772959, 183374, 345864, 263794, 267865, 632443, 408545, 936925, 730884, 604584, 496668, 569453, 386311, 91255, 553600, 759393, 550545, 4494, 158677, 216882, 895273, 114818, 862173, 823497, 268042, 972278, 753728, 59968, 37460, 695192, 235791, 594090, 867799, 755987, 553846, 245237, 511024, 281281, 150370, 198348, 436276, 525281, 641801, 736096, 706954, 829061, 137161, 258297, 570958, 524178, 744159, 88532, 406492, 881028, 566974, 145779, 186793, 636566, 830867, 54419, 837017, 64738, 411679, 19109, 616898, 311700, 568468, 616481, 155008, 701621, 349014, 953160, 197847, 469160, 680085, 466410, 979928, 783550, 559489, 813811, 338025, 732088, 338180, 250758, 422983, 307966, 717168, 478163, 833926, 881881, 209240, 589579, 714890, 877507, 721444, 364492, 589209, 248691, 199749, 188150, 116952, 260677, 104890, 958342, 684894, 401180, 835492, 951432, 161162, 798409, 470984, 411926, 894351, 577064, 290255, 46842, 148802, 200017, 688822, 835740, 694908, 950668, 60033, 730751, 179979, 929488, 158610, 447237, 185265, 112590, 258401, 654500, 865301, 331535, 439093, 542354, 854371, 454980, 582494, 757248, 663116, 566065, 212904, 965800, 598620, 919748, 523467, 395568, 250197, 986476, 763826, 382235, 577465, 623778, 458606, 822137, 580502, 594984, 864223, 85649, 216812, 966301, 920865, 75191, 727080, 947506, 955849, 555404, 225458, 814772, 71040, 651672, 559730, 897927, 116330, 915192, 59564, 843636, 962628, 560728, 732816, 212054, 243045, 905386, 780597, 320971, 162909, 896647, 14169, 460668, 63641, 437541, 751146, 677984, 591609, 441560, 230299, 613526, 106822, 489167, 903066, 910980, 308400, 406217, 811501, 439386, 233061, 528956, 981358, 496611, 441765, 427426, 994099, 180468, 263746, 216971, 172864, 241675, 818385, 960768, 575236, 864851, 939653, 136951, 873673, 347352, 259644, 25719, 439859, 989661, 137058, 654146, 381386, 981779, 798421, 269907, 372099, 17292, 585180, 653088, 884014, 842392, 598261, 768102, 206934, 207191, 552024, 262237, 667982, 136623, 684135, 100361, 175183, 218113, 386982, 429603, 384460, 515996, 619462, 631470, 138132, 319898, 140593, 946047, 964909, 991825, 80855, 216445, 254188, 800008, 700357, 655465, 906337, 864957, 886820, 294384, 309264, 652910, 831450, 934902, 503697, 565341, 920919, 710530, 555543, 439366, 133127, 252622, 935892, 809704, 761619, 410379, 577696, 173495, 335239, 924981, 402226, 809127, 142119, 316438, 655518, 261834, 86785, 595876, 831080, 79964, 105111, 826888, 240480, 785311, 759557, 165777, 786659, 1260, 488427, 760589, 740935, 569051, 564597, 318957, 512090, 302762, 386061, 763814, 344781, 28722, 505979, 67808, 543972, 55308, 440372, 620963, 754472, 606436, 225720, 915036, 484555, 732472, 810747, 378526, 151838, 471485, 841140, 345903, 972129, 912104, 873196, 792018, 114886, 288386, 116503, 543143, 229360, 63637, 896558, 751867, 937587, 248049, 489643, 750152, 241579, 449120, 973294, 405861, 752569, 88403, 923163, 340684, 597494, 713368, 283524, 573323, 660835, 521855, 641829, 575493, 229824, 481152, 751041, 820867, 456559, 483873, 665318, 657184, 126401, 951340, 823461, 832605, 51684, 245219, 190385, 834456, 39336, 407853, 612709, 724309, 106065, 937690, 935655, 587481, 373, 736561, 435044, 83402, 340067, 343134, 459212, 595242, 768732, 929777, 588391, 695119, 11454, 228144, 951376, 353171, 285833, 535878, 23108, 138759, 23445, 507530, 875424, 705183, 277202, 790767, 783959, 972575, 188290, 632357, 973437, 218524, 287609, 247934, 937165, 630371, 585734, 101474, 588626, 173120, 613414, 446790, 53583, 143164, 566800, 313123, 720630, 257020, 312685, 354142, 719979, 944797, 455421, 106400, 940759, 122352, 907325, 616630, 155935, 30243, 508522, 418297, 999545, 552426, 526611, 777303, 967610, 808520, 253414, 558590, 120216, 853533, 311948, 468915, 681590, 883551, 472067, 734733, 859639, 568917, 932653, 784581, 502740, 269477, 98066, 322412, 21464, 459383, 572325, 6144, 71458, 905911, 774956, 418801, 210206, 505929, 157281, 49977, 556643, 75740, 59998, 985148, 597270, 798718, 52572, 625319, 552704, 388332, 399735, 243014, 128108, 272351, 995124, 14257, 178254, 975880, 347695, 707778, 727623, 216904, 891521, 492851, 868606, 617044, 64828, 495932, 763350, 670306, 401534, 771309, 710111, 282933, 460417, 696250, 192172, 553908, 721018, 329140, 35684, 753829, 171409, 467811, 496809, 140496, 719218, 184124, 678022, 981987, 990829, 648237, 324571, 885558, 912771, 344998, 730425, 444317, 892966, 483287, 494101, 480387, 150250, 161527, 351247, 866146, 923709, 539041, 955262, 483686, 349144, 189575, 186054, 542913, 21556, 662907, 287810, 815250, 934229, 491300, 669813, 532611, 836154, 527504, 530776, 366005, 747384, 108780, 22593, 25390, 887237, 88540, 275458, 807417, 203906, 196971, 991554, 267175, 796144, 25033, 97746, 57578, 706936, 877920, 405376, 51193, 492670, 347195, 954483, 570871, 888123, 11732, 207026, 822986, 610763, 377600, 615610, 939740, 605904, 763479, 137253, 324413, 878819, 582115, 696605, 932839, 963932, 571031, 265098, 258802, 92496, 648365, 672545, 7074, 898053, 245467, 225175, 893568, 63832, 711806, 255358, 930078, 98542, 80902, 947818, 877009, 388208, 763390, 851881, 350448, 314677, 411657, 218133, 71034, 554685, 202829, 986485, 502123, 97613, 149772, 918293, 471663, 734989, 916650, 387664, 871607, 213733, 595174, 576786, 238511, 125026, 123470, 867877, 495711, 762485, 987529, 444880, 993630, 601065, 562465, 610733, 676887, 436379, 192483, 737173, 67320, 248031, 772675, 250118, 437889, 707878, 427386, 898591, 592107, 851278, 884852, 156718, 526572, 526856, 876369, 189941, 100773, 32023, 170899, 313963, 874388, 746082, 437252, 119846, 230951, 447515, 59937, 414460, 343908, 579444, 410383, 234107, 941161, 816872, 817576, 984293, 851223, 987979, 92373, 94967, 815384, 134405, 189034, 869188, 86243, 199457, 245809, 79216, 969892, 156489, 957362, 866166, 886573, 73612, 704057, 264019, 100211, 590615, 872531, 935404, 798536, 28995, 481958, 230189, 461017, 840549, 231273, 481378, 55365, 264230, 148784, 683421, 870337, 971306, 325187, 355276, 482550, 676062, 558876, 229091, 691572, 680501, 389688, 278387, 104278, 196486, 782978, 975274, 983078, 473991, 308533, 232540, 921783, 796437, 985196, 903749, 381646, 60663, 17502, 995324, 103580, 504385, 707804, 392102, 112007, 396743, 30098, 246197, 278244, 791671, 864559, 21633, 716335, 186979, 84280, 595566, 6096, 229213, 802389, 852121, 180664, 138809, 970821, 315304, 9499, 644220, 887012, 772525, 586864, 473382, 880816, 885205, 651178, 967364, 194123, 249468, 633347, 669500, 81006, 301264, 922771, 38022, 496370, 291942, 316092, 715812, 979133, 235469, 782108, 728374, 467163, 324894, 420512, 493293, 285626, 14310, 196612, 845678, 354438, 799634, 230305, 111450, 227837, 460536, 112032, 792396, 120494, 359131, 600919, 722276, 502868, 73683, 233736, 712162, 31624, 548741, 310975, 14390, 791724, 316799, 416588, 566386, 445661, 276422, 372708, 408554, 972178, 560411, 550561, 422829, 853017, 579437, 47865, 546011, 201194, 85632, 617753, 978369, 586161, 588257, 25660, 264312, 232223, 429790, 560377, 627870, 81872, 611992, 511930, 712034, 89618, 523560, 290652, 373037, 278766, 219662, 53392, 603623, 132097, 213433, 868378, 284424, 334270, 450614, 369194, 812433, 889650, 982726, 421765, 303178, 219375, 26998, 733567, 756264, 843511, 381429, 410107, 318849, 56257, 467066, 21844, 628977, 212173, 703913, 946904, 883439, 694013, 597770, 906905, 372663, 526697, 824614, 627789, 32590, 427998, 572107, 714969, 433629, 947407, 935760, 114115, 994390, 596190, 269446, 812494, 236350, 99251, 554703, 243017, 457195, 540132, 841069, 58563, 168149, 321341, 426917, 601282, 44009, 637309, 102645, 950509, 387343, 748748, 265599, 71662, 871776, 241345, 708375, 456131, 142778, 27382, 889427, 67758, 931052, 171197, 167246, 543014, 802940, 631784, 386750, 475288, 948799, 106985, 987492, 460159, 424947, 775372, 16279, 708276, 659083, 188078, 819687, 640028, 678296, 578257, 792801, 521419, 302385, 366828, 558670, 391866, 643656, 475591, 207918, 432883, 598225, 177429, 705923, 382592, 151660, 429127, 443104, 603038, 495905, 715940, 631635, 7711, 453538, 165150, 957391, 446587, 720667, 271528, 689080, 988059, 440982, 45368, 470978, 830495, 604144, 171920, 307940, 39156, 305793, 657478, 122043, 689479, 356670, 986960, 418776, 178342, 233390, 661984, 777469, 530158, 129972, 685057, 227406, 182396, 569142, 56895, 958189, 98081, 909511, 605025, 641352, 678878, 581252, 880595, 856789, 886756, 97058, 37253, 714650, 107879, 417759, 341415, 658609, 126981, 865659, 757935, 477892, 960514, 487980, 424944, 939233, 637203, 801076, 509101, 923309, 481206, 4710, 336466, 250967, 285636, 267287, 746447, 180078, 76498, 106345, 241947, 97884, 578967, 7137, 92294, 119516, 208280, 280981, 481790, 18713, 38463, 393019, 412944, 669770, 356169, 642703, 676500, 279720, 409990, 221322, 31885, 349153, 485028, 516270, 291109, 277759, 285814, 711403, 157579, 923507, 743418, 670676, 570918, 570527, 637982, 837698, 189387, 25685, 94230, 799336, 770955, 631966, 658459, 394641, 315761, 615349, 507540, 930552, 779416, 319443, 514234, 514550, 427099, 418705, 303956, 214207, 750934, 450988, 40034, 731958, 886669, 6899, 335051, 837725, 826380, 268362, 58527, 380361, 436211, 75772, 402298, 64746, 434678, 62678, 869189, 978195, 979534, 129178, 265170, 101188, 57543, 640884, 202062, 50468, 593732, 922270, 474664, 516089, 510335, 850634, 681934, 92710, 114150, 754593, 394428, 505531, 770285, 601987, 90429, 856396, 111629, 345171, 475433, 794843, 742803, 472521, 642455, 19587, 51185, 206409, 874177, 878178, 987568, 332941, 165845, 22935, 151782, 135820, 356470, 256596, 785692, 568700, 39354, 532571, 754814, 361319, 217936, 303658, 957840, 261069, 339998, 347752, 460379, 121287, 481201, 956678, 358611, 607258, 908893, 648627, 461189, 1418, 5736, 305224, 13301, 657213, 616521, 986729, 759552, 582865, 264128, 979409, 123314, 646080, 448407, 366273, 247071, 701411, 337947, 83237, 313200, 862329, 576129, 227913, 680689, 928802, 561121, 491377, 347115, 222124, 921713, 759671, 516996, 343249, 749911, 216877, 599341, 53641, 612550, 863046, 262841, 97691, 977312, 406415, 112489, 516892, 812618, 120597, 868790, 752136, 41826, 81070, 853646, 320636, 839022, 134548, 857646, 934990, 544025, 132551, 964854, 301909, 937480, 277891, 922899, 463739, 374411, 295461, 921536, 824840, 784473, 446791, 809895, 420459, 93563, 583237, 828207, 115739, 943685, 799406, 381504, 166204, 578654, 701134, 24346, 135715, 579739, 84883, 880665, 944178, 462173, 585945, 262220, 846183, 113219, 444840, 190003, 367602, 878090, 17711, 804773, 686387, 840607, 339074, 459148, 53418, 703122, 172423, 245056, 802997, 814635, 562908, 203726, 373380, 370529, 565573, 735003, 614972, 402325, 439650, 970633, 699793, 962535, 159229, 12928, 911412, 225545, 477784, 935371, 456092, 972289, 659285, 48013, 855932, 82783, 425820, 984919, 538780, 866531, 802963, 584318, 229650, 183393, 582165, 713158, 474946, 375965, 7009, 566524, 831909, 37408, 374158, 974397, 419611, 610697, 742087, 398304, 947640, 419920, 552495, 398514, 366834, 391325, 803341, 872112, 82047, 940177, 981452, 923467, 237010, 25648, 659406, 79132, 24689, 930111, 119425, 761396, 152850, 28057, 584538, 549142, 628795, 997002, 898193, 722581, 527434, 753653, 234943, 468623, 298715, 205610, 971877, 987924, 194532, 392580, 596658, 746640, 698985, 354541, 351498, 575341, 992819, 49954, 253976, 813912, 239190, 688321, 527191, 935299, 193539, 772692, 908076, 654219, 45099, 212515, 340761, 279227, 39097, 180610, 761079, 860098, 556861, 196517, 10363, 981246, 81278, 286234, 24341, 363467, 639349, 871215, 270000, 708693, 243325, 317175, 317370, 826447, 682803, 609977, 697453, 571742, 86287, 37362, 253889, 90613, 671953, 622422, 99932, 108660, 908966, 67569, 158167, 995753, 305954, 828865, 259897, 363128, 537107, 660394, 484771, 338393, 633357, 904868, 230568, 852795, 432810, 946513, 762949, 408814, 136254, 894529, 292293, 885899, 31287, 894329, 437063, 15509, 919900, 420709, 616203, 372182, 375439, 468448, 731274, 884153, 394103, 204500, 45529, 501265, 769627, 587517, 500059, 391614, 366799, 79176, 437274, 891693, 360585, 388494, 413464, 278108, 714346, 37051, 615371, 717706, 307498, 771773, 91868, 341242, 565494, 976166, 647824, 356320, 460137, 513580, 496315, 688377, 504322, 7643, 840185, 248277, 579871, 473292, 576818, 360119, 625087, 253952, 633445, 833956, 397187, 906159, 723802, 821451, 651314, 38639, 397248, 348134, 115925, 573161, 415422, 236769, 592068, 62710, 511487, 198139, 590043, 126378, 523602, 511783, 66667, 858978, 150068, 336257, 176678, 11940, 154438, 929492, 694052, 648003, 589430, 231094, 53118, 643738, 645757, 74118, 143992, 411620, 404684, 257940, 381339, 718156, 749941, 895054, 905869, 698745, 936519, 211334, 781686, 765843, 77395, 919014, 862546, 384778, 212031, 787385, 287161, 64998, 998322, 593656, 651617, 701728, 674710, 270331, 957262, 15519, 297400, 662954, 473839, 867998, 642046, 512202, 951032, 496140, 926202, 47093, 100624, 497455, 24481, 190270, 912851, 928735, 419435, 272965, 127114, 222445, 571217, 533019, 873154, 391330, 187556, 203987, 1699, 686988, 625583, 580098, 537877, 574238, 660781, 207975, 329985, 223274, 567269, 426522, 617979, 711254, 728344, 736134, 262883, 753395, 861430, 158035, 715574, 999987, 320882, 820909, 653899, 641856, 44022, 297023, 37696, 101757, 841332, 303838, 380624, 162317, 631692, 853671, 952330, 179149, 649874, 272439, 513548, 554304, 356376, 24392, 751976, 439197, 70556, 187332, 689615, 809220, 260404, 796946, 338644, 310083, 435414, 378306, 132107, 765153, 266595, 102777, 640128, 158191, 383812, 937178, 991654, 305684, 838451, 614135, 514756, 216053, 226023, 639318, 661467, 410066, 266629, 616812, 235166, 225425, 489738, 739107, 465715, 774466, 36135, 890918, 91387, 324422, 494879, 111577, 559961, 366469, 308720, 18509, 333843, 65585, 398427, 659150, 6851, 299927, 616034, 913450, 228197, 398428, 139920, 560359, 797754, 130572, 267424, 256207, 551452, 152804, 393663, 422295, 342432, 362289, 864697, 231674, 746492, 869835, 873398, 434714, 793760, 959923, 250238, 572289, 623090, 253506, 902742, 171865, 205152, 599200, 761346, 267159, 517156, 711330, 181621, 767137, 752999, 956664, 913822, 162133, 368755, 369852, 46767, 536174, 162078, 542735, 283540, 872308, 157231, 46899, 253284, 727350, 510723, 95920, 969085, 140621, 723977, 315290, 383270, 907349, 329556, 966039, 519465, 961699, 69318, 605800, 447702, 172370, 407519, 631423, 297135, 550819, 472377, 937332, 456266, 826651, 269491, 882917, 77714, 664451, 305721, 751240, 135473, 54396, 901925, 152863, 593258, 850988, 232897, 878642, 828500, 448326, 482814, 675712, 180237, 811613, 979712, 731190, 395941, 546800, 883100, 420531, 877558, 884529, 157079, 617952, 556382, 423876, 32266, 273614, 761347, 20713, 371739, 348106, 687001, 230775, 183895, 965830, 490257, 899204, 79500, 389166, 797116, 473189, 314989, 469500, 845713, 871443, 160430, 387650, 42549, 977899, 377439, 594006, 588965, 613953, 762115, 888499, 89829, 371135, 73985, 286117, 465254, 776661, 86084, 306261, 113001, 401199, 267153, 632168, 673256, 360727, 523627, 298732, 615208, 380062, 552218, 550671, 103371, 558856, 538665, 205207, 998385, 720635, 452022, 436114, 811262, 737907, 728454, 702654, 311831, 760974, 92737, 328358, 418488, 165536, 639869, 111427, 160899, 281060, 381088, 63985, 687044, 669913, 238880, 202902, 521316, 651505, 600408, 779732, 452433, 450379, 534523, 242293, 501705, 607781, 405671, 198094, 882881, 175587, 134139, 985711, 218820, 832823, 662841, 635567, 33689, 937924, 460728, 285500, 197110, 190028, 539845, 99355, 851089, 943318, 340672, 529730, 115226, 457191, 425608, 570541, 231621, 992556, 346404, 269506, 59915, 741615, 694863, 471837, 305132, 995563, 866884, 569405, 445897, 360824, 286861, 57746, 309010, 675190, 144553, 924916, 760759, 840454, 540509, 811691, 305465, 81646, 950028, 896382, 426818, 954024, 738403, 94068, 572721, 514013, 721382, 136619, 812758, 877072, 212918, 790932, 491635, 816377, 910156, 248380, 834984, 318067, 769474, 892740, 954093, 978536, 910628, 320812, 617498, 360939, 290814, 608608, 935434, 723934, 152273, 637150, 701517, 520628, 178230, 961868, 36142, 199542, 428602, 773972, 978397, 295956, 970795, 1345, 622210, 25975, 16380, 56337, 953791, 920808, 290520, 119638, 751503, 832022, 242255, 152445, 257695, 205908, 208626, 296106, 294692, 541532, 793411, 486038, 414673, 133138, 216811, 853255, 857803, 292238, 470740, 468350, 833798, 565640, 361991, 861440, 974367, 135279, 50137, 716379, 177377, 709926, 5459, 560470, 123236, 345486, 752781, 375403, 150181, 402955, 779540, 378633, 602357, 356239, 7102, 817714, 503278, 263880, 651197, 313901, 962246, 726250, 374065, 203648, 188, 531352, 376026, 986675, 965224, 411182, 647379, 194737, 830873, 774542, 81482, 939748, 977490, 900929, 822582, 256822, 753947, 267630, 603649, 221131, 696178, 469566, 22715, 442558, 398528, 339206, 373234, 696512, 287593, 996647, 257630, 506480, 939627, 464655, 802504, 808817, 838292, 529556, 626109, 68212, 44822, 285658, 376160, 637464, 415885, 890201, 844720, 494646, 469283, 930562, 225753, 487291, 434832, 95290, 114966, 335891, 790381, 779036, 332315, 943920, 116655, 140198, 86783, 908528, 587344, 778281, 28842, 906296, 313683, 908059, 208702, 902750, 492324, 184260, 262141, 105395, 668238, 125511, 862684, 551181, 699582, 546441, 681758, 876996, 527669, 195907, 493038, 243899, 602650, 24732, 902199, 599828, 54946, 366578, 556188, 954763, 985297, 853569, 683736, 821392, 46412, 503205, 625517, 220684, 639525, 481852, 852875, 181766, 182867, 782529, 917557, 661705, 876194, 984008, 282812, 360103, 321074, 316275, 972734, 830897, 702104, 851457, 41164, 466671, 228042, 640623, 272063, 237894, 721843, 263335, 731508, 189195, 322948, 384255, 599685, 374442, 800695, 690601, 870531, 981804, 697917, 329801, 557928, 449115, 409667, 848660, 350149, 58879, 339710, 855583, 321996, 249243, 774025, 310693, 889431, 713952, 521307, 124102, 399208, 969263, 682529, 11050, 401869, 651000, 840409, 595251, 791087, 832657, 494131, 72067, 597680, 774747, 252057, 934547, 668120, 825636, 168813, 802530, 869737, 149530, 811365, 785691, 280522, 176533, 965552, 591600, 240036, 443050, 653722, 175697, 900716, 813043, 555124, 934845, 432659, 864561, 925804, 111636, 554390, 714276, 683888, 371508, 929511, 981202, 629700, 31632, 431914, 4731, 421676, 474025, 683746, 520043, 846115, 54128, 541850, 297630, 495162, 963798, 178900, 204679, 40553, 690488, 21763, 30636, 677751, 316439, 742840, 471717, 543340, 801828, 483892, 855978, 708738, 970672, 340271, 953869, 239316, 205894, 122136, 398057, 121010, 557755, 144941, 84060, 598917, 330289, 317169, 423151, 728304, 49331, 27047, 288589, 413115, 436094, 658901, 634777, 262836, 172011, 25653, 715191, 645121, 160732, 95270, 221158, 300380, 427457, 87815, 811356, 196307, 17754, 804446, 301685, 327507, 78405, 740016, 804687, 31642, 230777, 438075, 48380, 386975, 689967, 73211, 395367, 200265, 708635, 434070, 817963, 251326, 437979, 160342, 965249, 266651, 601404, 380661, 514637, 184380, 805256, 34140, 501678, 633426, 801883, 547646, 3613, 735501, 389890, 90871, 597999, 244074, 304812, 126236, 588235, 241518, 704558, 775245, 805466, 787806, 938452, 50283, 227448, 290157, 855203, 206761, 281786, 961962, 578178, 293953, 318331, 699565, 78414, 382876, 141212, 478306, 250944, 145205, 661832, 659564, 873809, 112622, 674294, 629327, 932533, 315726, 809308, 762665, 810756, 931280, 60225, 36258, 84058, 354222, 866994, 625161, 6867, 612788, 27537, 680056, 118276, 926234, 512991, 66424, 959981, 387431, 64837, 481024, 867739, 804811, 752244, 726561, 22128, 924013, 334394, 59583, 690134, 603213, 354303, 889564, 106977, 211096, 394657, 620696, 364220, 646625, 832361, 592649, 356943, 288179, 969365, 215472, 508659, 853929, 781071, 165244, 758959, 592999, 925631, 41863, 949068, 854955, 415981, 381045, 160664, 925615, 472470, 533841, 380270, 745325, 216931, 224450, 140106, 14810, 357242, 118822, 628226, 851498, 420381, 139282, 749763, 193361, 851195, 84635, 970615, 283646, 461005, 859388, 577809, 630413, 511796, 714014, 993379, 272067, 705548, 93103, 57685, 454423, 617912, 941317, 257057, 422027, 147202, 691084, 238178, 500805, 64319, 865304, 535694, 789055, 549446, 944177, 306235, 589223, 945705, 532080, 2002, 102920, 623664, 4896, 939968, 20732, 992324, 515604, 824920, 265729, 491327, 793950, 445486, 860345, 399954, 764754, 859343, 545922, 758077, 957384, 267605, 558893, 786347, 696126, 957855, 677679, 86827, 967055, 736205, 52144, 366064, 172618, 553691, 26459, 928610, 19378, 748115, 207412, 605999, 257024, 797858, 43841, 41090, 16755, 834449, 618252, 668503, 512732, 339946, 977110, 715190, 395423, 172037, 208922, 421909, 80673, 374178, 44285, 217181, 303623, 762196, 272936, 114188, 519478, 656620, 15989, 78467, 296960, 760825, 604591, 814119, 88234, 776610, 851356, 221639, 95602, 872161, 863992, 576998, 202305, 193427, 277791, 296549, 7135, 447757, 499604, 417949, 151836, 603045, 221032, 407728, 45127, 209882, 37249, 618345, 314384, 97821, 705559, 397862, 21605, 824744, 404143, 294985, 1449, 108841, 548827, 911738, 524857, 637841, 589508, 504842, 231740, 894958, 464076, 974087, 466335, 698358, 750693, 234287, 442608, 151587, 645554, 960947, 54987, 73536, 49355, 927354, 246548, 162322, 845313, 3809, 875462, 721152, 693204, 604872, 198541, 251170, 757930, 405898, 451641, 204444, 861121, 283918, 342211, 872599, 513875, 136168, 546749, 631326, 981389, 489782, 131272, 165698, 325611, 667655, 346296, 976197, 590602, 774419, 204992, 236461, 236980, 570002, 917113, 35681, 911338, 442889, 531931, 646741, 585620, 332450, 448391, 876760, 799299, 748701, 746229, 26280, 35960, 260600, 561301, 921561, 388729, 26719, 9986, 962863, 783888, 173204, 428273, 435781, 816308, 840337, 116294, 651961, 728978, 951698, 715378, 485513, 664533, 220790, 776958, 117839, 699739, 16373, 563475, 664658, 84723, 166020, 796921, 843874, 754308, 150048, 249462, 380702, 893915, 137901, 321323, 947334, 96971, 510175, 157390, 69817, 115643, 998578, 622986, 295847, 276608, 368541, 927006, 804088, 251182, 393668, 411573, 324004, 375088, 809364, 808084, 92481, 747782, 865041, 878969, 456775, 284308, 879979, 35376, 102796, 415974, 858929, 912795, 669884, 783853, 637895, 250120, 302734, 75537, 83619, 151955, 253921, 481853, 153668, 864357, 259797, 630585, 199955, 153939, 656143, 984554, 306416, 101666, 406938, 843145, 619190, 784465, 857865, 416017, 865464, 701175, 900494, 835343, 800226, 900429, 226716, 698810, 66164, 475620, 655467, 519057, 658681, 410390, 588350, 375313, 275974, 401724, 24361, 50636, 321715, 603269, 667603, 211464, 198164, 95302, 746451, 409341, 519938, 290021, 33978, 756529, 128304, 324483, 56590, 196988, 701031, 574946, 532334, 115177, 449333, 418271, 602013, 423822, 269650, 384488, 591057, 299821, 220848, 513894, 369456, 235899, 173633, 375412, 333062, 664541, 686922, 940257, 942072, 694080, 249202, 605372, 862594, 529022, 454805, 221258, 722811, 41655, 982145, 636010, 309358, 969776, 473654, 81740, 922993, 208284, 833313, 329769, 642364, 975970, 735445, 589480, 369112, 567900, 923443, 970860, 145020, 852734, 240559, 613800, 55648, 233470, 915475, 837824, 766598, 600999, 834505, 482549, 69848, 537833, 745462, 847720, 721343, 391305, 512549, 868281, 308302, 420404, 56613, 563839, 138433, 186061, 415828, 703124, 631292, 559477, 124266, 150271, 716104, 933781, 984881, 324636, 545665, 247612, 725631, 726206, 934036, 458429, 80395, 217653, 242046, 606161, 376867, 131085, 982055, 258194, 763562, 1653, 622729, 505616, 693517, 881963, 905297, 459962, 888610, 566921, 69472, 806871, 472196, 974933, 911074, 277858, 17516, 357580, 424158, 882999, 420399, 117111, 147905, 547709, 95424, 10471, 621791, 584046, 54358, 131390, 896532, 972682, 960520, 971248, 900439, 490558, 624249, 851425, 601652, 608532, 731158, 180565, 495868, 951673, 52886, 852927, 493279, 228171, 834326, 805948, 881313, 811061, 790181, 673320, 627514, 708082, 60627, 780808, 654668, 871913, 742875, 931241, 114919, 379161, 7154, 743586, 323125, 811431, 635143, 458045, 884251, 235730, 132471, 291958, 187823, 956331, 450325, 12949, 169236, 940286, 500135, 445535, 433471, 208110, 163568, 935340, 928546, 991414, 465131, 105375, 152116, 362795, 110688, 416381, 618264, 710836, 607804, 949145, 735349, 203914, 94344, 453120, 513929, 540875, 304528, 952319, 28028, 846945, 532840, 589979, 668809, 731936, 442152, 57872, 961778, 713441, 135538, 338999, 536116, 521867, 812654, 318462, 248068, 315775, 638407, 186707, 776103, 165387, 50899, 712155, 848053, 106100, 132902, 403030, 644583, 127941, 413620, 330600, 340468, 855952, 77508, 597605, 984622, 476174, 897420, 514395, 237246, 755281, 325967, 63214, 605733, 855546, 116804, 228668, 906561, 12721, 913141, 838976, 266533, 403322, 465147, 53008, 182228, 265851, 913132, 81359, 631400, 99923, 771164, 215885, 998200, 275991, 301005, 850095, 869283, 854408, 855889, 862464, 630339, 497921, 707895, 498372, 954533, 361287, 172542, 249752, 749565, 864116, 955311, 215764, 220413, 326597, 863857, 854290, 407780, 847759, 291132, 130532, 684960, 890848, 288480, 741188, 689973, 147482, 78448, 298127, 588949, 219260, 827823, 234804, 212503, 939418, 806445, 333068, 832134, 696590, 40991, 332098, 642997, 893368, 772201, 504464, 308064, 729465, 888845, 413239, 191379, 27773, 908985, 419649, 980218, 873657, 9562, 594026, 91908, 50883, 141708, 283800, 440448, 659320, 651045, 947269, 824785, 3674, 271151, 39338, 891167, 836182, 232458, 51013, 211898, 314496, 620353, 440893, 631113, 167724, 904084, 774859, 784645, 583927, 648500, 758961, 637009, 42254, 116719, 461071, 295255, 816298, 339739, 761571, 271260, 851216, 362110, 654440, 443460, 532521, 565841, 879068, 994209, 22220, 476137, 690189, 368627, 172010, 230431, 11607, 238586, 320524, 588879, 691523, 287040, 569717, 796870, 584371, 417510, 110049, 197145, 646652, 153902, 201260, 612930, 779059, 639759, 78488, 710852, 983986, 610739, 90685, 103977, 361405, 173640, 143244, 723070, 719791, 323174, 679281, 611194, 684207, 443715, 617494, 972215, 419875, 218267, 236425, 697531, 336699, 855235, 869012, 904540, 97033, 195600, 639698, 232651, 948845, 680627, 110170, 583319, 934007, 251939, 75800, 261949, 564781, 288944, 338286, 653254, 449822, 934751, 686313, 801565, 641096, 52527, 554568, 595541, 636522, 597929, 611489, 50842, 440779, 413849, 860680, 694796, 178929, 707826, 307510, 390197, 212513, 669072, 293506, 101717, 425325, 636800, 302426, 735756, 434724, 881873, 808623, 538081, 937040, 258971, 882879, 144180, 312454, 448188, 59878, 22034, 372265, 476652, 465071, 701327, 85423, 44392, 529255, 802875, 820749, 215431, 360031, 336814, 970914, 581526, 939866, 672260, 268939, 397133, 976193, 412864, 380205, 916443, 151000, 156319, 414914, 481013, 378228, 916799, 54436, 971231, 156434, 498517, 253254, 633869, 612962, 164109, 648613, 752918, 83551, 539293, 337535, 815409, 440760, 5699, 808803, 929287, 353799, 172127, 41565, 498729, 937079, 635138, 397686, 809306, 585373, 471059, 853621, 562409, 218571, 282389, 385401, 166414, 859094, 695818, 614361, 44465, 806031, 667623, 645037, 984553, 123475, 951576, 720458, 159638, 879967, 473200, 843153, 2246, 917819, 61566, 521158, 578481, 163428, 963618, 152094, 466464, 728804, 934707, 769176, 789323, 702951, 449366, 179020, 496134, 873268, 114432, 174394, 923502, 864877, 811683, 989101, 663933, 956243, 66580, 208225, 759847, 294546, 277872, 389417, 363853, 979082, 74830, 802393, 134022, 448931, 501011, 448929, 35984, 224775, 53872, 59590, 498644, 672544, 266012, 518474, 855342, 309003, 533685, 74519, 952479, 352086, 425515, 361236, 843798, 235348, 876314, 476006, 246184, 258200, 472179, 22122, 654561, 133823, 218628, 38197, 554332, 143705, 493677, 90751, 7846, 572194, 48934, 109992, 988860, 943248, 833548, 116213, 75821, 548361, 24990, 570865, 463291, 229685, 996669, 659005, 831605, 966550, 646726, 197568, 790978, 727075, 319008, 540893, 866834, 84122, 818807, 54792, 282538, 785874, 703309, 199233, 475165, 123967, 806420, 569256, 991022, 623863, 914715, 657720, 323738, 994668, 266916, 13840, 423132, 73543, 470931, 421709, 31610, 281088, 170283, 322933, 421969, 877502, 454755, 305699, 107413, 1642, 806475, 899478, 836014, 419830, 337102, 685694, 90503, 341546, 480875, 384071, 804278, 580843, 90208, 669363, 454439, 359433, 848675, 847408, 860421, 362395, 625890, 12629, 97549, 392917, 533299, 447343, 565337, 880952, 163095, 30987, 994670, 13984, 735376, 345200, 11725, 577962, 599163, 661345, 164070, 787251, 132566, 120238, 465951, 293117, 433088, 686327, 465058, 858832, 377531, 556751, 377835, 323800, 596624, 528393, 810680, 649865, 653203, 518617, 195386, 213265, 550986, 137446, 26904, 367686, 40800, 477214, 901758, 300643, 311892, 937398, 573783, 306009, 664724, 395997, 262554, 398989, 894414, 429918, 541516, 530978, 635247, 829948, 594128, 40677, 942300, 202274, 346443, 458865, 311110, 194907, 977176, 10675, 919102, 163044, 410950, 4363, 69691, 341655, 727406, 657097, 994286, 520974, 803517, 197810, 19487, 92939, 457289, 926452, 200310, 568510, 33766, 659142, 106493, 512751, 200050, 440877, 718268, 822776, 987586, 34582, 191481, 512656, 418672, 491098, 705129, 32103, 325494, 215599, 272426, 122306, 606188, 578801, 732959, 198141, 961494, 189233, 305897, 10756, 223972, 599490, 342030, 819098, 421322, 289495, 274643, 255823, 712447, 425777, 624622, 691839, 518122, 777887, 304293, 323229, 688073, 98803, 560066, 42712, 749303, 648687, 462223, 311499, 219913, 401756, 1218, 219203, 355806, 216162, 350137, 470030, 272542, 650058, 368950, 438206, 393270, 915194, 94082, 153907, 786047, 939710, 906428, 317304, 489454, 255098, 666730, 160980, 829923, 930344, 419325, 505614, 534519, 392501, 82785, 545809, 251444, 731670, 530934, 6892, 902585, 306170, 739181, 231352, 3754, 570903, 782033, 238156, 233623, 807030, 752960, 848599, 319268, 220103, 506347, 618197, 129575, 695514, 185942, 605543, 136050, 785917, 638508, 553538, 448430, 273040, 558607, 609486, 550458, 495428, 84128, 300497, 197960, 782817, 173584, 152409, 454438, 466881, 454752, 282630, 761232, 690342, 889723, 58554, 388379, 155397, 921836, 687027, 901611, 308236, 264412, 718246, 320260, 320361, 437290, 5557, 487677, 821938, 179596, 326651, 254267, 258110, 531449, 544950, 694329, 707834, 863889, 680538, 194903, 282835, 536449, 161814, 511887, 529698, 737613, 630885, 31973, 748769, 885267, 131517, 739244, 888952, 964607, 86872, 234953, 678612, 769055, 29836, 731791, 900087, 499865, 206861, 14206, 749548, 971538, 45983, 818723, 155924, 815973, 882977, 20214, 759618, 553173, 381329, 452669, 800714, 939368, 131060, 864296, 934030, 310413, 993919, 558637, 486029, 893499, 587669, 627739, 430701, 580491, 45082, 211569, 325522, 942064, 966432, 900719, 785907, 927740, 366993, 659720, 731545, 581988, 802061, 636750, 441381, 715935, 367081, 191266, 246771, 89918, 374084, 281422, 319136, 698586, 633258, 945970, 698923, 632444, 905021, 596017, 183791, 822595, 645467, 147093, 27717, 151032, 798934, 93201, 494711, 848937, 675889, 2750, 346792, 945026, 869517, 62392, 245921, 888737, 254401, 21981, 690259, 403792, 49428, 689310, 342738, 116875, 8552, 580607, 473269, 395042, 780374, 882641, 669167, 615253, 737328, 384481, 986899, 757602, 847076, 144872, 302849, 197617, 306612, 901871, 7911, 385045, 330473, 373759, 918405, 243184, 772774, 77309, 681736, 776078, 341479, 683338, 30201, 867124, 510712, 812815, 545399, 919523, 9460, 493453, 964757, 769801, 968772, 687843, 899494, 269170, 577218, 901729, 840993, 147857, 691013, 415984, 545651, 652826, 443444, 409292, 684089, 926515, 415478, 913444, 906189, 968285, 614921, 481312, 94008, 748049, 443111, 336879, 336301, 125675, 780427, 283137, 542717, 407912, 920687, 998294, 440499, 289385, 253489, 986510, 303583, 274183, 836908, 762314, 3952, 568027, 841138, 91765, 941506, 309510, 917860, 501540, 412615, 861693, 831889, 324369, 423786, 948332, 11191, 944375, 685864, 521614, 573290, 834287, 892597, 762037, 427803, 504248, 750644, 562391, 866396, 724569, 867382, 215985, 197520, 511854, 901614, 3860, 500205, 481235, 290723, 587035, 881931, 914520, 287081, 424684, 130223, 843363, 509688, 32905, 429721, 945773, 785736, 323989, 696430, 292910, 284857, 260593, 592646, 160564, 592758, 740889, 689126, 870845, 246562, 201738, 123404, 51711, 222493, 548776, 644008, 753907, 53219, 171959, 120812, 42272, 519313, 780852, 58934, 859717, 568667, 327122, 623492, 286024, 960180, 539039, 711803, 78853, 812310, 464945, 548565, 926912, 360062, 543651, 456385, 339835, 920874, 797879, 894977, 173459, 226530, 547071, 578457, 212191, 277151, 876250, 536013, 551041, 37628, 326934, 127552, 103960, 216120, 771670, 650869, 995321, 276181, 795544, 65630, 481074, 478704, 358975, 24303, 859973, 721257, 491706, 96568, 875353, 319829, 644085, 875567, 704568, 428655, 157227, 632266, 741388, 845788, 712979, 688094, 956385, 172795, 374697, 556474, 84184, 829385, 947381, 320564, 165756, 757884, 866442, 457655, 91553, 767677, 638291, 554656, 959245, 668300, 181616, 898123, 82764, 938171, 398407, 838918, 488792, 424569, 474760, 654672, 319183, 227428, 792572, 563295, 501282, 802993, 665368, 397159, 327757, 373025, 402188, 966405, 647360, 668728, 315294, 663168, 921542, 941240, 542366, 261028, 338015, 695424, 916469, 363623, 537809, 816454, 716083, 689222, 210526, 391962, 419139, 44798, 616809, 987273, 117840, 136041, 957013, 813913, 323795, 149507, 28178, 394938, 311910, 813012, 984324, 305246, 483573, 930178, 633031, 840897, 917156, 187888, 122584, 523157, 938354, 186792, 440440, 868455, 987479, 647681, 656238, 998326, 297043, 73374, 79948, 78298, 938824, 180208, 207743, 371047, 425175, 797310, 66994, 851061, 56097, 824888, 835883, 135470, 344257, 285133, 615325, 269605, 13002, 217599, 883186, 938878, 476702, 262393, 876715, 911704, 219608, 775209, 149227, 994694, 87844, 510780, 301478, 380785, 512125, 823054, 733171, 417590, 884482, 224092, 662039, 334420, 368579, 113212, 901620, 844013, 572709, 653403, 610567, 451766, 413585, 870038, 620818, 224226, 903701, 385159, 299969, 788403, 888937, 645415, 736103, 215860, 796683, 634440, 451738, 77534, 336831, 340725, 158083, 877886, 694404, 82851, 553895, 650681, 886057, 512634, 798750, 873394, 645724, 535722, 125016, 620572, 624239, 741437, 964741, 552061, 939819, 415087, 81139, 490581, 808301, 31612, 624758, 934496, 993537, 747919, 170044, 639045, 397251, 600326, 25520, 922077, 173499, 414630, 287454, 779500, 801978, 698388, 531766, 150105, 815904, 668887, 392044, 164362, 517014, 90527, 301106, 514061, 244970, 945382, 725940, 545274, 114876, 602931, 132907, 357044, 537599, 935524, 340534, 625832, 715424, 635710, 792101, 720706, 439772, 235377, 176694, 939048, 40451, 920503, 627744, 233609, 843052, 135465, 220130, 506418, 42746, 648874, 768916, 346710, 495738, 143138, 46468, 976402, 800511, 614118, 424959, 19806, 387114, 269675, 353129, 540859, 466906, 180012, 592797, 338464, 891701, 162073, 533681, 560457, 51892, 511335, 837749, 442521, 671421, 37088, 679183, 508036, 205914, 211498, 346556, 739632, 2677, 417589, 380127, 657935, 661880, 984659, 941299, 887344, 20532, 389896, 377153, 625448, 210267, 253387, 453867, 261205, 595396, 354415, 970934, 586811, 660415, 623565, 753228, 640318, 166173, 278158, 334229, 456934, 881855, 576623, 326453, 957205, 361091, 661251, 519026, 489134, 45825, 862570, 84846, 38832, 782515, 188517, 220444, 580661, 474427, 130187, 877481, 474743, 145654, 519483, 193691, 370402, 747660, 443432, 594680, 76199, 442513, 370012, 500680, 69441, 663605, 41654, 834888, 517961, 981643, 235666, 773916, 822450, 708540, 607502, 999908, 941129, 64304, 277734, 572892, 84673, 568132, 624964, 117552, 880528, 118066, 619812, 600199, 386118, 135431, 392923, 660530, 444538, 116753, 427144, 663620, 862116, 848432, 660245, 775925, 172514, 858743, 581076, 475563, 428620, 41220, 11138, 33100, 428604, 759433, 195023, 230860, 909247, 397116, 988827, 674975, 156936, 12325]\n"
     ]
    }
   ],
   "source": [
    "# This code sets our random seed\n",
    "# https://docs.python.org/3/library/random.html#random.seed\n",
    "random.seed(a=13, version=2)\n",
    "#random.randrange(1, 1000000)\n",
    "\n",
    "\n",
    "random_numbers = random.sample(range(1,1000000),k=10000)\n",
    "print(random_numbers)\n",
    "# your code here \n",
    "\n",
    "#random.randrange(1, 1000000)\n"
   ]
  },
  {
   "cell_type": "markdown",
   "metadata": {},
   "source": [
    "**3.7:** Add to the `mystery` number the first digit of the first item in `random_numbers`. For example, if the first item in `random_numbers` is 982, then add 9 to the mystery number."
   ]
  },
  {
   "cell_type": "code",
   "execution_count": 95,
   "metadata": {
    "deletable": false
   },
   "outputs": [
    {
     "data": {
      "text/plain": [
       "271591"
      ]
     },
     "execution_count": 95,
     "metadata": {},
     "output_type": "execute_result"
    }
   ],
   "source": [
    "# your code here\n",
    "\n",
    "random_numbers[0]\n",
    "\n"
   ]
  },
  {
   "cell_type": "code",
   "execution_count": 96,
   "metadata": {},
   "outputs": [
    {
     "name": "stdout",
     "output_type": "stream",
     "text": [
      "34\n"
     ]
    }
   ],
   "source": [
    "#update mystery\n",
    "mystery = mystery + 2\n",
    "print(mystery)"
   ]
  },
  {
   "cell_type": "code",
   "execution_count": 97,
   "metadata": {
    "deletable": false
   },
   "outputs": [
    {
     "data": {
      "text/plain": [
       "34"
      ]
     },
     "execution_count": 97,
     "metadata": {},
     "output_type": "execute_result"
    }
   ],
   "source": [
    "# see the current mystery value\n",
    "mystery"
   ]
  },
  {
   "cell_type": "markdown",
   "metadata": {
    "deletable": false,
    "editable": false
   },
   "source": [
    "Writing tons of code in a linear fashion can only get you so far. Functions are incredibly useful, as they help us modularize, organize, and reuse pieces of our code. It's important to understand how functions work and the scope of each variable. For example, in the function below, `func()`, we demonstrate that the function has its own local scope. That is, `func()` has its own variable called `num`, which is independent from the `num` that exists outside of the function."
   ]
  },
  {
   "cell_type": "code",
   "execution_count": 98,
   "metadata": {
    "deletable": false,
    "editable": false
   },
   "outputs": [
    {
     "name": "stdout",
     "output_type": "stream",
     "text": [
      "3\n"
     ]
    }
   ],
   "source": [
    "def func(num: int):\n",
    "    num = num*2\n",
    "    \n",
    "num = 3\n",
    "func(num)\n",
    "print(num)"
   ]
  },
  {
   "cell_type": "code",
   "execution_count": 99,
   "metadata": {},
   "outputs": [
    {
     "name": "stdout",
     "output_type": "stream",
     "text": [
      "None\n"
     ]
    }
   ],
   "source": [
    "print(func(num))"
   ]
  },
  {
   "cell_type": "code",
   "execution_count": 100,
   "metadata": {},
   "outputs": [
    {
     "data": {
      "text/plain": [
       "6"
      ]
     },
     "execution_count": 100,
     "metadata": {},
     "output_type": "execute_result"
    }
   ],
   "source": [
    "def func(num: int):\n",
    "    num = num*2\n",
    "    return num\n",
    "\n",
    "func(num)"
   ]
  },
  {
   "cell_type": "markdown",
   "metadata": {},
   "source": [
    "However, functions can also return values, which allow code outside of functions to use said values."
   ]
  },
  {
   "cell_type": "code",
   "execution_count": null,
   "metadata": {},
   "outputs": [],
   "source": []
  },
  {
   "cell_type": "code",
   "execution_count": 101,
   "metadata": {
    "deletable": false,
    "editable": false
   },
   "outputs": [
    {
     "name": "stdout",
     "output_type": "stream",
     "text": [
      "6\n"
     ]
    }
   ],
   "source": [
    "def func2(num: int):\n",
    "    num = num*2\n",
    "    return num\n",
    "\n",
    "num = 3\n",
    "num = func2(num)\n",
    "print(num)"
   ]
  },
  {
   "cell_type": "markdown",
   "metadata": {
    "deletable": false
   },
   "source": [
    "**3.8**:  Write a function `pair_exists()` that takes two items as input:\n",
    "- `nums`: a list (or other data structure)\n",
    "- `target`: an integer\n",
    "\n",
    "The function should return **True** if any two numbers within `nums` sum up to `target`. Otherwise, return **False**. Note, you are not restricted to using a list (e.g., could use a Set or Hash/Dictionary structure). Think about the tradeoffs of transforming `random_numbers` to other data structures."
   ]
  },
  {
   "cell_type": "code",
   "execution_count": 102,
   "metadata": {
    "deletable": false
   },
   "outputs": [],
   "source": [
    "\n",
    "##def pair_exists(nums, target):\n",
    " #   for i < 10000\n",
    "#    pairs = []\n",
    "#    i = 0\n",
    "#    j = 10000\n",
    "#    while i < j:\n",
    "        #nums= random_numbers\n",
    "        #pairs.append(random_numbers[i] + random_numbers[j])\n",
    "#        i\n",
    "#        pairs.append(nums[i] + nums[j])\n",
    "\n",
    "#    for i in pairs:\n",
    "#        if (i==target):\n",
    "#            print (\"Pair exists\")\n",
    "            \n",
    "def pair_exists(nums, target):\n",
    "\n",
    "    for i in nums:\n",
    "        for j in nums: \n",
    "            result = i + j \n",
    "            if result == target:\n",
    "                return \"true\" \n",
    "            \n",
    "    # end of your code here \n",
    "    \n",
    "  #  return fib_list\n",
    "        \n",
    "    # you code here\n"
   ]
  },
  {
   "cell_type": "code",
   "execution_count": 103,
   "metadata": {},
   "outputs": [
    {
     "data": {
      "text/plain": [
       "'true'"
      ]
     },
     "execution_count": 103,
     "metadata": {},
     "output_type": "execute_result"
    }
   ],
   "source": [
    "pair_exists(random_numbers, 38109)"
   ]
  },
  {
   "cell_type": "code",
   "execution_count": 104,
   "metadata": {},
   "outputs": [
    {
     "name": "stdout",
     "output_type": "stream",
     "text": [
      "true\n",
      "true\n"
     ]
    }
   ],
   "source": [
    "print(pair_exists(random_numbers, 38109)) # SHOULD RETURN TRUE\n",
    "print(pair_exists(random_numbers, 13538)) # SHOULD RETURN TRUE"
   ]
  },
  {
   "cell_type": "markdown",
   "metadata": {
    "deletable": false
   },
   "source": [
    "Generate 10 random numbers in [0, 1000000) using the code below: \n"
   ]
  },
  {
   "cell_type": "code",
   "execution_count": 105,
   "metadata": {
    "deletable": false
   },
   "outputs": [
    {
     "name": "stdout",
     "output_type": "stream",
     "text": [
      "[62202, 35257, 86176, 69354, 87347, 45847, 18690, 50022, 1423, 49119]\n"
     ]
    }
   ],
   "source": [
    "random.seed(a=12, version=2)\n",
    "target_numbers = random.sample(range(100000), k=10)\n",
    "num_found = 0\n",
    "\n",
    "print (target_numbers)"
   ]
  },
  {
   "cell_type": "markdown",
   "metadata": {
    "deletable": false
   },
   "source": [
    "**3.9**: Write code that executes your `pair_exists()` function, once for each number within the `target_numbers` list. How many of these values return **True**? Add this to the mystery number (e.g., if 5 of the numbers cause `pair_exists()` to return True, then add 5 to the mystery number)."
   ]
  },
  {
   "cell_type": "code",
   "execution_count": 106,
   "metadata": {
    "deletable": false
   },
   "outputs": [
    {
     "name": "stdout",
     "output_type": "stream",
     "text": [
      "true\n",
      "None\n",
      "true\n",
      "true\n",
      "true\n",
      "true\n",
      "true\n",
      "true\n",
      "None\n",
      "true\n"
     ]
    }
   ],
   "source": [
    "# you code here\n",
    "print(pair_exists(random_numbers, 62202)) # SHOULD RETURN TRUE\n",
    "print(pair_exists(random_numbers, 35257)) # SHOULD RETURN TRUE\n",
    "print(pair_exists(random_numbers, 86176)) # SHOULD RETURN TRUE\n",
    "print(pair_exists(random_numbers, 69354)) # SHOULD RETURN TRUE\n",
    "print(pair_exists(random_numbers, 87347)) # SHOULD RETURN TRUE\n",
    "print(pair_exists(random_numbers, 45847)) # SHOULD RETURN TRUE\n",
    "print(pair_exists(random_numbers, 18690)) # SHOULD RETURN TRUE\n",
    "print(pair_exists(random_numbers, 50022)) # SHOULD RETURN TRUE\n",
    "print(pair_exists(random_numbers, 1423)) # SHOULD RETURN TRUE\n",
    "print(pair_exists(random_numbers, 49119)) # SHOULD RETURN TRUE\n"
   ]
  },
  {
   "cell_type": "code",
   "execution_count": 107,
   "metadata": {},
   "outputs": [
    {
     "name": "stdout",
     "output_type": "stream",
     "text": [
      "8\n",
      "42\n"
     ]
    }
   ],
   "source": [
    "count = 0 \n",
    "\n",
    "for target in target_numbers:\n",
    "    if pair_exists(random_numbers, target) == \"true\":\n",
    "        count = count + 1\n",
    "        \n",
    "mystery = mystery + count\n",
    "        \n",
    "\n",
    "print(count)\n",
    "\n",
    "print(mystery)\n",
    "    \n"
   ]
  },
  {
   "cell_type": "markdown",
   "metadata": {
    "deletable": false
   },
   "source": [
    "Dictionaries in Python (generally referred to as HashMaps) are the most powerful, commonly-used data structure, as they allow for non-flat structure and incredibly fast access time. They consist of key-value pairs. You should feel comfortable using a dictionary in Python. \n",
    "\n",
    "As an example, generations within the western world are typically defined as follows:\n",
    "\n",
    "- Lost Generation: 1883-1900\n",
    "- Greatest Generation: 1901-1927\n",
    "- Silent Generation: 1928 - 1945\n",
    "- Baby Boomers: 1946-1964\n",
    "- Generation X: 1965-1980\n",
    "- Millennials: 1981-1996\n",
    "- Generation Z: 1997-2012"
   ]
  },
  {
   "cell_type": "markdown",
   "metadata": {
    "deletable": false
   },
   "source": [
    "\n",
    "**3.10** Create a dictionary named `generations` where the keys are the generation names (e.g., 'Silent Generation') and the values are *starting years* for each generation. For example, one key-value pair would be: `{'Silent Generation' : 1928}`"
   ]
  },
  {
   "cell_type": "code",
   "execution_count": 108,
   "metadata": {
    "deletable": false
   },
   "outputs": [],
   "source": [
    "# you code here\n",
    "\n",
    "generations = {\n",
    "    \"Lost Generation\": 1883,\n",
    "    \"Greatest Generation\": 1901,\n",
    "    \"Silent Generation\": 1928,\n",
    "    \"Baby Boomers\": 1946,\n",
    "    \"Generation X\": 1965,\n",
    "    \"Millennials\": 1981,\n",
    "    \"Generation Z\": 1997\n",
    "    }"
   ]
  },
  {
   "cell_type": "code",
   "execution_count": 109,
   "metadata": {
    "deletable": false,
    "editable": false
   },
   "outputs": [
    {
     "data": {
      "text/plain": [
       "44.0"
      ]
     },
     "execution_count": 109,
     "metadata": {},
     "output_type": "execute_result"
    }
   ],
   "source": [
    "mystery = mystery + int(generations['Baby Boomers'])/973\n",
    "mystery"
   ]
  },
  {
   "cell_type": "markdown",
   "metadata": {
    "deletable": false
   },
   "source": [
    "Below, `possible_gens` contains several items. "
   ]
  },
  {
   "cell_type": "code",
   "execution_count": 110,
   "metadata": {
    "deletable": false
   },
   "outputs": [],
   "source": [
    "possible_gens = [ 'The Lost Generation', 'Zoomers', 'Generation X', 'Generation Y',\n",
    "                 'Fitbiters',  'Clickbaiters','Zipliners', 'Lipliners',\n",
    "                 'Ghostbusters', 'MythBusters', 'Smack Talkers', 'Snack Eaters',\n",
    "                 'Aarvarks', 'Baby Boomers', 'Silent Wavers', 'Earth Shakers',\n",
    "                 'Ground Breakers', 'The Greatest Generation', 'Silent Generation',\n",
    "                 'Salsa Dancers', 'Horse Riders', 'Millennials', 'Castle Dwellers',\n",
    "                 'Chain Smokers', 'Rain Makers', 'Generation Jay Z', 'Sun Bathers']\n"
   ]
  },
  {
   "cell_type": "markdown",
   "metadata": {},
   "source": [
    "**3.11**:  Write some code that adds 1 to `mystery` for each `possible_gens` item that is also a key within the `generations` dictionary. For example, if 2 of those items (e.g., Zoomers and Babies) are both keys in `generations`, then add 2 to the mystery number.\n"
   ]
  },
  {
   "cell_type": "code",
   "execution_count": 111,
   "metadata": {},
   "outputs": [
    {
     "name": "stdout",
     "output_type": "stream",
     "text": [
      "45.0\n",
      "46.0\n",
      "47.0\n",
      "48.0\n"
     ]
    },
    {
     "data": {
      "text/plain": [
       "48.0"
      ]
     },
     "execution_count": 111,
     "metadata": {},
     "output_type": "execute_result"
    }
   ],
   "source": [
    "# you code here\n",
    "len(possible_gens)\n",
    "\n",
    "for i in possible_gens:\n",
    "    if i in generations.keys():\n",
    "        mystery = mystery +1\n",
    "        print( mystery)\n",
    "        \n",
    "        \n",
    "        \n",
    "mystery\n",
    "\n"
   ]
  },
  {
   "cell_type": "markdown",
   "metadata": {
    "deletable": false,
    "editable": false
   },
   "source": [
    "<div class='exercise'> <b> Exercise 4: Matrix Operations</b></div>\n",
    "    \n",
    "Complete the following matrix operations by hand (show your work as a markdown/latex notebook cell)."
   ]
  },
  {
   "cell_type": "markdown",
   "metadata": {
    "deletable": false
   },
   "source": [
    "**4.1.** Let $ A =  \\left( \\begin{array}{ccc}\n",
    "3 & 4 & 2 \\\\\n",
    "5 & 6 & 4 \\\\\n",
    "4 & 3 & 4 \\end{array} \\right) \\,\\,$ and  $ \\,\\, B = \\left( \\begin{array}{ccc}\n",
    "1 & 4 & 2 \\\\\n",
    "1 & 9 & 3 \\\\\n",
    "2 & 3 & 3 \\end{array} \\right)\n",
    "$\n",
    "\n",
    "\n",
    "Compute $C=A \\cdot B$ and add the `C[0,2]` value to `mystery`. "
   ]
  },
  {
   "cell_type": "markdown",
   "metadata": {
    "deletable": false
   },
   "source": [
    "*Your answer here*\n",
    "\n",
    "\n",
    "$ C =  \\left( \\begin{array}{ccc}\n",
    "(3*1+4*1+2*2)& (3*4+4*9+2*3) & (3*2+4*3+4*3) \\\\\n",
    "(5+6+8) & (20 + 6*9 + 12) & (5*2 + 6*3 + 12) \\\\\n",
    "(4+3+8) & (16 + 27 +12)  & (8 + 9 + 12) \\end{array} \\right) \\,\\,$\n",
    "\n",
    "$ C =  \\left( \\begin{array}{ccc}\n",
    "11 & 54 & 24 \\\\\n",
    "19 & 86 & 40 \\\\\n",
    "15 & 55 & 29 \\end{array} \\right) \\,\\,$\n",
    "\n",
    "`C[0,2]` = 24\n",
    "\n"
   ]
  },
  {
   "cell_type": "code",
   "execution_count": 112,
   "metadata": {
    "deletable": false
   },
   "outputs": [
    {
     "name": "stdout",
     "output_type": "stream",
     "text": [
      "72.0\n"
     ]
    }
   ],
   "source": [
    "# you code here \n",
    "#update mystery\n",
    "\n",
    "c_0_2=24\n",
    "\n",
    "mystery = mystery +c_0_2\n",
    "print(mystery)\n",
    "\n"
   ]
  },
  {
   "cell_type": "markdown",
   "metadata": {
    "deletable": false
   },
   "source": [
    "**4.2.** Let\n",
    "$$ A =  \\left( \\begin{array}{ccc}\n",
    "0 & 12 & 8 \\\\\n",
    "1 & 15 & 0 \\\\\n",
    "0 & 6 & 3 \\end{array} \\right)$$  \n",
    "\n",
    "Compute $C = A^{-1}$ and add the value of `C[1,1]` to `mystery`. "
   ]
  },
  {
   "cell_type": "markdown",
   "metadata": {
    "deletable": false
   },
   "source": [
    "*Your answer here*\n",
    "\n",
    "$C = A^{-1}$\n",
    "\n",
    "$$ C =  \\left( \\begin{array}{ccc}\n",
    "15/4 & 1 & -10 \\\\\n",
    "-1/4 & 0 & 2/3 \\\\\n",
    "1/2 & 0 & -1 \\end{array} \\right)$$ \n",
    "\n",
    "`C[1,1]` = 0\n"
   ]
  },
  {
   "cell_type": "code",
   "execution_count": 113,
   "metadata": {
    "deletable": false
   },
   "outputs": [
    {
     "name": "stdout",
     "output_type": "stream",
     "text": [
      "72.0\n"
     ]
    }
   ],
   "source": [
    "# you code here\n",
    "#update mystery\n",
    "\n",
    "c_1_1=0\n",
    "\n",
    "mystery = mystery +c_1_1\n",
    "print(mystery)\n"
   ]
  },
  {
   "cell_type": "markdown",
   "metadata": {
    "deletable": false
   },
   "source": [
    "<div class='exercise'> <b> Exercise 5: Basic Statistics </b></div>\n",
    "\n",
    "**37** of the **76** freshman CS concentrators in University of X have taken CS109a while **50** of the **133** sophomore CS concentrators haven taken CS109a.  \n",
    "\n",
    "Use the $z$-test for 2 proportions to determine if interest in Data Science (measured as wanting to take CS109a) is related to the two groups.  \n",
    "\n",
    "$$z = \\frac{\\hat{p}_1-\\hat{p}_2}{\\sqrt{\\hat{p}_{pooled}(1-\\hat{p}_{pooled})\\left(\\frac{1}{n_1}+\\frac{1}{n_2}\\right)}}$$\n",
    "\n",
    "Where $n_1, n_2$ are the total population for each year. $\\hat{p}_1$ is the proportion of freshmen CS concentrators who have taken CS 109A.  $\\hat{p}_2$ is this proportion but for sophomores students. $p_{pooled}$ is the ratio of all CS 109A students to all CS concentrators.\n",
    "\n",
    "\n",
    "\n",
    "    \n",
    "Add the result into variable `z`.\n",
    "\n",
    "\n",
    "Hint: you may find it useful to import `math`"
   ]
  },
  {
   "cell_type": "code",
   "execution_count": 114,
   "metadata": {
    "deletable": false
   },
   "outputs": [
    {
     "name": "stdout",
     "output_type": "stream",
     "text": [
      "1.56461178592235\n"
     ]
    }
   ],
   "source": [
    "# you code here\n",
    "\n",
    "import math \n",
    "n1=76\n",
    "n2=133\n",
    "p1 = 37/n1\n",
    "p2 = 50/n2\n",
    "p_pooled = (37+50)/(76+133)\n",
    "p1_pooled = (1 - p_pooled)\n",
    "\n",
    "\n",
    "\n",
    "num= (p1-p2)\n",
    "den=math.sqrt((p_pooled * p1_pooled * ((1/n1) + (1/n2))))\n",
    "\n",
    "                \n",
    "z = num/den\n",
    "print(z)\n"
   ]
  },
  {
   "cell_type": "markdown",
   "metadata": {},
   "source": [
    "One final update to the myster number..."
   ]
  },
  {
   "cell_type": "code",
   "execution_count": 115,
   "metadata": {
    "deletable": false,
    "editable": false
   },
   "outputs": [],
   "source": [
    "# update mystery\n",
    "mystery -= 16*int(z)"
   ]
  },
  {
   "cell_type": "markdown",
   "metadata": {
    "deletable": false,
    "editable": false
   },
   "source": [
    "### And the Mystery Number is:"
   ]
  },
  {
   "cell_type": "code",
   "execution_count": 116,
   "metadata": {
    "deletable": false,
    "editable": false
   },
   "outputs": [
    {
     "name": "stdout",
     "output_type": "stream",
     "text": [
      "Mystery number is: 56.0 !!\n"
     ]
    }
   ],
   "source": [
    "print(f'Mystery number is: {mystery} !!')"
   ]
  },
  {
   "cell_type": "code",
   "execution_count": null,
   "metadata": {},
   "outputs": [],
   "source": []
  }
 ],
 "metadata": {
  "kernelspec": {
   "display_name": "Python 3 (ipykernel)",
   "language": "python",
   "name": "python3"
  },
  "language_info": {
   "codemirror_mode": {
    "name": "ipython",
    "version": 3
   },
   "file_extension": ".py",
   "mimetype": "text/x-python",
   "name": "python",
   "nbconvert_exporter": "python",
   "pygments_lexer": "ipython3",
   "version": "3.9.6"
  }
 },
 "nbformat": 4,
 "nbformat_minor": 4
}
