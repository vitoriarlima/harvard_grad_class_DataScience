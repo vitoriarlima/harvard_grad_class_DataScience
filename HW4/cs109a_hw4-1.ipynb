{
 "cells": [
  {
   "cell_type": "markdown",
   "id": "8e942277",
   "metadata": {},
   "source": [
    "# <img style=\"float: left; padding-right: 10px; width: 45px\" src=\"https://raw.githubusercontent.com/Harvard-IACS/2018-CS109A/master/content/styles/iacs.png\"> CS109A Introduction to Data Science\n",
    "\n",
    "## Homework 4: Missing Data and Principal Component Analysis (PCA)\n",
    "\n",
    "\n",
    "**Harvard University**<br/>\n",
    "**Fall 2021**<br/>\n",
    "**Instructors**: Pavlos Protopapas, Natesh Pillai\n",
    "\n",
    "---"
   ]
  },
  {
   "cell_type": "code",
   "execution_count": 1,
   "id": "b54080d4",
   "metadata": {},
   "outputs": [
    {
     "data": {
      "text/html": [
       "<style>\n",
       "blockquote { background: #AEDE94; }\n",
       "h1 {\n",
       "    padding-top: 25px;\n",
       "    padding-bottom: 25px;\n",
       "    text-align: left;\n",
       "    padding-left: 10px;\n",
       "    background-color: #63ACBE;\n",
       "    color: black;\n",
       "}\n",
       "h2 {\n",
       "    padding-top: 10px;\n",
       "    padding-bottom: 10px;\n",
       "    text-align: left;\n",
       "    padding-left: 5px;\n",
       "    background-color: #EEEEEE;\n",
       "    color: black;\n",
       "}\n",
       "\n",
       "div.exercise {\n",
       "\tbackground-color: #f8b4ab;\n",
       "\tborder-color: #E9967A;\n",
       "\tborder-left: 5px solid #601A4A;\n",
       "\tpadding: 0.5em;\n",
       "}\n",
       "\n",
       "div.exercise-r {\n",
       "\tbackground-color: #ffd0d0;\n",
       "\tborder-color: #E9967A;\n",
       "\tborder-left: 5px solid #601A4A;\n",
       "\tpadding: 0.5em;\n",
       "}\n",
       "\n",
       "\n",
       "span.sub-q {\n",
       "\tfont-weight: bold;\n",
       "}\n",
       "div.theme {\n",
       "\tbackground-color: #63ACBE;\n",
       "\tborder-color: #E9967A;\n",
       "\tborder-left: 5px solid #601A4A;\n",
       "\tpadding: 0.5em;\n",
       "\tfont-size: 18pt;\n",
       "}\n",
       "div.gc {\n",
       "\tbackground-color: #AEDE94;\n",
       "\tborder-color: #E9967A;\n",
       "\tborder-left: 5px solid #601A4A;\n",
       "\tpadding: 0.5em;\n",
       "\tfont-size: 12pt;\n",
       "}\n",
       "p.q1 {\n",
       "    padding-top: 5px;\n",
       "    padding-bottom: 5px;\n",
       "    text-align: left;\n",
       "    padding-left: 5px;\n",
       "    background-color: #EEEEEE;\n",
       "    color: black;\n",
       "}\n",
       "header {\n",
       "   padding-top: 35px;\n",
       "    padding-bottom: 35px;\n",
       "    text-align: left;\n",
       "    padding-left: 10px;\n",
       "    background-color: #DDDDDD;\n",
       "    color: black;\n",
       "}\n",
       "span.emph {\n",
       "\tcolor: #601A4A;\n",
       "\tfont-weight: bold;\n",
       "}\n",
       "\n",
       "</style>\n"
      ],
      "text/plain": [
       "<IPython.core.display.HTML object>"
      ]
     },
     "execution_count": 1,
     "metadata": {},
     "output_type": "execute_result"
    }
   ],
   "source": [
    "# RUN THIS CELL \n",
    "import requests\n",
    "from IPython.core.display import HTML\n",
    "styles = requests.get(\n",
    "    \"https://raw.githubusercontent.com/Harvard-IACS/2021-CS109A/master/\"\n",
    "    \"themes/static/css/cs109.css\"\n",
    ").text\n",
    "HTML(styles)"
   ]
  },
  {
   "cell_type": "markdown",
   "id": "4e3291d2",
   "metadata": {},
   "source": [
    "<a id=\"instructions\"></a>\n",
    "\n",
    "<hr style=\"height:2pt\">\n",
    "\n",
    "### INSTRUCTIONS\n",
    "\n",
    "\n",
    "- To submit your assignment follow the instructions given in Canvas.\n",
    "\n",
    "- Please **restart the kernel and run the entire notebook again before you submit.**\n",
    "\n",
    "- Running cells out of order is a common pitfall in Jupyter Notebooks. To make sure your code continues to work, restart the kernel and rerun your notebook periodically while working through this assignment. \n",
    "\n",
    "- We have tried to include all the libraries you may need to do the assignment in the imports cell provided below. **Please use only the libraries provided in those imports.**\n",
    "\n",
    "- Please use `.head(...)` when viewing data. Do not submit a notebook that is **excessively long**. \n",
    "\n",
    "- In questions that require code to answer, such as \"calculate and report $R^2$\", do not just output the value from a cell. Write a `print(...)` function that clearly labels the output, includes a reference to the calculated value, and rounds it to a reasonable number of digits. **Do not hard code values in your printed output**. For example, this is an appropriate print statement:\n",
    "```python\n",
    "print(f'The R^2 is {R:.4f}')\n",
    "```\n",
    "- **Your plots MUST be clearly labeled and easy to read,** including clear labels for the $x$ and $y$ axes, a descriptive title (\"MSE plot\" is NOT a descriptive title; \"95% confidence interval of coefficients for degree-5 polynomial model\" on the other hand is descriptive), a legend when appropriate, and clearly formatted text and graphics.\n",
    "\n",
    "- **Your code may also be evaluated for efficiency and clarity.** As a result, correct output is not always sufficient for full credit.\n",
    "\n",
    "<hr style=\"height:2pt\">"
   ]
  },
  {
   "cell_type": "markdown",
   "id": "ad7dc892",
   "metadata": {
    "cell_id": "3c67b69c-c35a-45ee-88ff-99c701edb0a0",
    "colab_type": "text",
    "id": "BlViDCbxVtbG"
   },
   "source": [
    "### Import Libraries"
   ]
  },
  {
   "cell_type": "code",
   "execution_count": 2,
   "id": "79280a01",
   "metadata": {},
   "outputs": [],
   "source": [
    "# RUN THIS CELL\n",
    "\n",
    "# Import libraries\n",
    "import seaborn as sns\n",
    "import matplotlib.pyplot as plt\n",
    "import pandas as pd\n",
    "import numpy as np\n",
    "from sklearn.model_selection import train_test_split\n",
    "from sklearn.linear_model import LinearRegression\n",
    "from sklearn.neighbors import KNeighborsRegressor\n",
    "from sklearn.decomposition import PCA\n",
    "from sklearn.model_selection import cross_validate\n",
    "from sklearn.preprocessing import StandardScaler\n",
    "from sklearn.metrics import r2_score\n",
    "from sklearn.impute import SimpleImputer, KNNImputer\n",
    "\n",
    "# pandas tricks for better display\n",
    "pd.options.display.max_columns = 50  \n",
    "pd.options.display.max_rows = 500     \n",
    "pd.options.display.max_colwidth = 100\n",
    "pd.options.display.precision = 3\n",
    "\n",
    "%matplotlib inline"
   ]
  },
  {
   "cell_type": "markdown",
   "id": "8ffe3f89",
   "metadata": {},
   "source": [
    "<a id=\"contents\"></a>\n",
    "\n",
    "## Notebook contents\n",
    "\n",
    "- [**PART 1 [55 pts]: Predicting the selling price of used cars**](#part1)\n",
    "  - [Overview and Data Description](#part1intro)\n",
    "  - [Question 1: Visualizing Missing Data [10 pts]](#part1q1)\n",
    "      - [Solutions](#part1q1solution)\n",
    "  - [Question 2: Imputation Methods [45 pts]](#part1q2)\n",
    "      - [Solutions](#part1q2solution)\n",
    "\n",
    "\n",
    "- [**PART 2 [45 pts]: Principal Componant Analysis**](#part2)\n",
    "  - [Question 3: PCA for Regression [35 pts]](#part2q3)\n",
    "      - [Solutions](#part2q3solution)\n",
    "  - [Question 4: Visualizing Transformed Data [10 pts]](#part2q4)\n",
    "      - [Solutions](#part2q4solution)\n"
   ]
  },
  {
   "cell_type": "markdown",
   "id": "ffb18b41",
   "metadata": {},
   "source": [
    "<a id=\"part1\"></a>\n",
    "    \n",
    "# PART 1 [55 pts]: Predicting the selling price of used cars\n",
    "\n",
    "[Return to contents](#contents)"
   ]
  },
  {
   "cell_type": "markdown",
   "id": "3d1e7f4e",
   "metadata": {},
   "source": [
    "<a id=\"part1intro\"></a>\n",
    "\n",
    "## Overview and Data Description \n",
    "\n",
    "[Return to contents](#contents)\n",
    "\n",
    "In this part, we analyze the data about used cars from a [Kaggle project](https://www.kaggle.com/nehalbirla/vehicle-dataset-from-cardekho). The dataset is pre-processed and modified so that it contains missing values. The goal is to handle missing data and predict selling prices from the other features available in this dataset.\n",
    "\n",
    "### Dataset \n",
    "\n",
    "The training dataset is available as `data/vehicle_dataset_train.csv`. It contains the following columns:\n",
    "\n",
    "- `year` - year of the car when it was bought, \n",
    "- `mileage` - mileage of the car,\n",
    "- `max_power` - maximum power of the engine (in bhps),\n",
    "- `selling_price` - price at which the car is being sold (in lakh rupees)\n",
    "\n",
    "The testing dataset is available as `data/vehicle_dataset_test.csv`. It contains all columns mentioned above.\n",
    "\n",
    "\n",
    "### Objective\n",
    "\n",
    "We will handle missing data and predict `selling_price` from the other features available in this dataset."
   ]
  },
  {
   "cell_type": "markdown",
   "id": "a3878bf6",
   "metadata": {},
   "source": [
    "<a id=\"part1q1\"></a>\n",
    "\n",
    "## <div class='exercise'><b>Question 1: Visualizing Missing Data [10 pts]</b></div>\n",
    "\n",
    "[Return to contents](#contents)\n",
    "\n",
    "\n",
    "**Load the dataset, inspect it, and answer the following questions:**\n",
    "\n",
    "\n",
    "**1.1** How many columns and which ones include missing data in **X_train**? In each of those columns, how many observations are missing?\n",
    "\n",
    "**1.2** Plot a boxplot of `year` for all samples that contain missing values. In the same plot, generate another boxplot of `year` for all samples that do not contain missing values. Do you see any pattern?  If so, what might be the implications of that pattern?\n",
    "    \n",
    "    \n",
    "**PLEASE NOTE:** In this course, you will be expected to ALWAYS label your axes, title your graphs, and produce visuals which clearly communicate the data (as described in the [Instructions](#instructions) at the start of this notebook). Visuals should often be accompanied by text identifying the key point of the visual and defending any choices you make as a data scientist regarding the visual to best communicate your data."
   ]
  },
  {
   "cell_type": "markdown",
   "id": "5c52a593",
   "metadata": {},
   "source": [
    "<a id=\"part1q1solution\"></a>\n",
    "## Question 1: Solutions \n",
    "\n",
    "[Return to contents](#contents)"
   ]
  },
  {
   "cell_type": "code",
   "execution_count": 3,
   "id": "fb250378",
   "metadata": {},
   "outputs": [
    {
     "data": {
      "text/html": [
       "<div>\n",
       "<style scoped>\n",
       "    .dataframe tbody tr th:only-of-type {\n",
       "        vertical-align: middle;\n",
       "    }\n",
       "\n",
       "    .dataframe tbody tr th {\n",
       "        vertical-align: top;\n",
       "    }\n",
       "\n",
       "    .dataframe thead th {\n",
       "        text-align: right;\n",
       "    }\n",
       "</style>\n",
       "<table border=\"1\" class=\"dataframe\">\n",
       "  <thead>\n",
       "    <tr style=\"text-align: right;\">\n",
       "      <th></th>\n",
       "      <th>year</th>\n",
       "      <th>mileage</th>\n",
       "      <th>max_power</th>\n",
       "      <th>selling_price</th>\n",
       "    </tr>\n",
       "  </thead>\n",
       "  <tbody>\n",
       "    <tr>\n",
       "      <th>6601</th>\n",
       "      <td>2015</td>\n",
       "      <td>17.40</td>\n",
       "      <td>117.30</td>\n",
       "      <td>70.0</td>\n",
       "    </tr>\n",
       "    <tr>\n",
       "      <th>504</th>\n",
       "      <td>2017</td>\n",
       "      <td>13.60</td>\n",
       "      <td>NaN</td>\n",
       "      <td>262.5</td>\n",
       "    </tr>\n",
       "    <tr>\n",
       "      <th>5812</th>\n",
       "      <td>2018</td>\n",
       "      <td>24.00</td>\n",
       "      <td>73.97</td>\n",
       "      <td>71.0</td>\n",
       "    </tr>\n",
       "    <tr>\n",
       "      <th>1443</th>\n",
       "      <td>2009</td>\n",
       "      <td>19.70</td>\n",
       "      <td>46.30</td>\n",
       "      <td>15.0</td>\n",
       "    </tr>\n",
       "    <tr>\n",
       "      <th>7453</th>\n",
       "      <td>2014</td>\n",
       "      <td>16.02</td>\n",
       "      <td>NaN</td>\n",
       "      <td>42.5</td>\n",
       "    </tr>\n",
       "  </tbody>\n",
       "</table>\n",
       "</div>"
      ],
      "text/plain": [
       "      year  mileage  max_power  selling_price\n",
       "6601  2015    17.40     117.30           70.0\n",
       "504   2017    13.60        NaN          262.5\n",
       "5812  2018    24.00      73.97           71.0\n",
       "1443  2009    19.70      46.30           15.0\n",
       "7453  2014    16.02        NaN           42.5"
      ]
     },
     "execution_count": 3,
     "metadata": {},
     "output_type": "execute_result"
    }
   ],
   "source": [
    "# Load the datasets\n",
    "df_train = pd.read_csv(\"data/vehicle_dataset_train.csv\", index_col=0)\n",
    "df_test = pd.read_csv(\"data/vehicle_dataset_test.csv\", index_col=0)\n",
    "df_train.head(5)"
   ]
  },
  {
   "cell_type": "code",
   "execution_count": 4,
   "id": "6afe4581",
   "metadata": {},
   "outputs": [],
   "source": [
    "X_train, y_train = df_train.drop(columns=['selling_price']), df_train['selling_price']\n",
    "X_test, y_test = df_test.drop(columns=['selling_price']), df_test['selling_price']"
   ]
  },
  {
   "cell_type": "markdown",
   "id": "80fadbec",
   "metadata": {},
   "source": [
    "<div class='exercise-r'>\n",
    "\n",
    "**1.1** How many columns and which ones include missing data in **X_train**? In each of those columns, how many observations are missing?\n",
    "</div> "
   ]
  },
  {
   "cell_type": "code",
   "execution_count": 5,
   "id": "aa1ef4bc",
   "metadata": {},
   "outputs": [
    {
     "name": "stdout",
     "output_type": "stream",
     "text": [
      " Here is the amount missing from the Year column 0\n",
      " Here is the amount missing from the Mileage column 0\n",
      " Here is the amount missing from the Max_power column 44\n"
     ]
    }
   ],
   "source": [
    "# your code here\n",
    "year_missing = X_train['year'].isna().sum()\n",
    "mil_missing = X_train['mileage'].isna().sum()\n",
    "maxpow_missing = X_train['max_power'].isna().sum()\n",
    "\n",
    "print(f\" Here is the amount missing from the Year column {year_missing}\")\n",
    "print(f\" Here is the amount missing from the Mileage column {mil_missing}\")\n",
    "print(f\" Here is the amount missing from the Max_power column {maxpow_missing}\")"
   ]
  },
  {
   "cell_type": "markdown",
   "id": "819476d5",
   "metadata": {},
   "source": [
    "<div class='exercise-r'>\n",
    "\n",
    "**1.2** Generate a boxplot of `year` for all samples that have missing values. In the same plot, generate another boxplot of `year` for all samples that do not have missing values. Do you see any pattern?  If so, what might be the implications of that pattern? \n",
    "\n",
    "</div> "
   ]
  },
  {
   "cell_type": "code",
   "execution_count": 6,
   "id": "eb8c488c",
   "metadata": {},
   "outputs": [
    {
     "data": {
      "image/png": "[encoded data removed]",
      "text/plain": [
       "<Figure size 432x288 with 1 Axes>"
      ]
     },
     "metadata": {
      "needs_background": "light"
     },
     "output_type": "display_data"
    }
   ],
   "source": [
    "# your code here\n",
    "null_data = X_train[X_train.isnull().any(axis=1)] #year samples with all null data in max_power\n",
    "has_data = X_train[~X_train.isnull().any(axis=1)] # adding boolean operator to show the opposite\n",
    "#print(len(has_data))\n",
    "\n",
    "#boxplot = null_data.boxplot(column=['year'])\n",
    "#boxplot = has_data.boxplot(column=['year'])\n",
    "both = [null_data['year'], has_data['year']]\n",
    "labels = ['has Null Data boxplot', \"No Null Data boxplot\"]\n",
    "x = [1,2]\n",
    "\n",
    "plt.figure()\n",
    "plt.boxplot(both)\n",
    "plt.xticks(x, labels)\n",
    "plt.ylabel(\"Year\")\n",
    "plt.title(\"Box Plot of Year data for X_train with Null Data and without Null Data\")\n",
    "plt.grid()"
   ]
  },
  {
   "cell_type": "markdown",
   "id": "ce63f6bf",
   "metadata": {},
   "source": [
    "**INTERPRETATION:**"
   ]
  },
  {
   "cell_type": "markdown",
   "id": "3b5ec473",
   "metadata": {},
   "source": [
    "**your answer here**\n",
    "The boxplots are different for the dataframe that has all the rows with null data and the one that has no null data at all. The medians are different as well as the range and any outliers. The one without null data has a larger range and innerquartile range. This makes sense because there are more rows/observations in the dataframe  with no null data. The observations that has missing values look to be more recent and that can create more bias if we impute. This could potentially mean its Missing not at random"
   ]
  },
  {
   "cell_type": "markdown",
   "id": "7879d2c6",
   "metadata": {},
   "source": [
    "<a id=\"part1q2\"></a>\n",
    "\n",
    "## <div class='exercise'><b> Question 2:   Imputation Methods [45 pts]</b></div>\n",
    "\n",
    "[Return to contents](#contents)\n",
    "\n",
    "We will try different ways of dealing with missing data.\n",
    "\n",
    "**2.1** First, we consider mean imputation:\n",
    "  - Use SimpleImputer to impute the mean of observed `max_power` values in the training dataset for both **X_train** and **X_test**. \n",
    "  - Fit a linear regression model and a k-NN regression model ($k$=2) on the training data. \n",
    "  - Report the $R^2$ values on the testing data for each of your two fitted models.\n",
    "\n",
    "**2.2** Now, we will impute the data using k-NN regression model and see how it works:\n",
    "  - Use KNNImputer ($k$=2) to impute both **X_train** and **X_test**.\n",
    "  - Fit a linear regression model and a k-NN regression model ($k$=2) on the training data. \n",
    "  - Report the $R^2$ values on the testing data for each of your two fitted models.\n",
    "\n",
    "**2.3** Now, let's examine the indicator method:\n",
    "  - For both the training and testing data, create an additional predictor called `has_missing_value` that indicates\n",
    "   whether each row has any missing value. Impute the mean of observed `max_power` values in the training dataset for both **X_train** and **X_test**.\n",
    "  - Fit a linear regression model and a k-NN regression model ($k$=2) on the training data. \n",
    "  - Report the $R^2$ values on the testing data for each of your two fitted models.\n",
    "\n",
    "\n",
    "**2.4** Discuss your results by answering the following questions.  You should answer the questions directly in the provided markdown cells of your notebook.\n",
    "\n",
    "- **2.4.1** Which method results in the largest $R^2$ value? Interpret your findings.\n",
    "\n",
    "- **2.4.2** Compare the $R^2$ values in **2.1** and **2.3**. Does adding an indicator variable help? Do these indicator method results provide any support **for** or **against** a claim that the data is missing completely at random?  Why or why not?\n"
   ]
  },
  {
   "cell_type": "markdown",
   "id": "e29fd259",
   "metadata": {},
   "source": [
    "<a id=\"part1q2solution\"></a>\n",
    "## Question 2: Solutions \n",
    "\n",
    "[Return to contents](#contents)"
   ]
  },
  {
   "cell_type": "markdown",
   "id": "d6d71ee6",
   "metadata": {},
   "source": [
    "<div class='exercise-r'>\n",
    "\n",
    "    \n",
    "\n",
    "**2.1** First, we consider mean imputation:\n",
    "  - Use SimpleImputer to impute the mean of observed `max_power` values in the training dataset for both **X_train** and **X_test**. \n",
    "  - Fit a linear regression model and a k-NN regression model ($k$=2) on the training data. \n",
    "  - Report the $R^2$ values on the testing data for each of your two fitted models.\n",
    "\n",
    "    \n",
    "</div>"
   ]
  },
  {
   "cell_type": "code",
   "execution_count": 7,
   "id": "4513367b",
   "metadata": {},
   "outputs": [
    {
     "name": "stdout",
     "output_type": "stream",
     "text": [
      "Here is the R^2 score from the Linear Regression 0.195\n",
      "Here is the R^2 score from the k-NN Regression 0.248\n"
     ]
    }
   ],
   "source": [
    "X_train, y_train = df_train.drop(columns=['selling_price']), df_train['selling_price']\n",
    "X_test, y_test = df_test.drop(columns=['selling_price']), df_test['selling_price']\n",
    "\n",
    "# need to scale before computing\n",
    "X_train = StandardScaler().fit_transform(X_train)\n",
    "X_test = StandardScaler().fit_transform(X_test)\n",
    "\n",
    "# your code here\n",
    "imputer = SimpleImputer(missing_values = np.nan, strategy = 'mean')\n",
    "imputer.fit(X_train)\n",
    "X_train = imputer.transform(X_train)\n",
    "X_train = pd.DataFrame(X_train, columns = ['year', 'mileage', 'max_power'])\n",
    "\n",
    "# Test values\n",
    "X_test = imputer.transform(X_test)\n",
    "X_test = pd.DataFrame(X_test, columns = ['year', 'mileage', 'max_power'])\n",
    "X_test.head()\n",
    "\n",
    "# Check that its updated\n",
    "#maxpow_missing = X_test['max_power'].isna().sum()\n",
    "#print(maxpow_missing)\n",
    "\n",
    "# Linear Regression\n",
    "lr = LinearRegression()\n",
    "lr.fit(X_train, y_train)\n",
    "y_pred_lr = lr.predict(X_test)\n",
    "r2_lr = r2_score(y_test,y_pred_lr)\n",
    "\n",
    "\n",
    "# Knn \n",
    "neighbors = KNeighborsRegressor(n_neighbors=2)   \n",
    "neighbors.fit(X_train, y_train) \n",
    "y_pred_knn = neighbors.predict(X_test) \n",
    "r2_knn = r2_score(y_test,y_pred_knn)\n",
    "\n",
    "print(f\"Here is the R^2 score from the Linear Regression {r2_lr:.3f}\")\n",
    "print(f\"Here is the R^2 score from the k-NN Regression {r2_knn:.3f}\")\n"
   ]
  },
  {
   "cell_type": "markdown",
   "id": "628f904e",
   "metadata": {},
   "source": [
    "<div class='exercise-r'>\n",
    "\n",
    "**2.2** Now, we will impute the data using k-NN regression model and see how it works:\n",
    "  - Use KNNImputer ($k$=2) to impute both **X_train** and **X_test**.\n",
    "  - Fit a linear regression model and a k-NN regression model ($k$=2) on the training data. \n",
    "  - Report the $R^2$ values on the testing data for each of your two fitted models.\n",
    "    \n",
    "</div>"
   ]
  },
  {
   "cell_type": "code",
   "execution_count": 8,
   "id": "47c86a67-467f-4d8a-af36-701fa689b634",
   "metadata": {},
   "outputs": [],
   "source": [
    "X_train, y_train = df_train.drop(columns=['selling_price']), df_train['selling_price']\n",
    "X_test, y_test = df_test.drop(columns=['selling_price']), df_test['selling_price']"
   ]
  },
  {
   "cell_type": "code",
   "execution_count": 9,
   "id": "160b2342",
   "metadata": {},
   "outputs": [
    {
     "name": "stdout",
     "output_type": "stream",
     "text": [
      "Here is the R^2 score from the Linear Regression 0.206\n",
      "Here is the R^2 score from the k-NN Regression 0.508\n"
     ]
    }
   ],
   "source": [
    "# your code here\n",
    "\n",
    "# need to standardize before Knn\n",
    "# need to scale before computing\n",
    "#scaler = StandardScaler()\n",
    "X_train = StandardScaler().fit_transform(X_train)\n",
    "X_test = StandardScaler().fit_transform(X_test)\n",
    "\n",
    "\n",
    "imputer = KNNImputer(missing_values = np.nan, n_neighbors=2)\n",
    "imputer.fit(X_train)\n",
    "X_train = imputer.transform(X_train)\n",
    "X_train = pd.DataFrame(X_train, columns = ['year', 'mileage', 'max_power'])\n",
    "\n",
    "# Can use training data mean to impute on test bc we know the information is descriptive of this population\n",
    "# recieved this intuition from Ed Discussion\n",
    "X_test = imputer.transform(X_test)\n",
    "X_test = pd.DataFrame(X_test, columns = ['year', 'mileage', 'max_power'])\n",
    "\n",
    "\n",
    "# Check that its updated\n",
    "#maxpow_missing = X_train['max_power'].isna().sum()\n",
    "#print(maxpow_missing)\n",
    "\n",
    "# Linear Regression\n",
    "lr = LinearRegression()\n",
    "lr.fit(X_train, y_train)\n",
    "y_pred_lr = lr.predict(X_test)\n",
    "r2_lr = r2_score(y_test,y_pred_lr)\n",
    "\n",
    "\n",
    "\n",
    "\n",
    "# Knn \n",
    "neighbors = KNeighborsRegressor(n_neighbors=2)   \n",
    "neighbors.fit(X_train, y_train) \n",
    "y_pred_knn = neighbors.predict(X_test) \n",
    "r2_knn = r2_score(y_test,y_pred_knn)\n",
    "\n",
    "print(f\"Here is the R^2 score from the Linear Regression {r2_lr:.3f}\")\n",
    "print(f\"Here is the R^2 score from the k-NN Regression {r2_knn:.3f}\")\n",
    "\n"
   ]
  },
  {
   "cell_type": "markdown",
   "id": "9d08afb5",
   "metadata": {},
   "source": [
    "<div class='exercise-r'>\n",
    "\n",
    "    \n",
    "**2.3** Now, let's examine the indicator method:\n",
    "  - For both the training and testing data, create an additional predictor called `has_missing_value` that indicates\n",
    "   whether each row has any missing value. Impute the mean of observed `max_power` values in the training dataset for both **X_train** and **X_test**.\n",
    "  - Fit a linear regression model and a k-NN regression model ($k$=2) on the training data. \n",
    "  - Report the $R^2$ values on the testing data for each of your two fitted models.\n",
    "    \n",
    "</div>"
   ]
  },
  {
   "cell_type": "code",
   "execution_count": 10,
   "id": "8992fbe6-e77e-4ea1-9b28-900b0aaad6de",
   "metadata": {},
   "outputs": [],
   "source": [
    "X_train, y_train = df_train.drop(columns=['selling_price']), df_train['selling_price']\n",
    "X_test, y_test = df_test.drop(columns=['selling_price']), df_test['selling_price']"
   ]
  },
  {
   "cell_type": "code",
   "execution_count": 11,
   "id": "4f23df33",
   "metadata": {},
   "outputs": [
    {
     "name": "stdout",
     "output_type": "stream",
     "text": [
      "Here is the R^2 score from the Linear Regression 0.430\n",
      "Here is the R^2 score from the k-NN Regression 0.658\n"
     ]
    }
   ],
   "source": [
    "# your code here\n",
    "\n",
    "# Creating Missingness value\n",
    "cols = ['year','mileage','max_power']\n",
    "df = X_train[cols].isnull().astype(int).add_suffix('_has_missing_value')\n",
    "new_Xtrain = pd.concat([X_train, df], axis=1)\n",
    "\n",
    "#create missingnessvalue\n",
    "cols = ['year','mileage','max_power']\n",
    "df1 = X_test[cols].isnull().astype(int).add_suffix('_has_missing_value')\n",
    "new_Xtest = pd.concat([X_test, df1], axis=1)\n",
    "#new_Xtest.head()\n",
    "\n",
    "\n",
    "new_Xtrain = StandardScaler().fit_transform(new_Xtrain)\n",
    "new_Xtest = StandardScaler().fit_transform(new_Xtest)\n",
    "\n",
    "# impute\n",
    "imputer = SimpleImputer(missing_values = np.nan, strategy = 'mean')\n",
    "imputer.fit(new_Xtrain) \n",
    "new_Xtrain = imputer.transform(new_Xtrain)\n",
    "new_Xtrain = pd.DataFrame(new_Xtrain, columns = ['year', 'mileage', 'max_power','year_has_missing_value',\\\n",
    "                                                 'mileage_has_missing_value','max_power_has_missing_value'])\n",
    "\n",
    "# Can use training data mean to impute on test bc we know the information is descriptive of this population\n",
    "new_Xtest = imputer.transform(new_Xtest)\n",
    "new_Xtest = pd.DataFrame(new_Xtest, columns = ['year', 'mileage', 'max_power','year_has_missing_value',\\\n",
    "                                                 'mileage_has_missing_value','max_power_has_missing_value'])\n",
    "\n",
    "# Linear Regression\n",
    "lr = LinearRegression()\n",
    "lr.fit(new_Xtrain, y_train)\n",
    "y_pred_lr = lr.predict(new_Xtest)\n",
    "r2_lr = r2_score(y_test,y_pred_lr)\n",
    "\n",
    "\n",
    "# Knn \n",
    "neighbors = KNeighborsRegressor(n_neighbors=2)   \n",
    "neighbors.fit(new_Xtrain, y_train) \n",
    "y_pred_knn = neighbors.predict(new_Xtest) \n",
    "r2_knn = r2_score(y_test,y_pred_knn)\n",
    "\n",
    "print(f\"Here is the R^2 score from the Linear Regression {r2_lr:.3f}\")\n",
    "print(f\"Here is the R^2 score from the k-NN Regression {r2_knn:.3f}\")\n"
   ]
  },
  {
   "cell_type": "markdown",
   "id": "67543325",
   "metadata": {},
   "source": [
    "<div class='exercise-r'>\n",
    "    \n",
    "\n",
    "**2.4.1** Which method results in the largest $R^2$ value? Interpret your findings.\n",
    "\n",
    "</div>"
   ]
  },
  {
   "cell_type": "markdown",
   "id": "46cdbec8",
   "metadata": {},
   "source": [
    "**your answer here**\n",
    "The R^2 score from 2.3 gives the largest R^2 score. This R^2 gets computed using the missingness indicator and k-NN with 2 neighbors. This makes sense because k-NN looks at the nearest values and takes the mean of them to determine the model. The k-NN model now looks at the missingness indicator which can better describe why the data might be missing. "
   ]
  },
  {
   "cell_type": "markdown",
   "id": "3121919a",
   "metadata": {},
   "source": [
    "<div class='exercise-r'>\n",
    "\n",
    "**2.4.2** Compare the $R^2$ values in **2.1** and **2.3**. Does adding an indicator variable help? Do these indicator method results provide any support **for** or **against** a claim that the data is missing completely at random? Why or why not?\n",
    "    \n",
    "</div>"
   ]
  },
  {
   "cell_type": "markdown",
   "id": "a553a9b8",
   "metadata": {},
   "source": [
    "**your answer here**\n",
    "From 2.1, I got the R^2 from the linear regression to be 0.195 and the k-NN to be 0.248. From 2.3,I got the R^2 from the linear regression to be 0.430 and the k-NN to be 0.658. Both of the models improve from what was done in 2.1, which uses the mean to impute and does not have the missingness indicator. The addition of the missingness indicator could help to reduce some of the bias that was in the data set that came from imputing the mean into the missing data. It can flag the model as to what was missing and how that affects the data. Since the addition of the missingness indicator improves the model, this provides support for the initial assumption made during the box plot that the data is not missing completely at random. I think it is closer it missing not at random because of the original pattern seen during the boxplot. "
   ]
  },
  {
   "cell_type": "markdown",
   "id": "e1b5149f",
   "metadata": {},
   "source": [
    "<a id=\"part2\"></a>\n",
    "    \n",
    "# PART 2 [45 pts]: Principal Component Analysis\n",
    "\n",
    "[Return to contents](#contents)"
   ]
  },
  {
   "cell_type": "markdown",
   "id": "1ebe89f2",
   "metadata": {},
   "source": [
    "<a id=\"part2q3\"></a>\n",
    "\n",
    "## <div class='exercise'><b> Question 3: PCA for Regression [35 pts]</b></div>\n",
    "\n",
    "[Return to contents](#contents)\n",
    " \n",
    "\n",
    "In this question, we will be using a dataset called \"Communities and Crime\" adapted from [UC Irvine Machine Learning Repository](http://archive.ics.uci.edu/ml/datasets/Communities+and+Crime). The modified dataset contains 122 predictor variables and 1 response variable. All numeric data was normalized into the decimal range 0.00-1.00. Some of the predictor variables are:\n",
    "\n",
    "- `householdsize`: mean people per household\n",
    "- `medIncome`: median household income\n",
    "- `PctHousOccup`: percent of housing occupied\n",
    "- `RentMedian`: rental housing - median rent\n",
    "- `PolicReqPerOffic`: total requests for police per police officer\n",
    "\n",
    "And the response variable is \n",
    "\n",
    "- `ViolentCrimesPerPop`: total number of violent crimes per 100K popuation\n",
    "\n",
    "\n",
    "\n",
    "**Load the dataset, split it in training (80%) and test set (20%), inspect it, and answer the following questions:**\n",
    "\n",
    "\n",
    "**3.1**  Compute the correlation matrix for the predictor variables in the training data (DO NOT print the entire matrix). Which pairs of distinct predictor variables have correlation greater than 0.99 or less than -0.99? (Output only those pairs with the corresponding correlation.)\n",
    "\n",
    "**3.2** Fit a linear regression model on the training data **using all available predictors**. Report and interpret the $R^2$ value on the testing data.\n",
    "\n",
    "\n",
    "**3.3** Now let's consider PCA for regression:\n",
    "  - **3.3.1** Standardize both **X_train** and **X_test** and for each number of components $k$ in $k \\in \\{1,2,3,4,5,6,8,10,12,15,20\\}$: \n",
    "  \n",
    "      - Fit the PCA transformation with n_components = $k$ on the standardized **X_train**.\n",
    "     \n",
    "      - Apply the PCA transformation to the standardized **X_train**.   \n",
    "      \n",
    "     - Use scikit-learn's cross_validate(...) to perform a 10-fold cross validation for a linear regression model on the transformed training data. \n",
    "   \n",
    "    Plot the mean validation MSE for each $k$. Report the best $k$ based on the mean validation MSE.\n",
    "          \n",
    "        \n",
    "  - **3.3.2** Now let's compute the $R^2$ value on the testing data:\n",
    "    - Fit the PCA transformation with n_components equals the best $k$ on the standardized **X_train**.\n",
    "    - Apply the PCA transformation to both the standardized **X_train** and the standardized **X_test**. \n",
    "    - Fit a linear regression model to the PCA-transformed components and report the  test $R^2$.\n",
    "    \n",
    "**3.4** Compare the $R^2$ value obtained from **3.2** and **3.3.2**. Interpret the result."
   ]
  },
  {
   "cell_type": "code",
   "execution_count": 12,
   "id": "10b0e3c4",
   "metadata": {},
   "outputs": [
    {
     "data": {
      "text/html": [
       "<div>\n",
       "<style scoped>\n",
       "    .dataframe tbody tr th:only-of-type {\n",
       "        vertical-align: middle;\n",
       "    }\n",
       "\n",
       "    .dataframe tbody tr th {\n",
       "        vertical-align: top;\n",
       "    }\n",
       "\n",
       "    .dataframe thead th {\n",
       "        text-align: right;\n",
       "    }\n",
       "</style>\n",
       "<table border=\"1\" class=\"dataframe\">\n",
       "  <thead>\n",
       "    <tr style=\"text-align: right;\">\n",
       "      <th></th>\n",
       "      <th>population</th>\n",
       "      <th>householdsize</th>\n",
       "      <th>racepctblack</th>\n",
       "      <th>racePctWhite</th>\n",
       "      <th>racePctAsian</th>\n",
       "      <th>racePctHisp</th>\n",
       "      <th>agePct12t21</th>\n",
       "      <th>agePct12t29</th>\n",
       "      <th>agePct16t24</th>\n",
       "      <th>agePct65up</th>\n",
       "      <th>numbUrban</th>\n",
       "      <th>pctUrban</th>\n",
       "      <th>medIncome</th>\n",
       "      <th>pctWWage</th>\n",
       "      <th>pctWFarmSelf</th>\n",
       "      <th>pctWInvInc</th>\n",
       "      <th>pctWSocSec</th>\n",
       "      <th>pctWPubAsst</th>\n",
       "      <th>pctWRetire</th>\n",
       "      <th>medFamInc</th>\n",
       "      <th>perCapInc</th>\n",
       "      <th>whitePerCap</th>\n",
       "      <th>blackPerCap</th>\n",
       "      <th>indianPerCap</th>\n",
       "      <th>AsianPerCap</th>\n",
       "      <th>...</th>\n",
       "      <th>LemasSwFTFieldOps</th>\n",
       "      <th>LemasSwFTFieldPerPop</th>\n",
       "      <th>LemasTotalReq</th>\n",
       "      <th>LemasTotReqPerPop</th>\n",
       "      <th>PolicReqPerOffic</th>\n",
       "      <th>PolicPerPop</th>\n",
       "      <th>RacialMatchCommPol</th>\n",
       "      <th>PctPolicWhite</th>\n",
       "      <th>PctPolicBlack</th>\n",
       "      <th>PctPolicHisp</th>\n",
       "      <th>PctPolicAsian</th>\n",
       "      <th>PctPolicMinor</th>\n",
       "      <th>OfficAssgnDrugUnits</th>\n",
       "      <th>NumKindsDrugsSeiz</th>\n",
       "      <th>PolicAveOTWorked</th>\n",
       "      <th>LandArea</th>\n",
       "      <th>PopDens</th>\n",
       "      <th>PctUsePubTrans</th>\n",
       "      <th>PolicCars</th>\n",
       "      <th>PolicOperBudg</th>\n",
       "      <th>LemasPctPolicOnPatr</th>\n",
       "      <th>LemasGangUnitDeploy</th>\n",
       "      <th>LemasPctOfficDrugUn</th>\n",
       "      <th>PolicBudgPerPop</th>\n",
       "      <th>ViolentCrimesPerPop</th>\n",
       "    </tr>\n",
       "  </thead>\n",
       "  <tbody>\n",
       "    <tr>\n",
       "      <th>0</th>\n",
       "      <td>0.19</td>\n",
       "      <td>0.33</td>\n",
       "      <td>0.02</td>\n",
       "      <td>0.90</td>\n",
       "      <td>0.12</td>\n",
       "      <td>0.17</td>\n",
       "      <td>0.34</td>\n",
       "      <td>0.47</td>\n",
       "      <td>0.29</td>\n",
       "      <td>0.32</td>\n",
       "      <td>0.20</td>\n",
       "      <td>1.00</td>\n",
       "      <td>0.37</td>\n",
       "      <td>0.72</td>\n",
       "      <td>0.34</td>\n",
       "      <td>0.60</td>\n",
       "      <td>0.29</td>\n",
       "      <td>0.15</td>\n",
       "      <td>0.43</td>\n",
       "      <td>0.39</td>\n",
       "      <td>0.40</td>\n",
       "      <td>0.39</td>\n",
       "      <td>0.32</td>\n",
       "      <td>0.27</td>\n",
       "      <td>0.27</td>\n",
       "      <td>...</td>\n",
       "      <td>0.96</td>\n",
       "      <td>0.17</td>\n",
       "      <td>0.06</td>\n",
       "      <td>0.18</td>\n",
       "      <td>0.44</td>\n",
       "      <td>0.13</td>\n",
       "      <td>0.94</td>\n",
       "      <td>0.93</td>\n",
       "      <td>0.03</td>\n",
       "      <td>0.07</td>\n",
       "      <td>0.10</td>\n",
       "      <td>0.07</td>\n",
       "      <td>0.02</td>\n",
       "      <td>0.57</td>\n",
       "      <td>0.29</td>\n",
       "      <td>0.12</td>\n",
       "      <td>0.26</td>\n",
       "      <td>0.20</td>\n",
       "      <td>0.06</td>\n",
       "      <td>0.04</td>\n",
       "      <td>0.90</td>\n",
       "      <td>0.5</td>\n",
       "      <td>0.32</td>\n",
       "      <td>0.14</td>\n",
       "      <td>0.20</td>\n",
       "    </tr>\n",
       "    <tr>\n",
       "      <th>1</th>\n",
       "      <td>0.15</td>\n",
       "      <td>0.31</td>\n",
       "      <td>0.40</td>\n",
       "      <td>0.63</td>\n",
       "      <td>0.14</td>\n",
       "      <td>0.06</td>\n",
       "      <td>0.58</td>\n",
       "      <td>0.72</td>\n",
       "      <td>0.65</td>\n",
       "      <td>0.47</td>\n",
       "      <td>0.16</td>\n",
       "      <td>1.00</td>\n",
       "      <td>0.22</td>\n",
       "      <td>0.52</td>\n",
       "      <td>0.10</td>\n",
       "      <td>0.51</td>\n",
       "      <td>0.48</td>\n",
       "      <td>0.39</td>\n",
       "      <td>0.51</td>\n",
       "      <td>0.30</td>\n",
       "      <td>0.29</td>\n",
       "      <td>0.34</td>\n",
       "      <td>0.23</td>\n",
       "      <td>0.13</td>\n",
       "      <td>0.20</td>\n",
       "      <td>...</td>\n",
       "      <td>0.93</td>\n",
       "      <td>0.38</td>\n",
       "      <td>0.05</td>\n",
       "      <td>0.21</td>\n",
       "      <td>0.23</td>\n",
       "      <td>0.30</td>\n",
       "      <td>0.61</td>\n",
       "      <td>0.89</td>\n",
       "      <td>0.15</td>\n",
       "      <td>0.01</td>\n",
       "      <td>0.06</td>\n",
       "      <td>0.12</td>\n",
       "      <td>0.10</td>\n",
       "      <td>0.64</td>\n",
       "      <td>0.22</td>\n",
       "      <td>0.06</td>\n",
       "      <td>0.39</td>\n",
       "      <td>0.84</td>\n",
       "      <td>0.06</td>\n",
       "      <td>0.06</td>\n",
       "      <td>0.91</td>\n",
       "      <td>0.5</td>\n",
       "      <td>0.88</td>\n",
       "      <td>0.26</td>\n",
       "      <td>0.49</td>\n",
       "    </tr>\n",
       "    <tr>\n",
       "      <th>2</th>\n",
       "      <td>0.25</td>\n",
       "      <td>0.54</td>\n",
       "      <td>0.05</td>\n",
       "      <td>0.71</td>\n",
       "      <td>0.48</td>\n",
       "      <td>0.30</td>\n",
       "      <td>0.42</td>\n",
       "      <td>0.48</td>\n",
       "      <td>0.28</td>\n",
       "      <td>0.32</td>\n",
       "      <td>0.26</td>\n",
       "      <td>1.00</td>\n",
       "      <td>0.33</td>\n",
       "      <td>0.55</td>\n",
       "      <td>0.37</td>\n",
       "      <td>0.37</td>\n",
       "      <td>0.39</td>\n",
       "      <td>0.64</td>\n",
       "      <td>0.44</td>\n",
       "      <td>0.32</td>\n",
       "      <td>0.29</td>\n",
       "      <td>0.32</td>\n",
       "      <td>0.23</td>\n",
       "      <td>0.17</td>\n",
       "      <td>0.17</td>\n",
       "      <td>...</td>\n",
       "      <td>0.96</td>\n",
       "      <td>0.12</td>\n",
       "      <td>0.05</td>\n",
       "      <td>0.11</td>\n",
       "      <td>0.35</td>\n",
       "      <td>0.08</td>\n",
       "      <td>0.80</td>\n",
       "      <td>0.82</td>\n",
       "      <td>0.04</td>\n",
       "      <td>0.19</td>\n",
       "      <td>0.19</td>\n",
       "      <td>0.18</td>\n",
       "      <td>0.05</td>\n",
       "      <td>0.57</td>\n",
       "      <td>0.36</td>\n",
       "      <td>0.09</td>\n",
       "      <td>0.46</td>\n",
       "      <td>0.05</td>\n",
       "      <td>0.09</td>\n",
       "      <td>0.05</td>\n",
       "      <td>0.88</td>\n",
       "      <td>0.5</td>\n",
       "      <td>0.76</td>\n",
       "      <td>0.13</td>\n",
       "      <td>0.34</td>\n",
       "    </tr>\n",
       "    <tr>\n",
       "      <th>3</th>\n",
       "      <td>1.00</td>\n",
       "      <td>0.42</td>\n",
       "      <td>0.47</td>\n",
       "      <td>0.59</td>\n",
       "      <td>0.12</td>\n",
       "      <td>0.05</td>\n",
       "      <td>0.41</td>\n",
       "      <td>0.53</td>\n",
       "      <td>0.34</td>\n",
       "      <td>0.33</td>\n",
       "      <td>1.00</td>\n",
       "      <td>0.99</td>\n",
       "      <td>0.28</td>\n",
       "      <td>0.62</td>\n",
       "      <td>0.16</td>\n",
       "      <td>0.36</td>\n",
       "      <td>0.40</td>\n",
       "      <td>0.30</td>\n",
       "      <td>0.45</td>\n",
       "      <td>0.29</td>\n",
       "      <td>0.30</td>\n",
       "      <td>0.35</td>\n",
       "      <td>0.21</td>\n",
       "      <td>0.20</td>\n",
       "      <td>0.33</td>\n",
       "      <td>...</td>\n",
       "      <td>0.75</td>\n",
       "      <td>0.19</td>\n",
       "      <td>0.35</td>\n",
       "      <td>0.19</td>\n",
       "      <td>0.38</td>\n",
       "      <td>0.16</td>\n",
       "      <td>0.82</td>\n",
       "      <td>0.70</td>\n",
       "      <td>0.45</td>\n",
       "      <td>0.03</td>\n",
       "      <td>0.05</td>\n",
       "      <td>0.33</td>\n",
       "      <td>0.13</td>\n",
       "      <td>0.57</td>\n",
       "      <td>1.00</td>\n",
       "      <td>1.00</td>\n",
       "      <td>0.07</td>\n",
       "      <td>0.15</td>\n",
       "      <td>1.00</td>\n",
       "      <td>0.35</td>\n",
       "      <td>0.73</td>\n",
       "      <td>0.0</td>\n",
       "      <td>0.31</td>\n",
       "      <td>0.21</td>\n",
       "      <td>0.69</td>\n",
       "    </tr>\n",
       "    <tr>\n",
       "      <th>4</th>\n",
       "      <td>0.11</td>\n",
       "      <td>0.43</td>\n",
       "      <td>0.04</td>\n",
       "      <td>0.89</td>\n",
       "      <td>0.09</td>\n",
       "      <td>0.06</td>\n",
       "      <td>0.45</td>\n",
       "      <td>0.48</td>\n",
       "      <td>0.31</td>\n",
       "      <td>0.46</td>\n",
       "      <td>0.13</td>\n",
       "      <td>1.00</td>\n",
       "      <td>0.22</td>\n",
       "      <td>0.52</td>\n",
       "      <td>0.44</td>\n",
       "      <td>0.49</td>\n",
       "      <td>0.56</td>\n",
       "      <td>0.41</td>\n",
       "      <td>0.39</td>\n",
       "      <td>0.25</td>\n",
       "      <td>0.25</td>\n",
       "      <td>0.25</td>\n",
       "      <td>0.16</td>\n",
       "      <td>0.07</td>\n",
       "      <td>0.20</td>\n",
       "      <td>...</td>\n",
       "      <td>0.98</td>\n",
       "      <td>0.14</td>\n",
       "      <td>0.03</td>\n",
       "      <td>0.14</td>\n",
       "      <td>0.37</td>\n",
       "      <td>0.11</td>\n",
       "      <td>0.84</td>\n",
       "      <td>0.96</td>\n",
       "      <td>0.00</td>\n",
       "      <td>0.00</td>\n",
       "      <td>0.00</td>\n",
       "      <td>0.00</td>\n",
       "      <td>0.02</td>\n",
       "      <td>0.86</td>\n",
       "      <td>0.29</td>\n",
       "      <td>0.16</td>\n",
       "      <td>0.12</td>\n",
       "      <td>0.07</td>\n",
       "      <td>0.04</td>\n",
       "      <td>0.01</td>\n",
       "      <td>0.81</td>\n",
       "      <td>1.0</td>\n",
       "      <td>0.56</td>\n",
       "      <td>0.09</td>\n",
       "      <td>0.63</td>\n",
       "    </tr>\n",
       "  </tbody>\n",
       "</table>\n",
       "<p>5 rows × 123 columns</p>\n",
       "</div>"
      ],
      "text/plain": [
       "   population  householdsize  racepctblack  racePctWhite  racePctAsian  \\\n",
       "0        0.19           0.33          0.02          0.90          0.12   \n",
       "1        0.15           0.31          0.40          0.63          0.14   \n",
       "2        0.25           0.54          0.05          0.71          0.48   \n",
       "3        1.00           0.42          0.47          0.59          0.12   \n",
       "4        0.11           0.43          0.04          0.89          0.09   \n",
       "\n",
       "   racePctHisp  agePct12t21  agePct12t29  agePct16t24  agePct65up  numbUrban  \\\n",
       "0         0.17         0.34         0.47         0.29        0.32       0.20   \n",
       "1         0.06         0.58         0.72         0.65        0.47       0.16   \n",
       "2         0.30         0.42         0.48         0.28        0.32       0.26   \n",
       "3         0.05         0.41         0.53         0.34        0.33       1.00   \n",
       "4         0.06         0.45         0.48         0.31        0.46       0.13   \n",
       "\n",
       "   pctUrban  medIncome  pctWWage  pctWFarmSelf  pctWInvInc  pctWSocSec  \\\n",
       "0      1.00       0.37      0.72          0.34        0.60        0.29   \n",
       "1      1.00       0.22      0.52          0.10        0.51        0.48   \n",
       "2      1.00       0.33      0.55          0.37        0.37        0.39   \n",
       "3      0.99       0.28      0.62          0.16        0.36        0.40   \n",
       "4      1.00       0.22      0.52          0.44        0.49        0.56   \n",
       "\n",
       "   pctWPubAsst  pctWRetire  medFamInc  perCapInc  whitePerCap  blackPerCap  \\\n",
       "0         0.15        0.43       0.39       0.40         0.39         0.32   \n",
       "1         0.39        0.51       0.30       0.29         0.34         0.23   \n",
       "2         0.64        0.44       0.32       0.29         0.32         0.23   \n",
       "3         0.30        0.45       0.29       0.30         0.35         0.21   \n",
       "4         0.41        0.39       0.25       0.25         0.25         0.16   \n",
       "\n",
       "   indianPerCap  AsianPerCap  ...  LemasSwFTFieldOps  LemasSwFTFieldPerPop  \\\n",
       "0          0.27         0.27  ...               0.96                  0.17   \n",
       "1          0.13         0.20  ...               0.93                  0.38   \n",
       "2          0.17         0.17  ...               0.96                  0.12   \n",
       "3          0.20         0.33  ...               0.75                  0.19   \n",
       "4          0.07         0.20  ...               0.98                  0.14   \n",
       "\n",
       "   LemasTotalReq  LemasTotReqPerPop  PolicReqPerOffic  PolicPerPop  \\\n",
       "0           0.06               0.18              0.44         0.13   \n",
       "1           0.05               0.21              0.23         0.30   \n",
       "2           0.05               0.11              0.35         0.08   \n",
       "3           0.35               0.19              0.38         0.16   \n",
       "4           0.03               0.14              0.37         0.11   \n",
       "\n",
       "   RacialMatchCommPol  PctPolicWhite  PctPolicBlack  PctPolicHisp  \\\n",
       "0                0.94           0.93           0.03          0.07   \n",
       "1                0.61           0.89           0.15          0.01   \n",
       "2                0.80           0.82           0.04          0.19   \n",
       "3                0.82           0.70           0.45          0.03   \n",
       "4                0.84           0.96           0.00          0.00   \n",
       "\n",
       "   PctPolicAsian  PctPolicMinor  OfficAssgnDrugUnits  NumKindsDrugsSeiz  \\\n",
       "0           0.10           0.07                 0.02               0.57   \n",
       "1           0.06           0.12                 0.10               0.64   \n",
       "2           0.19           0.18                 0.05               0.57   \n",
       "3           0.05           0.33                 0.13               0.57   \n",
       "4           0.00           0.00                 0.02               0.86   \n",
       "\n",
       "   PolicAveOTWorked  LandArea  PopDens  PctUsePubTrans  PolicCars  \\\n",
       "0              0.29      0.12     0.26            0.20       0.06   \n",
       "1              0.22      0.06     0.39            0.84       0.06   \n",
       "2              0.36      0.09     0.46            0.05       0.09   \n",
       "3              1.00      1.00     0.07            0.15       1.00   \n",
       "4              0.29      0.16     0.12            0.07       0.04   \n",
       "\n",
       "   PolicOperBudg  LemasPctPolicOnPatr  LemasGangUnitDeploy  \\\n",
       "0           0.04                 0.90                  0.5   \n",
       "1           0.06                 0.91                  0.5   \n",
       "2           0.05                 0.88                  0.5   \n",
       "3           0.35                 0.73                  0.0   \n",
       "4           0.01                 0.81                  1.0   \n",
       "\n",
       "   LemasPctOfficDrugUn  PolicBudgPerPop  ViolentCrimesPerPop  \n",
       "0                 0.32             0.14                 0.20  \n",
       "1                 0.88             0.26                 0.49  \n",
       "2                 0.76             0.13                 0.34  \n",
       "3                 0.31             0.21                 0.69  \n",
       "4                 0.56             0.09                 0.63  \n",
       "\n",
       "[5 rows x 123 columns]"
      ]
     },
     "execution_count": 12,
     "metadata": {},
     "output_type": "execute_result"
    }
   ],
   "source": [
    "# Load the datasets\n",
    "df = pd.read_csv(\"data/communities_and_crime.csv\", index_col = 0)\n",
    "df.head()"
   ]
  },
  {
   "cell_type": "code",
   "execution_count": 13,
   "id": "f086fac6",
   "metadata": {},
   "outputs": [],
   "source": [
    "# Split the data into training and testing data\n",
    "X,y = df.drop(columns=['ViolentCrimesPerPop']), df['ViolentCrimesPerPop']\n",
    "X_train, X_test, y_train, y_test = train_test_split(X, y, test_size=0.2, random_state=42)"
   ]
  },
  {
   "cell_type": "markdown",
   "id": "b74d6808",
   "metadata": {},
   "source": [
    "<a id=\"part2q3solution\"></a>\n",
    "## Question 3: Solutions \n",
    "\n",
    "[Return to contents](#contents)"
   ]
  },
  {
   "cell_type": "markdown",
   "id": "014fe5fa",
   "metadata": {},
   "source": [
    "<div class='exercise-r'>\n",
    "\n",
    "**3.1** Compute the correlation matrix for the predictor variables in the training data (DO NOT print the entire matrix). Which pairs of distinct predictor variables have correlation greater than 0.99 or less than -0.99? (Output only those pairs with the corresponding correlation.)\n",
    "    \n",
    "</div>"
   ]
  },
  {
   "cell_type": "code",
   "execution_count": 14,
   "id": "81cf9860-88b9-4e9c-9d09-cee368b0b8b2",
   "metadata": {},
   "outputs": [
    {
     "name": "stdout",
     "output_type": "stream",
     "text": [
      "Here is the list of distinct variable predictors that have a correlation greater than 0.99\n"
     ]
    },
    {
     "data": {
      "text/html": [
       "<div>\n",
       "<style scoped>\n",
       "    .dataframe tbody tr th:only-of-type {\n",
       "        vertical-align: middle;\n",
       "    }\n",
       "\n",
       "    .dataframe tbody tr th {\n",
       "        vertical-align: top;\n",
       "    }\n",
       "\n",
       "    .dataframe thead th {\n",
       "        text-align: right;\n",
       "    }\n",
       "</style>\n",
       "<table border=\"1\" class=\"dataframe\">\n",
       "  <thead>\n",
       "    <tr style=\"text-align: right;\">\n",
       "      <th></th>\n",
       "      <th>First Predictor</th>\n",
       "      <th>Second Predictor</th>\n",
       "    </tr>\n",
       "  </thead>\n",
       "  <tbody>\n",
       "    <tr>\n",
       "      <th>0</th>\n",
       "      <td>population</td>\n",
       "      <td>numbUrban</td>\n",
       "    </tr>\n",
       "    <tr>\n",
       "      <th>3</th>\n",
       "      <td>PctRecImmig5</td>\n",
       "      <td>PctRecentImmig</td>\n",
       "    </tr>\n",
       "    <tr>\n",
       "      <th>4</th>\n",
       "      <td>PctRecImmig5</td>\n",
       "      <td>PctRecImmig8</td>\n",
       "    </tr>\n",
       "    <tr>\n",
       "      <th>8</th>\n",
       "      <td>PctRecImmig10</td>\n",
       "      <td>PctRecImmig5</td>\n",
       "    </tr>\n",
       "    <tr>\n",
       "      <th>9</th>\n",
       "      <td>PctRecImmig10</td>\n",
       "      <td>PctRecImmig8</td>\n",
       "    </tr>\n",
       "    <tr>\n",
       "      <th>10</th>\n",
       "      <td>OwnOccLowQuart</td>\n",
       "      <td>OwnOccMedVal</td>\n",
       "    </tr>\n",
       "    <tr>\n",
       "      <th>12</th>\n",
       "      <td>RentMedian</td>\n",
       "      <td>MedRent</td>\n",
       "    </tr>\n",
       "    <tr>\n",
       "      <th>14</th>\n",
       "      <td>LemasSwFTPerPop</td>\n",
       "      <td>PolicPerPop</td>\n",
       "    </tr>\n",
       "  </tbody>\n",
       "</table>\n",
       "</div>"
      ],
      "text/plain": [
       "    First Predictor Second Predictor\n",
       "0        population        numbUrban\n",
       "3      PctRecImmig5   PctRecentImmig\n",
       "4      PctRecImmig5     PctRecImmig8\n",
       "8     PctRecImmig10     PctRecImmig5\n",
       "9     PctRecImmig10     PctRecImmig8\n",
       "10   OwnOccLowQuart     OwnOccMedVal\n",
       "12       RentMedian          MedRent\n",
       "14  LemasSwFTPerPop      PolicPerPop"
      ]
     },
     "execution_count": 14,
     "metadata": {},
     "output_type": "execute_result"
    }
   ],
   "source": [
    "correlation = X_train.corr() # pandas \n",
    "verycorrelated = correlation[correlation > 0.99 ] # masking\n",
    "notcorrelated = correlation[correlation < -0.99 ] # masking\n",
    "\n",
    "d = []\n",
    "index = np.where(verycorrelated.notnull())\n",
    "x = index[0]\n",
    "y = index[1]\n",
    "\n",
    "for i in range(0, len(x)): # Need to check if they match \n",
    "    if verycorrelated.index[x[i]] == verycorrelated.columns[y[i]]: # make sure its not correlated with itself\n",
    "        pass\n",
    "    else:\n",
    "        d.append((verycorrelated.index[x[i]], verycorrelated.columns[y[i]]))\n",
    "                    \n",
    "\n",
    "df = pd.DataFrame(d, columns=['First Predictor', 'Second Predictor'])\n",
    "df2 = df.drop(labels = [1,2,6,5,7,11,13,15], axis = 0) # drop duplicates\n",
    "print(f\"Here is the list of distinct variable predictors that have a correlation greater than 0.99\")\n",
    "df2 # unique values"
   ]
  },
  {
   "cell_type": "code",
   "execution_count": 15,
   "id": "2be44e12-59a8-45d5-b4f6-f61bbdf6003d",
   "metadata": {},
   "outputs": [
    {
     "name": "stdout",
     "output_type": "stream",
     "text": [
      "Here is the list of distinct variable predictors that have a correlation less than -0.99\n"
     ]
    },
    {
     "data": {
      "text/html": [
       "<div>\n",
       "<style scoped>\n",
       "    .dataframe tbody tr th:only-of-type {\n",
       "        vertical-align: middle;\n",
       "    }\n",
       "\n",
       "    .dataframe tbody tr th {\n",
       "        vertical-align: top;\n",
       "    }\n",
       "\n",
       "    .dataframe thead th {\n",
       "        text-align: right;\n",
       "    }\n",
       "</style>\n",
       "<table border=\"1\" class=\"dataframe\">\n",
       "  <thead>\n",
       "    <tr style=\"text-align: right;\">\n",
       "      <th></th>\n",
       "      <th>First Predictor</th>\n",
       "      <th>Second Predictor</th>\n",
       "    </tr>\n",
       "  </thead>\n",
       "  <tbody>\n",
       "    <tr>\n",
       "      <th>0</th>\n",
       "      <td>LemasSwornFT</td>\n",
       "      <td>LemasSwFTFieldOps</td>\n",
       "    </tr>\n",
       "  </tbody>\n",
       "</table>\n",
       "</div>"
      ],
      "text/plain": [
       "  First Predictor   Second Predictor\n",
       "0    LemasSwornFT  LemasSwFTFieldOps"
      ]
     },
     "execution_count": 15,
     "metadata": {},
     "output_type": "execute_result"
    }
   ],
   "source": [
    "d2 = []\n",
    "index = np.where(notcorrelated.notnull())\n",
    "x = index[0]\n",
    "y = index[1]\n",
    "\n",
    "\n",
    "\n",
    "for i in range(0, len(x)): # Need to check if they match \n",
    "    if notcorrelated.index[x[i]] == notcorrelated.columns[y[i]]:\n",
    "        pass\n",
    "    else:\n",
    "        d2.append((notcorrelated.index[x[i]], notcorrelated.columns[y[i]]))\n",
    "df2 = pd.DataFrame(d2, columns=['First Predictor', 'Second Predictor'])\n",
    "df2 = df2.drop(labels = [1], axis = 0)\n",
    "print(f\"Here is the list of distinct variable predictors that have a correlation less than -0.99\")\n",
    "df2"
   ]
  },
  {
   "cell_type": "markdown",
   "id": "624145fc",
   "metadata": {},
   "source": [
    "<div class='exercise-r'>\n",
    "\n",
    "**3.2** Fit a linear regression model on the training data **using all available predictors**. Report and interpret the $R^2$ value on the testing data.\n",
    "    \n",
    "</div>"
   ]
  },
  {
   "cell_type": "code",
   "execution_count": 16,
   "id": "ba99a274",
   "metadata": {},
   "outputs": [
    {
     "name": "stdout",
     "output_type": "stream",
     "text": [
      "Here is the R^2 score from using a Linear Regression on the training data using all available predictors: 0.201\n"
     ]
    }
   ],
   "source": [
    "# your code here\n",
    "# Linear Regression\n",
    "# need to scale before computing\n",
    "xtrain = StandardScaler().fit_transform(X_train)\n",
    "xtest = StandardScaler().fit_transform(X_test)\n",
    "\n",
    "lr = LinearRegression()\n",
    "lr.fit(xtrain, y_train)\n",
    "y_pred = lr.predict(xtest)\n",
    "r2 = r2_score(y_test,y_pred)\n",
    "\n",
    "print(f\"Here is the R^2 score from using a Linear Regression on the training data using all \\\n",
    "available predictors: {r2:.3f}\")\n"
   ]
  },
  {
   "cell_type": "markdown",
   "id": "51bcb29e",
   "metadata": {},
   "source": [
    "**INTERPRETATION:**"
   ]
  },
  {
   "cell_type": "markdown",
   "id": "b4a7ae37",
   "metadata": {},
   "source": [
    "**your answer here**\n",
    "This is a very low R^2 score meaning that this is a pretty bad model to pick. It doesn't seem to describe the dataset very well. "
   ]
  },
  {
   "cell_type": "markdown",
   "id": "92e573d8",
   "metadata": {},
   "source": [
    "<div class='exercise-r'>\n",
    "\n",
    "\n",
    "**3.3.1** Standardize both **X_train** and **X_test**,  and for each number of components $k$ in $k \\in \\{1,2,3,4,5,6,8,10,12,15,20\\}$: \n",
    "\n",
    "  - Fit the PCA transformation with n_components = $k$ on the standardized **X_train**.\n",
    "    \n",
    "  - Apply the PCA transformation to the standardized **X_train**.\n",
    "    \n",
    "  - Use scikit-learn's cross_validate(...) to perform a 10-fold cross validation for a linear regression model on the transformed training data. \n",
    "    \n",
    "  Plot the mean validation MSE for each $k$. Report the best $k$ based on the mean validation MSE.\n",
    "    \n",
    "</div>"
   ]
  },
  {
   "cell_type": "code",
   "execution_count": 17,
   "id": "f7da41c1",
   "metadata": {},
   "outputs": [
    {
     "name": "stdout",
     "output_type": "stream",
     "text": [
      "Here is the k value that gives the lowest mse value from the cross validation 8 with value of 0.0297\n"
     ]
    },
    {
     "data": {
      "text/plain": [
       "Text(0, 0.5, 'MSE Values')"
      ]
     },
     "execution_count": 17,
     "metadata": {},
     "output_type": "execute_result"
    },
    {
     "data": {
      "image/png": "[encoded data removed]",
      "text/plain": [
       "<Figure size 432x288 with 1 Axes>"
      ]
     },
     "metadata": {
      "needs_background": "light"
     },
     "output_type": "display_data"
    }
   ],
   "source": [
    "# your code here\n",
    "k_list = [1,2,3,4,5,6,8,10,12,15,20]\n",
    "\n",
    "# must always Scale before doing PCA\n",
    "xtrain_scaled = StandardScaler().fit_transform(X_train)\n",
    "xtest_scaled = StandardScaler().fit_transform(X_test)\n",
    "\n",
    "mse_value = []\n",
    "\n",
    "for k in k_list:\n",
    "    pca_xtrain = PCA(n_components = k).fit(xtrain_scaled) #looping through k \n",
    "    xtrain_transform = pca_xtrain.transform(xtrain_scaled)\n",
    "    \n",
    "    lr = LinearRegression()\n",
    "    cross = cross_validate(lr,xtrain_transform,y_train,scoring = \"neg_mean_squared_error\",cv = 10, return_train_score = True)\n",
    "    mse_value.append(cross[\"test_score\"].mean()*-1)\n",
    "\n",
    "\n",
    "# find lowest mse_value & corresponding k\n",
    "low = min(mse_value)\n",
    "index = mse_value.index(low)\n",
    "best_k = k_list[index]\n",
    "#print(mse_value)\n",
    "print(f\"Here is the k value that gives the lowest mse value from the cross validation {best_k} with value of {low:.4f}\")\n",
    "\n",
    "\n",
    "plt.figure()\n",
    "plt.plot(k_list,  mse_value, \"om-\")\n",
    "plt.title(\"Plot of the Different MSE values for using different Amount of components in PCA\")\n",
    "plt.xlabel(\"Amount of Components\")\n",
    "plt.xticks(k_list)\n",
    "plt.ylabel(\"MSE Values\")"
   ]
  },
  {
   "cell_type": "markdown",
   "id": "48d078db",
   "metadata": {},
   "source": [
    "<div class='exercise-r'>\n",
    "    \n",
    "\n",
    "**3.3.2** Now let's compute the $R^2$ value on the testing data:\n",
    "  - Fit the PCA transformation with n_components equals the best $k$ on the standardized **X_train**.\n",
    "  - Apply the PCA transformation to the standardized **X_train** and the standardized **X_test**. \n",
    "  - Fit a linear regression model to the PCA-transformed components and report the  test $R^2$.\n",
    "    \n",
    "</div>"
   ]
  },
  {
   "cell_type": "code",
   "execution_count": 18,
   "id": "8accdd4c",
   "metadata": {},
   "outputs": [
    {
     "name": "stdout",
     "output_type": "stream",
     "text": [
      "Here is the test R^2 scored from PCA transformation and using Linear Regression 0.655\n"
     ]
    }
   ],
   "source": [
    "# your code here\n",
    "xtest_scaled = StandardScaler().fit_transform(X_test)\n",
    "\n",
    "\n",
    "pca_fit = PCA(n_components = 8).fit(xtrain_scaled)  # still fit on xtrain\n",
    "\n",
    "#transform both test & train\n",
    "xtest_transform = pca_fit.transform(xtest_scaled)\n",
    "xtrain_transform = pca_fit.transform(xtrain_scaled)\n",
    "\n",
    "lr = LinearRegression()\n",
    "lr.fit(xtrain_transform, y_train)\n",
    "y_pred = lr.predict(xtest_transform)\n",
    "r2 = r2_score(y_test,y_pred)\n",
    "\n",
    "print(f\"Here is the test R^2 scored from PCA transformation and using Linear Regression {r2:.3f}\")\n",
    "\n"
   ]
  },
  {
   "cell_type": "markdown",
   "id": "59cbde68",
   "metadata": {},
   "source": [
    "<div class='exercise-r'>\n",
    "\n",
    "**3.4** Compare the $R^2$ value obtained from **3.2** and **3.3.2**. Interpret the result.\n",
    "    \n",
    "</div>"
   ]
  },
  {
   "cell_type": "markdown",
   "id": "38e7733e",
   "metadata": {},
   "source": [
    "**your answer here**\n",
    "From 3.2 using just a linear regression model, the R^2 score was 0.219. From 3.3.2 using scaling and PCA transformation with 8 components, the R^2 jumps up to 0.655. PCA is used to reduce the number or parameters by seeing which ones cause the most variance that describe the dataset. By removing extraneous parameters, the model using pca with 8 components is a better description of the data than just a linear regression using all of the parameters. \n"
   ]
  },
  {
   "cell_type": "markdown",
   "id": "773ac55e",
   "metadata": {},
   "source": [
    "<a id=\"part2q4\"></a>\n",
    "\n",
    "## <div class='exercise'><b> Question 4: Visualizing Transformed Data [10 pts]</b></div>\n",
    "\n",
    "[Return to contents](#contents)\n",
    "\n",
    "In this question, we will be using a dataset called \"Better Life Index\" adapted from [Organisation for Economic Co-operation and Development](https://stats.oecd.org/). The modified dataset contains 24 numerical variables and 1 categorical variable. The categorical variable `Country` is the name of the country. Some of the numerical variables include:\n",
    "\n",
    "- `Dwellings without basic facilities`\n",
    "- `Housing expenditure`\n",
    "- `Rooms per person`\n",
    "- `Household net adjusted disposable income`\n",
    "- `Household net financial wealth`\n",
    "- ...\n",
    "\n",
    "\n",
    "**Load the dataset, and answer the following questions:**\n",
    "\n",
    "\n",
    "**4.1** Standardize **X** and apply PCA transformation with n_components = 2 to your standardized data.\n",
    "\n",
    "**4.2** Make a scatter plot for the transformed data, where the x-axis corresponds to the first principal component, and the y-axis corresponds to the second principal component. Label each point by its corresponding country name. Do you observe any pattern in the scatter plot?\n",
    "\n",
    "**4.3** In Question 3, where we also used PCA, we had a training and a test set. Here we do not split the data. Explain why."
   ]
  },
  {
   "cell_type": "code",
   "execution_count": 19,
   "id": "fbd4513e",
   "metadata": {},
   "outputs": [
    {
     "data": {
      "text/plain": [
       "0    Australia\n",
       "1      Austria\n",
       "2      Belgium\n",
       "3       Canada\n",
       "4        Chile\n",
       "Name: Country, dtype: object"
      ]
     },
     "execution_count": 19,
     "metadata": {},
     "output_type": "execute_result"
    }
   ],
   "source": [
    "# Load the datasets\n",
    "df = pd.read_csv(\"data/OECD_well-being.csv\", index_col = 0)\n",
    "country, X = df['Country'], df.drop(columns='Country').values\n",
    "country.head()"
   ]
  },
  {
   "cell_type": "code",
   "execution_count": 20,
   "id": "e513d318-de6a-459d-9dda-9e951c6869db",
   "metadata": {},
   "outputs": [],
   "source": [
    "#plt.figure()\n",
    "#plt.scatter(df['Student skills'], df['Country'])"
   ]
  },
  {
   "cell_type": "markdown",
   "id": "fa5dcebf",
   "metadata": {},
   "source": [
    "<a id=\"part2q4solution\"></a>\n",
    "## Question 4: Solutions \n",
    "\n",
    "[Return to contents](#contents)"
   ]
  },
  {
   "cell_type": "markdown",
   "id": "25ff0701",
   "metadata": {},
   "source": [
    "<div class='exercise-r'>\n",
    "\n",
    "**4.1** Standardize **X** and apply PCA transformation with n_components = 2 to your standardized data.\n",
    "    \n",
    "</div>\n"
   ]
  },
  {
   "cell_type": "code",
   "execution_count": 21,
   "id": "e5930516",
   "metadata": {},
   "outputs": [
    {
     "data": {
      "text/plain": [
       "(38, 2)"
      ]
     },
     "execution_count": 21,
     "metadata": {},
     "output_type": "execute_result"
    }
   ],
   "source": [
    "# your code here\n",
    "x_scale = StandardScaler().fit_transform(X)\n",
    "pca_fit = PCA(n_components = 2).fit(x_scale)  \n",
    "x_transform = pca_fit.transform(x_scale)\n",
    "x_transform.shape\n"
   ]
  },
  {
   "cell_type": "markdown",
   "id": "dacbafa4",
   "metadata": {},
   "source": [
    "<div class='exercise-r'>\n",
    "\n",
    "**4.2** Make a scatter plot for the transformed data, where the x-axis corresponds to the first principal component, and the y-axis corresponds to the second principal component. Label each point by its corresponding country name. Do you observe any pattern in the scatter plot?\n",
    "    \n",
    "</div>"
   ]
  },
  {
   "cell_type": "code",
   "execution_count": 22,
   "id": "2d4f6d67",
   "metadata": {},
   "outputs": [
    {
     "data": {
      "text/plain": [
       "Text(0, 0.5, 'Principal Component 2')"
      ]
     },
     "execution_count": 22,
     "metadata": {},
     "output_type": "execute_result"
    },
    {
     "data": {
      "image/png": "[encoded data removed]",
      "text/plain": [
       "<Figure size 1152x576 with 1 Axes>"
      ]
     },
     "metadata": {
      "needs_background": "light"
     },
     "output_type": "display_data"
    }
   ],
   "source": [
    "# your code here\n",
    "\n",
    "comp1 = x_transform[:,0]\n",
    "comp2 = x_transform[:,1]\n",
    "\n",
    "\n",
    "plt.figure(figsize=(16,8))\n",
    "\n",
    "plt.scatter(x_transform[:,0],x_transform[:,1])\n",
    "for i, name in enumerate(country):\n",
    "    plt.annotate(name, (x_transform[i,0], x_transform[i,1]))\n",
    "plt.title('First 2 Principal Components of OECD Well being', fontsize=20)\n",
    "plt.xlabel('Principal Component 1')\n",
    "plt.ylabel('Principal Component 2')\n"
   ]
  },
  {
   "cell_type": "markdown",
   "id": "6c8c0c2b",
   "metadata": {},
   "source": [
    "**INTERPRETATION:**"
   ]
  },
  {
   "cell_type": "markdown",
   "id": "18b78193",
   "metadata": {},
   "source": [
    "**your answer here**\n",
    "I do not see any pattern from this graph. It is quite busy and countries of different continents are scattered. THe only thing I can see is there is some slight grouping towards the [-4,-2] part of component 1 and [-1,3] of component 2."
   ]
  },
  {
   "cell_type": "markdown",
   "id": "0611fd46",
   "metadata": {},
   "source": [
    "<div class='exercise-r'>\n",
    "\n",
    "**4.3** In Question 3, where we also used PCA, we had a training and a test set. Here we do not split the data. Explain why.\n",
    "    \n",
    "</div>"
   ]
  },
  {
   "cell_type": "markdown",
   "id": "d3453524",
   "metadata": {},
   "source": [
    "**INTERPRETATION:**"
   ]
  },
  {
   "cell_type": "markdown",
   "id": "64f2fffc",
   "metadata": {},
   "source": [
    "**your answer here**\n",
    "We do not split the data because in PCA we want to be able to see all the datapoints and predictors to see where the variances lie. PCA, in our case, is used as a visualization tool and to be able to see what components hold the most variance, which helps to describe the dataframe."
   ]
  },
  {
   "cell_type": "code",
   "execution_count": null,
   "id": "b335f974-d5ac-49cf-8ab8-9602ae3c6d27",
   "metadata": {},
   "outputs": [],
   "source": []
  }
 ],
 "metadata": {
  "interpreter": {
   "hash": "aee8b7b246df8f9039afb4144a1f6fd8d2ca17a180786b69acc140d282b71a49"
  },
  "kernelspec": {
   "display_name": "Python 3",
   "language": "python",
   "name": "python3"
  },
  "language_info": {
   "codemirror_mode": {
    "name": "ipython",
    "version": 3
   },
   "file_extension": ".py",
   "mimetype": "text/x-python",
   "name": "python",
   "nbconvert_exporter": "python",
   "pygments_lexer": "ipython3",
   "version": "3.8.8"
  }
 },
 "nbformat": 4,
 "nbformat_minor": 5
}
