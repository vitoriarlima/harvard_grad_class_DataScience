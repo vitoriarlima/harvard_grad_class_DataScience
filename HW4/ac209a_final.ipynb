{
 "cells": [
  {
   "cell_type": "markdown",
   "metadata": {
    "tags": []
   },
   "source": [
    "# <img style=\"float: left; padding-right: 10px; width: 45px\" src=\"https://raw.githubusercontent.com/Harvard-IACS/2018-CS109A/master/content/styles/iacs.png\"> CS109A Introduction to Data Science: \n",
    "\n",
    "## Homework 5  AC209: GLMs\n",
    "\n",
    "\n",
    "**Harvard University**<br/>\n",
    "**Fall 2021**<br/>\n",
    "**Instructors**: Pavlos Protopapas, Natesh Pillai\n"
   ]
  },
  {
   "cell_type": "markdown",
   "metadata": {},
   "source": [
    "<hr style=\"height:2pt\">"
   ]
  },
  {
   "cell_type": "code",
   "execution_count": 1,
   "metadata": {},
   "outputs": [
    {
     "data": {
      "text/html": [
       "<style>\n",
       "blockquote { background: #AEDE94; }\n",
       "h1 {\n",
       "    padding-top: 25px;\n",
       "    padding-bottom: 25px;\n",
       "    text-align: left;\n",
       "    padding-left: 10px;\n",
       "    background-color: #63ACBE;\n",
       "    color: black;\n",
       "}\n",
       "h2 {\n",
       "    padding-top: 10px;\n",
       "    padding-bottom: 10px;\n",
       "    text-align: left;\n",
       "    padding-left: 5px;\n",
       "    background-color: #EEEEEE;\n",
       "    color: black;\n",
       "}\n",
       "\n",
       "div.exercise {\n",
       "\tbackground-color: #f8b4ab;\n",
       "\tborder-color: #E9967A;\n",
       "\tborder-left: 5px solid #601A4A;\n",
       "\tpadding: 0.5em;\n",
       "}\n",
       "\n",
       "div.exercise-r {\n",
       "\tbackground-color: #ffd0d0;\n",
       "\tborder-color: #E9967A;\n",
       "\tborder-left: 5px solid #601A4A;\n",
       "\tpadding: 0.5em;\n",
       "}\n",
       "\n",
       "\n",
       "span.sub-q {\n",
       "\tfont-weight: bold;\n",
       "}\n",
       "div.theme {\n",
       "\tbackground-color: #63ACBE;\n",
       "\tborder-color: #E9967A;\n",
       "\tborder-left: 5px solid #601A4A;\n",
       "\tpadding: 0.5em;\n",
       "\tfont-size: 18pt;\n",
       "}\n",
       "div.gc {\n",
       "\tbackground-color: #AEDE94;\n",
       "\tborder-color: #E9967A;\n",
       "\tborder-left: 5px solid #601A4A;\n",
       "\tpadding: 0.5em;\n",
       "\tfont-size: 12pt;\n",
       "}\n",
       "p.q1 {\n",
       "    padding-top: 5px;\n",
       "    padding-bottom: 5px;\n",
       "    text-align: left;\n",
       "    padding-left: 5px;\n",
       "    background-color: #EEEEEE;\n",
       "    color: black;\n",
       "}\n",
       "header {\n",
       "   padding-top: 35px;\n",
       "    padding-bottom: 35px;\n",
       "    text-align: left;\n",
       "    padding-left: 10px;\n",
       "    background-color: #DDDDDD;\n",
       "    color: black;\n",
       "}\n",
       "span.emph {\n",
       "\tcolor: #601A4A;\n",
       "\tfont-weight: bold;\n",
       "}\n",
       "\n",
       "</style>\n"
      ],
      "text/plain": [
       "<IPython.core.display.HTML object>"
      ]
     },
     "execution_count": 1,
     "metadata": {},
     "output_type": "execute_result"
    }
   ],
   "source": [
    "# RUN THIS CELL \n",
    "import requests\n",
    "from IPython.core.display import HTML\n",
    "styles = requests.get(\n",
    "    \"https://raw.githubusercontent.com/Harvard-IACS/2021-CS109A/master/\"\n",
    "    \"themes/static/css/cs109.css\"\n",
    ").text\n",
    "HTML(styles)"
   ]
  },
  {
   "cell_type": "markdown",
   "metadata": {},
   "source": [
    "<a id=\"instructions\"></a>\n",
    "\n",
    "<hr style=\"height:2pt\">\n",
    "\n",
    "### INSTRUCTIONS\n",
    "\n",
    "- To submit your assignment follow the instructions given in Canvas.\n",
    "\n",
    "- Please **restart the kernel and run the entire notebook again before you submit.**\n",
    "\n",
    "- Running cells out of order is a common pitfall in Jupyter Notebooks. To make sure your code continues to work, restart the kernel and rerun your notebook periodically while working through this assignment. \n",
    "\n",
    "- We have tried to include all the libraries you may need to do the assignment in the imports cell provided below. **Please use only the libraries provided in those imports.**\n",
    "\n",
    "- Please use `.head(...)` when viewing data. Do not submit a notebook that is **excessively long**. \n",
    "\n",
    "- In questions that require code to answer, such as \"calculate and report $R^2$\", do not just output the value from a cell. Write a `print(...)` function that clearly labels the output, includes a reference to the calculated value, and rounds it to a reasonable number of digits. **Do not hard code values in your printed output**. For example, this is an appropriate print statement:\n",
    "```python\n",
    "print(f'The R^2 is {R:.4f}')\n",
    "```\n",
    "- **Your plots MUST be clearly labeled and easy to read,** including clear labels for the $x$ and $y$ axes, a descriptive title (\"MSE plot\" is NOT a descriptive title; \"95% confidence interval of coefficients for degree-5 polynomial model\" on the other hand is descriptive), a legend when appropriate, and clearly formatted text and graphics.\n",
    "\n",
    "- **Your code may also be evaluated for efficiency and clarity.** As a result, correct output is not always sufficient for full credit.\n",
    "\n",
    "<hr style=\"height:2pt\">"
   ]
  },
  {
   "cell_type": "markdown",
   "metadata": {},
   "source": [
    "### Import Libraries"
   ]
  },
  {
   "cell_type": "code",
   "execution_count": 2,
   "metadata": {},
   "outputs": [],
   "source": [
    "# RUN THIS CELL\n",
    "import pandas as pd\n",
    "import numpy as np\n",
    "import matplotlib.pyplot as plt\n",
    "\n",
    "from scipy.stats import poisson \n",
    "from scipy.optimize import minimize\n",
    "from sklearn.linear_model import LinearRegression"
   ]
  },
  {
   "cell_type": "markdown",
   "metadata": {
    "tags": []
   },
   "source": [
    "## <div class='exercise'> Question 1: Poisson regression [20 pts] </b> </div>\n",
    "\n",
    "The probability density function of the Poisson distribution is given by:\n",
    "\n",
    "$$ p(y|\\lambda) =  \\frac{\\lambda^{y}}{y!} e^{-\\lambda}$$\n",
    "\n",
    "\n",
    "**1.1** Show that the Poisson distribution belongs to the general exponential distribution family with probability density:\n",
    "\n",
    "$$f(y|\\theta)= \\exp\\left( \\frac{y  \\,\\theta-b(\\theta)}{\\phi}+c(y,\\phi)\\right)$$\n",
    "\n",
    "**1.2** For the Poisson distribution, calculate the canonical parameter $\\theta$ in terms of $\\lambda$, the cumulant function $b(\\theta)$, the dispersion parameter $\\phi$, and the normalization function $c(y,\\phi)$.\n",
    "\n",
    "**1.3**  Show that the canonical link $g(.)$ for the Poisson regression model is given by:\n",
    "\n",
    "$$\\eta = g(\\lambda) = \\log(\\lambda)$$\n",
    "\n",
    "**1.4** Derive to the *normal equations* that maximizes the likelihood in the Poisson regression model.\n",
    "\n",
    "**1.5** Write a function (name it `pois_loglik`) that returns the log-likelihood (either the positive or negative) for a simple Poisson regression model with one predictor (make sure you incorporate the canonical link properly to connect $\\beta_0+\\beta_1 X_1$ to $\\lambda$).  The inputs should be `beta` (a vector), `X` (a matrix), and `y` (a vector), and a boolean `negative` with default option of `False` (that flags whether or not the negative value should be returned) and returns the log-likelihood evaluation.  **Note:** `X` and `beta` should include the intercept appropriately.\n",
    "\n",
    "**Hint:** [scipy.stats.poisson](https://docs.scipy.org/doc/scipy/reference/generated/scipy.stats.poisson.html) may be helpful.\n",
    "\n",
    "**1.6** Use an appropriate visual to explore whether `storms` is related to `watertemp` in the `atlanticstorms.csv` data set.  Use this visual to guess what values of $\\beta_0$ and $\\beta_1$ would be reasonable in a Poisson regression model.\n",
    "\n",
    "**Hint:** Be careful as to the scale for this guess: be sure to take into account the canonical link connection between $\\beta_0+\\beta_1 X_1$ and $\\lambda$.\n",
    "\n",
    "**Note:** The `atlanticstorms.csv` data set contains annual counts of the number of tropical storms in the Atlantic Ocean (`storms`) along with the average water temperature in the Gulf of Mexico in June of that year (`watertemp`), measured as the deviation from average in degrees Fahrenheit.\n",
    "\n",
    "\n",
    "**1.7** Use your `pois_loglik` function to get the maximum likelihood estimates for $\\beta_0$ and $\\beta_1$ fit to predict `storms` from `watertemp` in the `atlanticstorms.csv` data set.  Be explicit as to the initial starting value you decide on for $\\beta_0$ and $\\beta_1$ (for example, it may match your guesses from the previous part).\n",
    "\n",
    "**Hint:** [scipy.optimize.minimize](https://docs.scipy.org/doc/scipy/reference/generated/scipy.optimize.minimize.html) may be helpful.\n",
    "\n",
    "\n",
    "**1.8** Fit the standard linear regression model (feel free to use sklearn) to predict `np.log(storms)` from `watertemp` in the `atlanticstorms.csv` data set.  Compare the estimates for the coefficients in this model to the Poisson regression model.  What do these models say about the association between the number of storms in the Atlantic (on the original scale) and the water temperature in the Gulf of Mexico?\n",
    "\n",
    "**Hint:** It might be useful to plot both model's curve (along with the scatterplot of the data) on the original scale."
   ]
  },
  {
   "cell_type": "markdown",
   "metadata": {},
   "source": [
    "<hr style=\"height:1pt\"> \n",
    "\n",
    "## Question 1: Solutions\n",
    "\n"
   ]
  },
  {
   "cell_type": "markdown",
   "metadata": {},
   "source": [
    "<div class='exercise-r'>\n",
    "\n",
    "The probability density function of the Poisson distribution is given by:\n",
    "\n",
    "$$ p(y|\\lambda) =  \\frac{\\lambda^{y}}{y!} e^{-\\lambda}$$\n",
    "\n",
    "\n",
    "**1.1** Show that the Poisson distribution belongs to the general exponential distribution family with probability density:\n",
    "\n",
    "$$f(y|\\theta)= \\exp\\left( \\frac{y  \\,\\theta-b(\\theta)}{\\phi}+c(y,\\phi)\\right)$$\n",
    "\n",
    "</div>"
   ]
  },
  {
   "cell_type": "markdown",
   "metadata": {},
   "source": [
    "To show that the Poisson distribution belongs to the general exponential distribution family, I will start my proof by rewriting the probability density function of the poisson distribution:\n",
    "\n",
    "$$ p(y|\\lambda) = p(Y=y) =  \\frac{\\lambda^{y}}{y!} e^{-\\lambda}$$\n",
    "\n",
    "I know that the euler number and that the natural logarithm are inverse functions. Meaning that taking them both together yields to the very same result. Meaning, I know that given an example number 8, if I take first the log and then the euler of the log, I in fact didn't do any transformation to my number 8, i.e. $e^{ln(8)} = 8$.  Given this property, I can play with them to rewrite the probability density function of the poisson distribution. \n",
    "\n",
    "Consequently, I will do:\n",
    "\n",
    "$$ p(y|\\lambda) = p(Y=y) = exp( ln( \\frac{\\lambda^{y}}{y!} e^{-\\lambda}))$$\n",
    "\n",
    "\n",
    "\n",
    "Additionally, I will make use of the properties of the logarithm in this rewriting process. I will make use of: $ln(\\frac{a}{b}) = ln(a) - ln(b)$ and of $ln(a^{n})= n * ln{a}$\n",
    "\n",
    "Let's do this step by step. Instead of doing everything together, first log and then euler of the log, let's take first the log and do this step by step:\n",
    "\n",
    "$$ p(y|\\lambda) = p(Y=y) = ln( \\frac{\\lambda^{y}}{y!} e^{-\\lambda})$$\n",
    "$$ = ln(\\frac{\\lambda^{y}}{y!}) - ln( e^{-\\lambda}) $$\n",
    "$$ = ln(\\lambda^{y}) - ln( y!) - ln( e^{-\\lambda}) $$\n",
    "$$ = y* ln(\\lambda) - ln( y!) -\\lambda $$\n",
    "$$ = y* ln(\\lambda)  -\\lambda - ln( y!)$$\n",
    "\n",
    "Given the properties outlined above, I can further re-write this knowing that $e^{ln(\\lambda)} = \\lambda$\n",
    "\n",
    "$$ = y* ln(\\lambda) -  e^{ln(\\lambda)} - ln( y!)$$\n",
    "\n",
    "\n",
    "Now let's take the \"second\" step, i.e. the euler of all of this:\n",
    "\n",
    "$$ = exp( y* ln(\\lambda) -  e^{ln(\\lambda)} - ln( y!))$$\n",
    "\n",
    "$$ = exp( \\frac{ y* ln(\\lambda) -  e^{ln(\\lambda)}}{1} - ln( y!))$$\n",
    "\n",
    "From here I can see that $ p(y|\\lambda) = exp( \\frac{ y* ln(\\lambda) -  e^{ln(\\lambda)}}{1} - ln( y!))$ and that $f(y|\\theta)= \\exp\\left( \\frac{y  \\,\\theta-b(\\theta)}{\\phi}+c(y,\\phi)\\right)$ look very similar. This proofs that the poisson distribution belongs to the general exponential distribution family - where:\n",
    "\n",
    "$$ \\theta = log(\\lambda)$$\n",
    "$$ b(\\theta) = \\lambda = exp(\\theta)$$\n",
    "$$ c( y, \\phi)= - log(y!)$$ \n",
    "consequently $$\\phi = 1$$\n",
    "\n",
    "\n",
    "\n",
    "\n",
    "\n",
    "\n",
    "\n",
    "\n",
    "\n",
    "\n",
    "\n",
    "\n",
    "\n",
    "\n",
    "\n",
    "\n",
    "\n",
    "\n"
   ]
  },
  {
   "cell_type": "markdown",
   "metadata": {},
   "source": [
    "<div class='exercise-r'>\n",
    "\n",
    "**1.2** For the Poisson distribution, calculate the canonical parameter $\\theta$ in terms of $\\lambda$, the cumulant function $b(\\theta)$, the dispersion parameter $\\phi$, and the normalization function $c(y,\\phi)$.\n",
    "\n",
    "</div>"
   ]
  },
  {
   "cell_type": "markdown",
   "metadata": {},
   "source": [
    "As discussed above in 1.1: \n",
    "$$ \\theta = log(\\lambda)$$\n",
    "$$ b(\\theta) = \\lambda = exp(\\theta)$$\n",
    "$$ c( y, \\phi)= - log(y!)$$ \n",
    "$$\\phi = 1$$"
   ]
  },
  {
   "cell_type": "markdown",
   "metadata": {},
   "source": [
    "<div class='exercise-r'>\n",
    "\n",
    "**1.3**  Show that the canonical link $g(.)$ for the Poisson regression model is given by:\n",
    "\n",
    "$$\\eta = g(\\lambda) = \\log(\\lambda)$$\n",
    "    \n",
    "</div>"
   ]
  },
  {
   "cell_type": "markdown",
   "metadata": {},
   "source": [
    "Given that: \n",
    "\n",
    "$$b'(\\theta)=\\mu$$\n",
    "\n",
    "Let's rewrite this in term of what we found above. Meaning: \n",
    "\n",
    "$$b'(\\theta) = exp(\\theta)= exp(ln(\\lambda))   = \\lambda, $$\n",
    "\n",
    "hence $\\mu = \\lambda$ where $\\theta = log(\\lambda)$.\n",
    "\n",
    "\n",
    "\n",
    "\n",
    "Therefore if, given that: $$g(\\mu) = \\theta$$\n",
    "\n",
    "and, that from above: \n",
    "$$log(\\lambda) = \\theta  $$\n",
    "\n",
    "it follows that my canonical link function g(.) is the log(.) function:\n",
    "\n",
    "$$\\eta = g(\\mu) = g(\\lambda) = log(\\lambda) = \\theta$$\n",
    "\n",
    "and that my linear predictor is $$ \\eta = \\theta = x^{T}\\beta$$"
   ]
  },
  {
   "cell_type": "markdown",
   "metadata": {},
   "source": [
    "<div class='exercise-r'>\n",
    "\n",
    "**1.4** Derive to the *normal equations* that maximizes the likelihood in the Poisson regression model.\n",
    "    \n",
    "</div>"
   ]
  },
  {
   "cell_type": "markdown",
   "metadata": {},
   "source": [
    "From (slide 26 of advanced section slides): \n",
    "\n",
    "$$\\sum_{i=1}^{n} \\frac{(y_{i} - \\mu_{i}) x^{T}_{i}}{\\phi_{i}} = 0$$\n",
    "\n",
    "We can gradually step by step insert what we know about the poission distribution:\n",
    "\n",
    "$$\\sum_{i=1}^{n}\\frac{(y_{i} - \\lambda_{i}) x^{T}_{i}}{\\phi_{i}} = 0$$\n",
    "\n",
    "$$\\sum_{i=1}^{n} \\frac{(y_{i} - exp(\\theta)) x^{T}_{i}}{\\phi_{i}} = 0$$\n",
    "\n",
    "$$\\sum_{i=1}^{n}\\frac{(y_{i} - exp(\\eta)) x^{T}_{i}}{\\phi_{i}} = 0$$\n",
    "\n",
    "\n",
    "Which follows that:\n",
    "\n",
    "\n",
    "$$\\sum_{i=1}^{n} \\frac{(y_{i} - exp(x^{T}\\beta)) x^{T}_{i}}{\\phi_{i}} = 0$$\n",
    "\n",
    "$$\\sum_{i=1}^{n} \\frac{(y_{i} - exp(x^{T}\\beta)) x^{T}_{i}}{1} = 0$$"
   ]
  },
  {
   "cell_type": "markdown",
   "metadata": {},
   "source": [
    "<div class='exercise-r'>\n",
    "\n",
    "**1.5** Write a function (name it `pois_loglik`) that returns the log-likelihood (either the positive or negative) for a simple Poisson regression model with one predictor (make sure you incorporate the canonical link properly to connect $\\beta_0+\\beta_1 X_1$ to $\\lambda$).  The inputs should be `beta` (a vector), `X` (a matrix), and `y` (a vector), and a boolean `negative` with default option of `False` (that flags whether or not the negative value should be returned) and returns the log-likelihood evaluation.  **Note:** `X` and `beta` should include the intercept appropriately.\n",
    "\n",
    "**Hint:** [scipy.stats.poisson](https://docs.scipy.org/doc/scipy/reference/generated/scipy.stats.poisson.html) may be helpful.\n",
    "\n",
    "</div>"
   ]
  },
  {
   "cell_type": "markdown",
   "metadata": {},
   "source": [
    "Let's first define what I have to code: I want to write down the log likeihood for a simple poisson regression model.\n",
    "\n",
    "Let's first define the Likelihood $L$ as: $$L = \\prod  \\frac{\\lambda^{y}}{y!} e^{-\\lambda} $$\n",
    "\n",
    "The log likelihood is the log of L, hence:\n",
    "\n",
    "$$ l = log(L) = log( \\prod  \\frac{\\lambda^{y}}{y!} e^{-\\lambda} ) $$\n",
    "$$ = \\sum( log \\frac{\\lambda^{y}}{y!} e^{-\\lambda} ) $$\n",
    "\n",
    "$$ = \\sum(y * log(\\lambda)- (log(y!)) - \\sum(\\lambda)  $$\n",
    "\n",
    "\n",
    "\n",
    "I know from above that: \n",
    "\n",
    "$$\\lambda = e^{\\theta} = e^{\\eta} = e^{x^{T}\\beta}$$\n",
    "$$ln(\\lambda )= \\theta = \\eta = x^{T}\\beta$$\n",
    "\n",
    "\n",
    "Hence:\n",
    "\n",
    "$$ l = log(L) =   \\sum(y * (x^{T}\\beta) - log(y!)) - \\sum(e^{x^{T}\\beta})  $$\n",
    "\n",
    "\n",
    "\n"
   ]
  },
  {
   "cell_type": "code",
   "execution_count": 3,
   "metadata": {},
   "outputs": [],
   "source": [
    "\n",
    "import scipy.special as special\n",
    "import math\n",
    "    \n",
    "def pois_loglik(beta, X, y, negative = False):\n",
    "    my_lambda = np.exp(X@beta.T)\n",
    "    log_likelihood=0\n",
    "    my_lambda = np.exp(X@beta.T)\n",
    "    #print(my_lambda.shape)\n",
    "    \n",
    "    for i in range(len(y)):\n",
    "        distribution = poisson.pmf(y[i], my_lambda[i])\n",
    "        log_likelihood = log_likelihood + np.log(distribution)\n",
    "        \n",
    "    neg_log_likelihood = (-1)*log_likelihood\n",
    "    if negative == True:\n",
    "        return neg_log_likelihood\n",
    "    else:\n",
    "        return log_likelihood\n",
    "    \n",
    "#poisson.logmf\n"
   ]
  },
  {
   "cell_type": "markdown",
   "metadata": {},
   "source": [
    "<div class='exercise-r'>\n",
    "\n",
    "**1.6** Use an appropriate visual to explore whether `storms` is related to `watertemp` in the `atlanticstorms.csv` data set.  Use this visual to guess what values of $\\beta_0$ and $\\beta_1$ would be reasonable in a Poisson regression model.\n",
    "\n",
    "**Hint:** Be careful as to the scale for this guess: be sure to take into account the canonical link connection between $\\beta_0+\\beta_1 X_1$ and $\\lambda$.\n",
    "\n",
    "**Note:** The `atlanticstorms.csv` data set contains annual counts of the number of tropical storms in the Atlantic Ocean (`storms`) along with the average water temperature in the Gulf of Mexico in June of that year (`watertemp`), measured as the deviation from average in degrees Fahrenheit.\n",
    "    \n",
    "</div>"
   ]
  },
  {
   "cell_type": "code",
   "execution_count": 4,
   "metadata": {},
   "outputs": [],
   "source": [
    "# your code here\n",
    "\n",
    "df = pd.read_csv('./data/atlanticstorms.csv')\n",
    "#df.head()"
   ]
  },
  {
   "cell_type": "code",
   "execution_count": 5,
   "metadata": {},
   "outputs": [
    {
     "data": {
      "image/png": "[encoded data removed]",
      "text/plain": [
       "<Figure size 432x288 with 1 Axes>"
      ]
     },
     "metadata": {
      "needs_background": "light"
     },
     "output_type": "display_data"
    }
   ],
   "source": [
    "x = df['watertemp']\n",
    "y = df[['storms']]\n",
    "plt.scatter(x, np.log(y),  label = 'log of the storms')\n",
    "plt.xlabel(\"Water temperatures\")\n",
    "plt.ylabel(\"Log of the number of storms\")\n",
    "plt.title(\"Log of the number of storms plotted against the water temperature\")\n",
    "plt.legend()\n",
    "plt.show()"
   ]
  },
  {
   "cell_type": "markdown",
   "metadata": {},
   "source": [
    "**INTERPRETATION:**"
   ]
  },
  {
   "cell_type": "markdown",
   "metadata": {},
   "source": [
    "Given that in the Poisson regression $ E(y|x) = \\mu = \\lambda $ and given that we know from above that $\\lambda = e^{\\theta} = e^{\\eta} = e^{x^{T} \\beta}$, it means that we are dealing with a Generalised Linear Model where:\n",
    "\n",
    "$$ E(y|x)  = e^{x^{T} \\beta} $$\n",
    "\n",
    "Consequently, I plotted the log of y (i.e. the log of the storms), to try to see if there is a linear relationship with X, which seems to be the case from the scatter plot above.\n",
    "\n",
    "If I have to eye-ball and estimate possible $\\beta_{0}$ and $\\beta_{1}$ values, I would say that a reasonable $\\beta_{0}$ could be 1.5 and a reasonable $\\beta_{1}$ could be 0.2.\n",
    "\n",
    "By playing with np.linspace and some possible values, a more possible estimate of $\\beta_{0}$ could be 2.5 and a reasonable $\\beta_{1}$ could be 0.3."
   ]
  },
  {
   "cell_type": "code",
   "execution_count": 6,
   "metadata": {},
   "outputs": [
    {
     "data": {
      "image/png": "[encoded data removed]",
      "text/plain": [
       "<Figure size 432x288 with 1 Axes>"
      ]
     },
     "metadata": {
      "needs_background": "light"
     },
     "output_type": "display_data"
    }
   ],
   "source": [
    "x = df['watertemp']\n",
    "y = df[['storms']]\n",
    "\n",
    "x_linspace = np.linspace(-2, 2, 1000)\n",
    "y_estimate = 2.5 + 0.3*x_linspace\n",
    "\n",
    "plt.scatter(x, np.log(y),  label = 'log of the storms')\n",
    "plt.plot(x_linspace, y_estimate,  label = 'log of the storms')\n",
    "plt.xlabel(\"Water temperatures\")\n",
    "plt.ylabel(\"Log of the number of storms\")\n",
    "plt.title(\"Log of the number of storms plotted against the water temperature\")\n",
    "plt.legend()\n",
    "plt.show()\n",
    "\n"
   ]
  },
  {
   "cell_type": "markdown",
   "metadata": {},
   "source": [
    "<div class='exercise-r'>\n",
    "\n",
    "**1.7** Use your `pois_loglik` function to get the maximum likelihood estimates for $\\beta_0$ and $\\beta_1$ fit to predict `storms` from `watertemp` in the `atlanticstorms.csv` data set.  Be explicit as to the initial starting value you decide on for $\\beta_0$ and $\\beta_1$ (for example, it may match your guesses from the previous part).\n",
    "\n",
    "**Hint:** [scipy.optimize.minimize](https://docs.scipy.org/doc/scipy/reference/generated/scipy.optimize.minimize.html) may be helpful.\n",
    "    \n",
    "</div>"
   ]
  },
  {
   "cell_type": "code",
   "execution_count": 7,
   "metadata": {},
   "outputs": [],
   "source": [
    "beta = np.array([[0.3, 2.5]])\n",
    "\n",
    "x_water = df[['watertemp']]\n",
    "df['ones'] = pd.Series([1 for x in range(len(df.index))])\n",
    "x_water = df[['ones', 'watertemp']]\n",
    "y_storms = df['storms']\n"
   ]
  },
  {
   "cell_type": "code",
   "execution_count": 8,
   "metadata": {},
   "outputs": [
    {
     "data": {
      "text/plain": [
       "355.6284741919554"
      ]
     },
     "execution_count": 8,
     "metadata": {},
     "output_type": "execute_result"
    }
   ],
   "source": [
    "beta = np.array([2.5, 0.3])\n",
    "\n",
    "neg_log = pois_loglik(beta, x_water, y_storms, negative = True)\n",
    "neg_log"
   ]
  },
  {
   "cell_type": "code",
   "execution_count": 9,
   "metadata": {},
   "outputs": [
    {
     "data": {
      "text/plain": [
       "      fun: 351.39135185596575\n",
       " hess_inv: array([[ 3.49245965e-10, -2.03726813e-10],\n",
       "       [-2.03726813e-10,  1.42194892e-04]])\n",
       "      jac: array([3.81469727e-06, 2.28881836e-05])\n",
       "  message: 'Desired error not necessarily achieved due to precision loss.'\n",
       "     nfev: 63\n",
       "      nit: 13\n",
       "     njev: 21\n",
       "   status: 2\n",
       "  success: False\n",
       "        x: array([2.49404109, 0.21303936])"
      ]
     },
     "execution_count": 9,
     "metadata": {},
     "output_type": "execute_result"
    }
   ],
   "source": [
    "minimize(pois_loglik, (2.5,1), args = (x_water, y_storms, True)  )"
   ]
  },
  {
   "cell_type": "code",
   "execution_count": 10,
   "metadata": {},
   "outputs": [],
   "source": [
    "beta1 = 0.21303936\n",
    "beta0 = 2.4944041"
   ]
  },
  {
   "cell_type": "code",
   "execution_count": 11,
   "metadata": {},
   "outputs": [
    {
     "data": {
      "image/png": "[encoded data removed]",
      "text/plain": [
       "<Figure size 432x288 with 1 Axes>"
      ]
     },
     "metadata": {
      "needs_background": "light"
     },
     "output_type": "display_data"
    }
   ],
   "source": [
    "x = df['watertemp']\n",
    "y = df[['storms']]\n",
    "\n",
    "x_linspace = np.linspace(-2, 2, 1000)\n",
    "y_estimate = beta0+ beta1*x_linspace\n",
    "\n",
    "plt.scatter(x, np.log(y),  label = 'log of the storms')\n",
    "plt.plot(x_linspace, y_estimate,  label = 'log of the storms')\n",
    "plt.xlabel(\"Water temperatures\")\n",
    "plt.ylabel(\"Log of the number of storms\")\n",
    "plt.title(\"Log of the number of storms plotted against the water temperature\")\n",
    "plt.legend()\n",
    "plt.show()\n",
    "\n",
    "\n",
    "\n",
    "#print(np.exp(beta0))\n",
    "#print(np.exp(beta1))"
   ]
  },
  {
   "cell_type": "markdown",
   "metadata": {},
   "source": [
    "<div class='exercise-r'>\n",
    "\n",
    "**1.8** Fit the standard linear regression model (feel free to use sklearn) to predict `np.log(storms)` from `watertemp` in the `atlanticstorms.csv` data set.  Compare the estimates for the coefficients in this model to the Poisson regression model.  What do these models say about the association between the number of storms in the Atlantic (on the original scale) and the water temperature in the Gulf of Mexico?\n",
    "\n",
    "**Hint:** It might be useful to plot both model's curve (along with the scatterplot of the data) on the original scale.\n",
    "\n",
    "</div>"
   ]
  },
  {
   "cell_type": "code",
   "execution_count": 12,
   "metadata": {},
   "outputs": [],
   "source": [
    "# your code here\n",
    "from sklearn.model_selection import train_test_split\n",
    "df_train, df_test = train_test_split(\n",
    "    df, test_size=0.2, random_state=121) \n",
    "\n",
    "x_train = df[['watertemp']]\n",
    "y_train = df['storms']\n",
    "\n",
    "x_test = df[['watertemp']]\n",
    "y_test = df['storms']\n",
    "y_test_ln = np.log(y_test)\n",
    "\n",
    "lin_reg = LinearRegression()\n",
    "lin_reg.fit(x_train, np.log(y_train))\n",
    "y_pred_test = lin_reg.predict(x_test)\n"
   ]
  },
  {
   "cell_type": "code",
   "execution_count": 13,
   "metadata": {},
   "outputs": [
    {
     "data": {
      "image/png": "[encoded data removed]",
      "text/plain": [
       "<Figure size 432x288 with 1 Axes>"
      ]
     },
     "metadata": {
      "needs_background": "light"
     },
     "output_type": "display_data"
    },
    {
     "name": "stdout",
     "output_type": "stream",
     "text": [
      "The beta1 out of the linear regression with the log of storms as y is: 0.2936\n",
      "The beta0 out of the linear regression with the log of storms as y is: 2.3826\n",
      "The beta1 out of the linear regression without the log of storms as y is: 1.3412\n",
      "The beta0 out of the linear regression without the log of storms as y is: 10.8335\n"
     ]
    }
   ],
   "source": [
    "#plotting\n",
    "\n",
    "x_linspace = np.linspace(-2, 2, 1000)\n",
    "y_pred_test = lin_reg.predict(x_linspace.reshape(-1,1))\n",
    "\n",
    "beta1 = 0.21303936\n",
    "beta0 = 2.4944041\n",
    "\n",
    "x = df['watertemp']\n",
    "y = df[['storms']]\n",
    "\n",
    "x_linspace = np.linspace(-2, 2, 1000)\n",
    "y_estimate = beta0+ beta1*x_linspace\n",
    "\n",
    "\n",
    "plt.scatter(x, np.exp(np.log(y)),  label = 'original value of the storms')\n",
    "plt.plot(x_linspace, np.exp(y_pred_test), label = 'linear regression')\n",
    "plt.plot(x_linspace, np.exp(y_estimate),  label = 'poisson regression')\n",
    "plt.xlabel(\"Water temperatures\")\n",
    "plt.ylabel(\"Original value of the number of storms\")\n",
    "plt.title(\"Linear regression and poisson regression\")\n",
    "plt.legend()\n",
    "plt.show()\n",
    "\n",
    "\n",
    "print(f\"The beta1 out of the linear regression with the log of storms as y is: { lin_reg.coef_[0]:.4f}\")\n",
    "print(f\"The beta0 out of the linear regression with the log of storms as y is: {lin_reg.intercept_:.4f}\")\n",
    "\n",
    "print(f\"The beta1 out of the linear regression without the log of storms as y is: {np.exp(lin_reg.coef_)[0]:.4f}\")\n",
    "print(f\"The beta0 out of the linear regression without the log of storms as y is: {np.exp(lin_reg.intercept_):.4f}\")\n",
    "\n",
    "\n",
    "#one unit deviation of the water temp, is equivalent to 1 extra storm (where the 1 comes from the exp of the beta 1)"
   ]
  },
  {
   "cell_type": "markdown",
   "metadata": {},
   "source": [
    "**INTERPRETATION:**"
   ]
  },
  {
   "cell_type": "markdown",
   "metadata": {},
   "source": [
    "The linear regression indicates a different relationship between water temperature and the number of storms is stronger compared to the relationship that the poisson regression indicates. Both models say that the higher the water temperatures, the higher the number of storms. However, the poisson says that less than the linear regression model.\n",
    "\n",
    "The linear regression estimates a different relationship between the water temperature and the number of storms because we know that the count of tropical storms in a given year is poisson distributed, and not normally distributed."
   ]
  },
  {
   "cell_type": "markdown",
   "metadata": {},
   "source": [
    "#### THE END"
   ]
  },
  {
   "cell_type": "code",
   "execution_count": null,
   "metadata": {},
   "outputs": [],
   "source": []
  }
 ],
 "metadata": {
  "kernelspec": {
   "display_name": "Python 3",
   "language": "python",
   "name": "python3"
  },
  "language_info": {
   "codemirror_mode": {
    "name": "ipython",
    "version": 3
   },
   "file_extension": ".py",
   "mimetype": "text/x-python",
   "name": "python",
   "nbconvert_exporter": "python",
   "pygments_lexer": "ipython3",
   "version": "3.9.5"
  }
 },
 "nbformat": 4,
 "nbformat_minor": 4
}
